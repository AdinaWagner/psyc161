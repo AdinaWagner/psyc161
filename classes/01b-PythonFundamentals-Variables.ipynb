{
 "metadata": {
  "name": "",
  "signature": "sha256:c906ee101977b719505204c92f5e16918af4da228f77d970f8ab84bd4ae89181"
 },
 "nbformat": 3,
 "nbformat_minor": 0,
 "worksheets": [
  {
   "cells": [
    {
     "cell_type": "heading",
     "level": 1,
     "metadata": {
      "slideshow": {
       "slide_type": "slide"
      }
     },
     "source": [
      "Hands-on: Python Fundamentals -- Types, Variables, and Operations"
     ]
    },
    {
     "cell_type": "heading",
     "level": 2,
     "metadata": {},
     "source": [
      "Objectives"
     ]
    },
    {
     "cell_type": "markdown",
     "metadata": {
      "slideshow": {
       "slide_type": "slide"
      }
     },
     "source": [
      "Upon completion of this lesson, you should be able to:\n",
      "\n",
      "1. Execute Python commands and scripts\n",
      "\n",
      "2. Identify the data types and keywords in the Python language\n",
      "\n",
      "3. Understand how variable assignment works in Python\n",
      "\n",
      "4. Identify and use math, string, and comparison operators"
     ]
    },
    {
     "cell_type": "heading",
     "level": 2,
     "metadata": {},
     "source": [
      "Commands (AKA instructions)"
     ]
    },
    {
     "cell_type": "markdown",
     "metadata": {
      "slideshow": {
       "slide_type": "slide"
      }
     },
     "source": [
      "* A command or instruction tells the computer to take some action\n",
      "* Commands have a syntax"
     ]
    },
    {
     "cell_type": "code",
     "collapsed": false,
     "input": [
      "3 + 7   # good\n",
      "3 7 +   # bad"
     ],
     "language": "python",
     "metadata": {},
     "outputs": []
    },
    {
     "cell_type": "markdown",
     "metadata": {},
     "source": [
      "* In Python, commands are *interpreted*, Python is a high level interpreted programming language: Python **interpreter** reads a program and executes it `line by line`.  So it becomes possible to use Python interactively (like we do here in the IPython notebook):\n",
      "\n",
      "![](http://www.greenteapress.com/thinkpython/thinkCSpy/html/illustrations/interpret.png)\n",
      "\n",
      "Compare with compiled languages:\n",
      "\n",
      "![](http://www.greenteapress.com/thinkpython/thinkCSpy/html/illustrations/compile.png)\n",
      "\n",
      "where the entire program needs to be commpiled first.\n"
     ]
    },
    {
     "cell_type": "heading",
     "level": 2,
     "metadata": {},
     "source": [
      "Programs"
     ]
    },
    {
     "cell_type": "markdown",
     "metadata": {},
     "source": [
      "\n",
      "\n",
      "* \n",
      "A program is a sequence of commands\n",
      "* Input\n",
      "* Output\n",
      "* Math and data manipulation\n",
      "* Conditional execution\n",
      "* Repetition"
     ]
    },
    {
     "cell_type": "heading",
     "level": 2,
     "metadata": {},
     "source": [
      "Scripts"
     ]
    },
    {
     "cell_type": "markdown",
     "metadata": {},
     "source": [
      "A script is a file that contains a program in a high-level language for an interpreter.  In other words -- it is a program written in interpretable language and intended for execution (as opposed as re-use in some other program).  Let's start with the mighty script everyone must have written at least 10 times in their lives.  It should just perform following action"
     ]
    },
    {
     "cell_type": "code",
     "collapsed": false,
     "input": [
      "print('Hello, World!')"
     ],
     "language": "python",
     "metadata": {},
     "outputs": []
    },
    {
     "cell_type": "markdown",
     "metadata": {},
     "source": [
      "which we will write into a file (could be done in an editor, or right here here with the %%file IPython *magic* command)"
     ]
    },
    {
     "cell_type": "code",
     "collapsed": false,
     "input": [
      "%%file HelloWorld.py\n",
      "#!/usr/bin/env python\n",
      "print('Hello, World!')"
     ],
     "language": "python",
     "metadata": {},
     "outputs": []
    },
    {
     "cell_type": "markdown",
     "metadata": {},
     "source": [
      "so it could later be re-executed over and over again.  `#!/usr/bin/env python` in above script is called a \"shebang\" which defines for \\*nix systems on what would be the interpreter.  Windows uses solely extension of the file (`.py`) to define how to treat it.\n",
      "\n",
      "So let's execute it now.  We could do that directly in IPython shell with"
     ]
    },
    {
     "cell_type": "code",
     "collapsed": false,
     "input": [
      "%run HelloWorld.py"
     ],
     "language": "python",
     "metadata": {},
     "outputs": []
    },
    {
     "cell_type": "markdown",
     "metadata": {},
     "source": [
      "or outside in a shell, after we give it executable permissions"
     ]
    },
    {
     "cell_type": "code",
     "collapsed": false,
     "input": [
      "!chmod a+x ./HelloWorld.py"
     ],
     "language": "python",
     "metadata": {},
     "outputs": []
    },
    {
     "cell_type": "code",
     "collapsed": false,
     "input": [
      "!./HelloWorld.py"
     ],
     "language": "python",
     "metadata": {},
     "outputs": []
    },
    {
     "cell_type": "markdown",
     "metadata": {},
     "source": [
      "- - -\n",
      "**Exercise**\n",
      "\n",
      "Do not blindly believe me/IPython -- open a terminal, follow to the path where this notebook is, attempt to run that script from within shell.\n",
      "\n",
      "Then run `ipython` command to end up in a *classical* IPython shell - replicate above `%run` command."
     ]
    },
    {
     "cell_type": "heading",
     "level": 2,
     "metadata": {},
     "source": [
      "Interactive Script"
     ]
    },
    {
     "cell_type": "code",
     "collapsed": false,
     "input": [
      "%%file Hello.py\n",
      "name = raw_input('What is your name? ')\n",
      "print('Hello, ' + name)"
     ],
     "language": "python",
     "metadata": {},
     "outputs": []
    },
    {
     "cell_type": "code",
     "collapsed": false,
     "input": [
      "%run Hello.py"
     ],
     "language": "python",
     "metadata": {},
     "outputs": []
    },
    {
     "cell_type": "code",
     "collapsed": false,
     "input": [
      "!chmod +x Hello.py; ./Hello.py"
     ],
     "language": "python",
     "metadata": {},
     "outputs": []
    },
    {
     "cell_type": "markdown",
     "metadata": {},
     "source": [
      "- - -\n",
      "**Miniquiz**\n",
      "\n",
      "What just happened?  Why *it didn't work*?  Fix it!\n",
      "- - -"
     ]
    },
    {
     "cell_type": "heading",
     "level": 2,
     "metadata": {},
     "source": [
      "Data types"
     ]
    },
    {
     "cell_type": "markdown",
     "metadata": {},
     "source": [
      "* Built-in\n",
      "  * Numeric types:\n",
      "    * **int**, **float**, **long**, complex\n",
      "  * **str**ing (also unicode, but tssss for now)\n",
      "  * **bool**ean\n",
      "    * True / False\n",
      "  * **NoneType**\n",
      "  * Containers (to come later)\n",
      "    * list\n",
      "    * tuple\n",
      "    * dict\n",
      "* User defined"
     ]
    },
    {
     "cell_type": "heading",
     "level": 2,
     "metadata": {},
     "source": [
      "Data types (cont.)"
     ]
    },
    {
     "cell_type": "markdown",
     "metadata": {},
     "source": [
      "* Use the type() function to find the type for a value or variable\n",
      "* Data can be converted using cast commands"
     ]
    },
    {
     "cell_type": "code",
     "collapsed": false,
     "input": [
      "a = 17\n",
      "print(type(a))\n",
      "\n",
      "b = str(a)\n",
      "print(type(b))"
     ],
     "language": "python",
     "metadata": {},
     "outputs": []
    },
    {
     "cell_type": "markdown",
     "metadata": {},
     "source": [
      "And data/variables of different types might not play together"
     ]
    },
    {
     "cell_type": "code",
     "collapsed": false,
     "input": [
      "print a + b"
     ],
     "language": "python",
     "metadata": {},
     "outputs": []
    },
    {
     "cell_type": "markdown",
     "metadata": {},
     "source": [
      "- - -\n",
      "\n",
      "**Excercise**\n",
      "\n",
      "Create a new code cell below (press 'b') and answer following questions, but first try to guess\n",
      "\n",
      "1. what is type('17')? \n",
      "\n",
      "2. what is type(17)?\n",
      "\n",
      "3. what is type(17.0)?\n",
      "\n",
      "4. what is type(1,000)?\n",
      "\n",
      "5. what is type(None)?\n",
      "\n",
      "6. what is type({})?\n",
      "\n",
      "7. what is type({1})?\n",
      "\n",
      "8. what is type(())?\n",
      "\n",
      "- - -"
     ]
    },
    {
     "cell_type": "heading",
     "level": 2,
     "metadata": {},
     "source": [
      "Variables"
     ]
    },
    {
     "cell_type": "markdown",
     "metadata": {},
     "source": [
      "* As in mathematics, much of the power of computer programs is in the use of variables\n",
      "\n",
      "* Python variables are identified by name\n",
      "\n",
      "**Variable naming conventions**\n",
      "\n",
      "* Must start with a letter\n",
      "* Can contain letters, numbers, and underscore character (_)\n",
      "* Can be any (reasonable) length\n",
      "* Case sensitive\n",
      "    * big is NOT the same as BIG"
     ]
    },
    {
     "cell_type": "heading",
     "level": 2,
     "metadata": {},
     "source": [
      "Naming style guidelines"
     ]
    },
    {
     "cell_type": "markdown",
     "metadata": {},
     "source": [
      "* Use descriptive names\n",
      "* Use lowercase with underscores for variable names\n",
      "    * pres_rate\n",
      "    * word_stim\n",
      "* Don't use \"I\", \"l\", or \"O\" for single letter names\n",
      "* Be consistent\n",
      "    * Except when it makes code easier to read\n",
      "* **Better to spend few minutes thinking about a good variable name, than spend hours later renaming/debugging**\n"
     ]
    },
    {
     "cell_type": "heading",
     "level": 2,
     "metadata": {},
     "source": [
      "Keywords"
     ]
    },
    {
     "cell_type": "markdown",
     "metadata": {},
     "source": [
      "You **cannot** use any of the keywords for variable names\n",
      "\n",
      "       and       del       for       is        raise\n",
      "       assert    elif      from      lambda    return\n",
      "       break     else      global    not       try\n",
      "       class     except    if        or        while\n",
      "       continue  exec      import    pass      yield\n",
      "       def       finally   in        print"
     ]
    },
    {
     "cell_type": "markdown",
     "metadata": {},
     "source": [
      "You **should not** use any name which is also defined in `__builtin__` module"
     ]
    },
    {
     "cell_type": "code",
     "collapsed": false,
     "input": [
      "print dir(__builtin__)"
     ],
     "language": "python",
     "metadata": {},
     "outputs": []
    },
    {
     "cell_type": "markdown",
     "metadata": {},
     "source": [
      "\n",
      "* Variables can be created at any time (no need to declare them)\n",
      "\n",
      "* The Python interpreter keeps track of the namespace\n",
      "\n",
      "* Variable names are actully pointers to memory locations\n",
      "\n",
      "* Two (or more) variables can refer to the same memory location"
     ]
    },
    {
     "cell_type": "code",
     "collapsed": false,
     "input": [
      "a = \"Howdy\"\n",
      "b = a\n",
      "a is b"
     ],
     "language": "python",
     "metadata": {},
     "outputs": []
    },
    {
     "cell_type": "markdown",
     "metadata": {},
     "source": [
      "- - -\n",
      "\n",
      "**Excercise**\n",
      "\n",
      "Try to define a variable with \"illegal\" names by\n",
      "- reusing a keyword\n",
      "- starting with a number\n",
      "What kind of error you would receive?\n",
      "\n",
      "Try to define a variable with a name which \"shadows\" the name from `__builtin__` module -- will there be an error message?"
     ]
    },
    {
     "cell_type": "code",
     "collapsed": false,
     "input": [
      "# Type your solution here"
     ],
     "language": "python",
     "metadata": {},
     "outputs": []
    },
    {
     "cell_type": "heading",
     "level": 2,
     "metadata": {},
     "source": [
      "Math operators"
     ]
    },
    {
     "cell_type": "markdown",
     "metadata": {},
     "source": [
      "* Arithmetic\n",
      "    * +, -, *, and /\n",
      "    * Exponentiation **\n",
      "    * Modulo %\n",
      "* Standard order of operations (**PEMDAS**)\n",
      "    * **P**  Parentheses first\n",
      "    * **E**  Exponents (ie Powers and Square Roots, etc.)\n",
      "    * **MD** Multiplication and Division (left-to-right)\n",
      "    * **AS** Addition and Subtraction (left-to-right)"
     ]
    },
    {
     "cell_type": "heading",
     "level": 2,
     "metadata": {},
     "source": [
      "Math operators (examples)"
     ]
    },
    {
     "cell_type": "markdown",
     "metadata": {},
     "source": [
      "The most logical is to apply *math* operators to numeric types, and your Python (or IPython) shell can therefore replace your pocket calculator, with the basic arithmetic operations `+`, `-`, `*`, `/`, `**`, `%` (modulo)\n",
      "natively implemented:"
     ]
    },
    {
     "cell_type": "code",
     "collapsed": false,
     "input": [
      "3 + 10 * 2"
     ],
     "language": "python",
     "metadata": {},
     "outputs": []
    },
    {
     "cell_type": "code",
     "collapsed": false,
     "input": [
      "(3 + 10) * 2"
     ],
     "language": "python",
     "metadata": {},
     "outputs": []
    },
    {
     "cell_type": "code",
     "collapsed": false,
     "input": [
      "3 + 10 ** 2"
     ],
     "language": "python",
     "metadata": {},
     "outputs": []
    },
    {
     "cell_type": "code",
     "collapsed": false,
     "input": [
      "(3 + 10) / 2"
     ],
     "language": "python",
     "metadata": {},
     "outputs": []
    },
    {
     "cell_type": "code",
     "collapsed": false,
     "input": [
      "(3.0 + 10) / 2"
     ],
     "language": "python",
     "metadata": {},
     "outputs": []
    },
    {
     "cell_type": "code",
     "collapsed": false,
     "input": [
      "5 % 3 # Modulo returns remained from the division"
     ],
     "language": "python",
     "metadata": {},
     "outputs": []
    },
    {
     "cell_type": "markdown",
     "metadata": {},
     "source": [
      "Interestingly *int* type in Python is virtually unlimited and after some becomes *long*"
     ]
    },
    {
     "cell_type": "code",
     "collapsed": false,
     "input": [
      "2**62"
     ],
     "language": "python",
     "metadata": {},
     "outputs": []
    },
    {
     "cell_type": "code",
     "collapsed": false,
     "input": [
      "type(2**62)"
     ],
     "language": "python",
     "metadata": {},
     "outputs": []
    },
    {
     "cell_type": "code",
     "collapsed": false,
     "input": [
      "2**63"
     ],
     "language": "python",
     "metadata": {},
     "outputs": []
    },
    {
     "cell_type": "code",
     "collapsed": false,
     "input": [
      "print type(2**128)"
     ],
     "language": "python",
     "metadata": {},
     "outputs": []
    },
    {
     "cell_type": "code",
     "collapsed": false,
     "input": [
      "2**1024"
     ],
     "language": "python",
     "metadata": {},
     "outputs": []
    },
    {
     "cell_type": "markdown",
     "metadata": {},
     "source": [
      "In comparison *float* numbers have finite precision"
     ]
    },
    {
     "cell_type": "code",
     "collapsed": false,
     "input": [
      "10000 + 0.000000000001"
     ],
     "language": "python",
     "metadata": {},
     "outputs": []
    },
    {
     "cell_type": "markdown",
     "metadata": {},
     "source": [
      "- - -\n",
      "\n",
      "**Excercise**\n",
      "\n",
      "The volume of a sphere with radius r is $4/3 \u03c0 r^3$. What is the volume of a sphere with radius 5?\n",
      "\n",
      "\n",
      "**\ufffc\ufffcHint:** The variable `pi` is already in known to this IPython shell. "
     ]
    },
    {
     "cell_type": "code",
     "collapsed": false,
     "input": [
      "# Type your solution here"
     ],
     "language": "python",
     "metadata": {},
     "outputs": []
    },
    {
     "cell_type": "markdown",
     "metadata": {},
     "source": [
      "- - -\n",
      "\n",
      "**Challenge Excercise #1**\n",
      "\n",
      "- If you type an integer with a leading zero, you might get a confusing error (e.g. try 038).  Why?  **Hint**: try printing 01, 010, 0100 numbers\n",
      "\n",
      "- If you type an integer leading with `0x`, what numbers will you be typing?"
     ]
    },
    {
     "cell_type": "markdown",
     "metadata": {},
     "source": [
      "- - -\n",
      "**Challenge Exercise #2**\n",
      "\n",
      "* **Problem**:  it is necessary to swap numeric values between the two variables without using this Python \"trick\" (`a,b = b,a`) and without using some other temporary helper variable.  How to do it -- demonstrate.\n"
     ]
    },
    {
     "cell_type": "heading",
     "level": 2,
     "metadata": {},
     "source": [
      "String operators"
     ]
    },
    {
     "cell_type": "markdown",
     "metadata": {},
     "source": [
      "Some of the arithmetic operators have also meaning for strings. E.g. for string concatenation use `+` sign"
     ]
    },
    {
     "cell_type": "code",
     "collapsed": false,
     "input": [
      "print 'this' + ' is a string'"
     ],
     "language": "python",
     "metadata": {},
     "outputs": []
    },
    {
     "cell_type": "markdown",
     "metadata": {},
     "source": [
      "String repetition: Use `*` sign with a number of repetitions"
     ]
    },
    {
     "cell_type": "code",
     "collapsed": false,
     "input": [
      "lunch = 'Spam ' * 4\n",
      "print lunch"
     ],
     "language": "python",
     "metadata": {},
     "outputs": []
    },
    {
     "cell_type": "markdown",
     "metadata": {},
     "source": [
      "And modulo `%` operand has its own meanining for strings:"
     ]
    },
    {
     "cell_type": "code",
     "collapsed": false,
     "input": [
      "var = 10\n",
      "\"Value of %s is %d\" % (\"var\", var)"
     ],
     "language": "python",
     "metadata": {},
     "outputs": []
    },
    {
     "cell_type": "markdown",
     "metadata": {},
     "source": [
      "but such usage of `%` with strings is slowly being replaced in favor of more flexible `.format()`"
     ]
    },
    {
     "cell_type": "code",
     "collapsed": false,
     "input": [
      "\"Value of {} is {}\".format(\"var\", var)"
     ],
     "language": "python",
     "metadata": {},
     "outputs": []
    },
    {
     "cell_type": "markdown",
     "metadata": {},
     "source": [
      "which we will preferably use in our code."
     ]
    },
    {
     "cell_type": "markdown",
     "metadata": {},
     "source": [
      "- - -\n",
      "\n",
      "**Note**\n",
      "We will come back to string formatting, but if you are leaping ahead, just check out [Format String Syntax](https://docs.python.org/2/library/string.html#format-string-syntax) and [Examples](https://docs.python.org/2/library/string.html#format-examples) there in"
     ]
    },
    {
     "cell_type": "heading",
     "level": 2,
     "metadata": {},
     "source": [
      "Comparison operators"
     ]
    },
    {
     "cell_type": "markdown",
     "metadata": {},
     "source": [
      "* Perform logical comparison and return Boolean value\n",
      "    * Equality    ==\n",
      "    * Inequality  <>   or !=\n",
      "    * Relative value < > <= >=\n",
      "    * is"
     ]
    },
    {
     "cell_type": "code",
     "collapsed": false,
     "input": [
      "# play here -- compare things with other things"
     ],
     "language": "python",
     "metadata": {},
     "outputs": []
    },
    {
     "cell_type": "code",
     "collapsed": false,
     "input": [
      "print(2 < '2') # but beware for gotcha in Python 2.x!"
     ],
     "language": "python",
     "metadata": {},
     "outputs": []
    },
    {
     "cell_type": "code",
     "collapsed": false,
     "input": [
      "print sorted(range(12) + list('abc'))"
     ],
     "language": "python",
     "metadata": {},
     "outputs": []
    },
    {
     "cell_type": "code",
     "collapsed": false,
     "input": [
      "!python3 -c 'print(2<\"2\")'"
     ],
     "language": "python",
     "metadata": {},
     "outputs": []
    },
    {
     "cell_type": "heading",
     "level": 2,
     "metadata": {},
     "source": [
      "Warning! Integer division"
     ]
    },
    {
     "cell_type": "markdown",
     "metadata": {},
     "source": [
      "Integer division may not be what you expect in Python 2.x"
     ]
    },
    {
     "cell_type": "code",
     "collapsed": false,
     "input": [
      "3 / 2\n",
      "1"
     ],
     "language": "python",
     "metadata": {},
     "outputs": []
    },
    {
     "cell_type": "markdown",
     "metadata": {},
     "source": [
      "\n",
      "\n",
      "**Trick**: use floats:"
     ]
    },
    {
     "cell_type": "code",
     "collapsed": false,
     "input": [
      "a = 3\n",
      "b = 2\n",
      "print(a / b)\n",
      "print(a / float(b))"
     ],
     "language": "python",
     "metadata": {},
     "outputs": []
    }
   ],
   "metadata": {}
  }
 ]
}