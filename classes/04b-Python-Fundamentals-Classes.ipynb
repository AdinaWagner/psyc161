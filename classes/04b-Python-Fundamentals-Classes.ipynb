{
 "metadata": {
  "name": "",
  "signature": "sha256:5a41f280d55387a79db5e4f25cfa2fd52ccf19e15fbabc4755b38eed7d9c1efc"
 },
 "nbformat": 3,
 "nbformat_minor": 0,
 "worksheets": [
  {
   "cells": [
    {
     "cell_type": "heading",
     "level": 1,
     "metadata": {},
     "source": [
      "Hands-on: Python Fundamentals -- Classes (or OOP 101)"
     ]
    },
    {
     "cell_type": "markdown",
     "metadata": {},
     "source": [
      "**Objectives:**\n",
      "\n",
      "Upon completion of this lesson, you should be able to\n",
      "\n",
      "1. State the purpose of using *classes*\n",
      "\n",
      "2. Get basic ideas about attributes, methods and inheritance\n",
      "\n",
      "3. Understand difference between having a \"class\" and an \"instance\" of a class"
     ]
    },
    {
     "cell_type": "heading",
     "level": 3,
     "metadata": {},
     "source": [
      "Purpose of using classes"
     ]
    },
    {
     "cell_type": "markdown",
     "metadata": {},
     "source": [
      "To bring common functionality and data into an \"object\" `instance` of that `class`.\n",
      "\n",
      "* It is very similar to how `functions` were used to encapsulate commonly reused code\n",
      "\n",
      "* `classes` encapsulate commonly reused functions and data structures:  if you see multiple functions operating on the same data structured -- might be a good time time to bring them into a class\n",
      "\n",
      "* `classes` provide [polymorphism](http://en.wikipedia.org/wiki/Object-oriented_programming#Fundamental_features_and_concepts): the same method (consider -- function for now) could provide different functionality depending of the object (i.e. instance of a class) it belongs to"
     ]
    },
    {
     "cell_type": "heading",
     "level": 3,
     "metadata": {},
     "source": [
      "Overreaching example"
     ]
    },
    {
     "cell_type": "code",
     "collapsed": false,
     "input": [
      "class Participant(object):\n",
      "    \"\"\"A class representing a participant of the experiment\n",
      "    \n",
      "    Intended use is to ... [here very long description follows]\n",
      "    \"\"\"\n",
      "\n",
      "    def __init__(self, name, age, gender):\n",
      "        \"\"\"...\"\"\"\n",
      "        self.name = name\n",
      "        self.age = age\n",
      "        assert(gender in ('male', 'female'))\n",
      "        self.gender = gender\n",
      "  \n",
      "    \n",
      "    def speak(self, msg=\"that he has nothing to say\"):\n",
      "        \"\"\"Make our creation speak\n",
      "        \n",
      "        Parameters\n",
      "        ----------\n",
      "        msg: string, optional\n",
      "          Message we want our participant to deliver\n",
      "        \"\"\"\n",
      "        print \"%s says %s\" % (self.name, msg)"
     ],
     "language": "python",
     "metadata": {},
     "outputs": []
    },
    {
     "cell_type": "markdown",
     "metadata": {},
     "source": [
      "* We just now defined a `class` to represent a participant of an experiment, which binds together information about the participant (name, age) and his possible actions which would reuse that information, as in this case `speak` method.\n",
      "\n",
      "* You can consider methods (such as `__init__` and `speak`) just to be functions \"bound\" to a class.\n",
      "\n",
      "* `class` -- like a function definition -- just defines how it would look/behave but doesn't \"execute\".  We need to instantiate objects of that class by calling it with arguments defined in its `__init__` method omitting `self`, which stands for that instance itself:"
     ]
    },
    {
     "cell_type": "code",
     "collapsed": false,
     "input": [
      "joe = Participant(\"Joe Smith\", 27, \"male\")\n",
      "martha = Participant(\"Joe Smith\", 23, \"female\")\n",
      "print joe\n",
      "print joe.age, martha.age"
     ],
     "language": "python",
     "metadata": {},
     "outputs": []
    },
    {
     "cell_type": "markdown",
     "metadata": {},
     "source": [
      "* `__main__` in above just states that it is defined within module (next topic) `__main__` which is where we are in now ;)\n",
      "\n",
      "* We could verify that whatever variable we have is indeed a `Participant` by using `isinstance`:"
     ]
    },
    {
     "cell_type": "code",
     "collapsed": false,
     "input": [
      "isinstance(joe, Participant)"
     ],
     "language": "python",
     "metadata": {},
     "outputs": []
    },
    {
     "cell_type": "markdown",
     "metadata": {},
     "source": [
      "* as you can see,  by default printout of an object is quite boring"
     ]
    },
    {
     "cell_type": "code",
     "collapsed": false,
     "input": [
      "print Participant\n",
      "print joe, martha"
     ],
     "language": "python",
     "metadata": {},
     "outputs": []
    },
    {
     "cell_type": "markdown",
     "metadata": {},
     "source": [
      "so we could improve our class definition by providing `__str__` method:"
     ]
    },
    {
     "cell_type": "code",
     "collapsed": false,
     "input": [
      "class Participant(object):\n",
      "    \"\"\"...\"\"\"\n",
      "    def __init__(self, name, age, gender):\n",
      "        \"\"\"...\"\"\"\n",
      "        self.name = name\n",
      "        self.age = age\n",
      "        assert(gender in ('male', 'female'))\n",
      "        self.gender = gender\n",
      "\n",
      "    def __str__(self):\n",
      "        return \"%s (%s) of %d years\" % (self.name, self.gender, self.age)\n",
      "    \n",
      "    def __repr__(self):\n",
      "        return \"Participant%r\" % ((self.name, self.age, self.gender),)\n",
      "    \n",
      "    def speak(self, msg=\"that he has nothing to say\"):\n",
      "        \"\"\"Make our creation speak\n",
      "        \n",
      "        Parameters\n",
      "        ----------\n",
      "        msg: string, optional\n",
      "          Message we want our participant to deliver\n",
      "        \"\"\"\n",
      "        print \"%s says %s\" % (self.name, msg)"
     ],
     "language": "python",
     "metadata": {},
     "outputs": []
    },
    {
     "cell_type": "code",
     "collapsed": false,
     "input": [
      "joe = Participant(\"Joe Smith\", 27, \"male\")\n",
      "martha = Participant(\"Martha Thebest\", 23, \"female\")\n",
      "\n",
      "print joe\n",
      "print martha"
     ],
     "language": "python",
     "metadata": {},
     "outputs": []
    },
    {
     "cell_type": "markdown",
     "metadata": {},
     "source": [
      "Also in the above example I have defined `__repr__` method which is usually used to provide \"representation\" of an object, so `ideally` a similar one could be recreated from the same representation.  As in example above \"%r\" formatting stands for \"repr\"esentation which also could be obtained calling `repr` function:"
     ]
    },
    {
     "cell_type": "code",
     "collapsed": false,
     "input": [
      "print repr(joe)\n",
      "joe"
     ],
     "language": "python",
     "metadata": {},
     "outputs": []
    },
    {
     "cell_type": "markdown",
     "metadata": {},
     "source": [
      "- - -\n",
      "**Note** that print uses `str` while ipython notebook presents you with the `repr` of the last result"
     ]
    },
    {
     "cell_type": "markdown",
     "metadata": {},
     "source": [
      "- - -\n",
      "**Excercise**\n",
      "\n",
      "1. In above class definition, define method `younger_than(self, someone_else)` method which would return True if this Participant is younger than given `someone_else`\n",
      "\n",
      "2. Lets imagine we have > 1 participant, which we placed into a list and we want them by default sort according to the age.  Rename `younger_than` to `__lt__` method.  Give this list to the `sorted` function\n",
      "\n",
      "3. Examine attributes Participant class (and its instances) provide, using e.g. `dir` function\n",
      "\n",
      "4. examine the type of  Participant.speak and an instance (e.g. joe) .speak  methods -- how do they differ"
     ]
    },
    {
     "cell_type": "heading",
     "level": 3,
     "metadata": {},
     "source": [
      "Custom \"behavior\" during operations"
     ]
    },
    {
     "cell_type": "markdown",
     "metadata": {},
     "source": [
      "A very powerful and interesting feature of classes is that, similarly to the comparison example above, we can equip them with other `__...__` methods to understand any operation (e.g. -, +, &, ...), comparison, access to its attributes, etc.  See [this nice post](http://www.rafekettler.com/magicmethods.html) about many of such magical methods.  Most commonly you might find classes define `__getitem__` (for `instance[index]` access) and `__call__` (for \"calling\" instance as a function, i.e. `instance(args)`)."
     ]
    },
    {
     "cell_type": "heading",
     "level": 3,
     "metadata": {},
     "source": [
      "Inheritance"
     ]
    },
    {
     "cell_type": "markdown",
     "metadata": {},
     "source": [
      "Another very powerful feature of classes is their ability to inherit from another class.  Usually inherited class extends amount of attributes it carries and/or provides different extended or just changed functionality in comparison to its \"parent\" class.\n",
      "\n",
      "E.g. if we decided to work with patients from the hospital we can derive from our class a new class:"
     ]
    },
    {
     "cell_type": "code",
     "collapsed": false,
     "input": [
      "class PatientParticipant(Participant):\n",
      "    \"\"\"Participant of the experiment who is currently hospitalized\n",
      "    \"\"\"\n",
      "\n",
      "    def __init__(self, name, age, gender, hospital):\n",
      "        \"\"\"...\"\"\"\n",
      "        super(PatientParticipant, self).__init__(name, age, gender)\n",
      "        self.hospital = hospital\n",
      "    \n",
      "    def speak(self, msg=\"life sucks\"):\n",
      "        \"\"\"... you would need to provide docstring here as well \"\"\"\n",
      "        super(PatientParticipant, self).speak(msg)"
     ],
     "language": "python",
     "metadata": {},
     "outputs": []
    },
    {
     "cell_type": "code",
     "collapsed": false,
     "input": [
      "bill = PatientParticipant(\"Bill Thestrongest\", 20, \"female\", \"DHMC\")\n",
      "joe.speak()\n",
      "bill.speak()"
     ],
     "language": "python",
     "metadata": {},
     "outputs": []
    },
    {
     "cell_type": "markdown",
     "metadata": {},
     "source": [
      "and still benefit from the common among them functionality, such as e.g. the comparison operation which we provided:"
     ]
    },
    {
     "cell_type": "code",
     "collapsed": false,
     "input": [
      "print sorted([joe, bill, martha])"
     ],
     "language": "python",
     "metadata": {},
     "outputs": []
    },
    {
     "cell_type": "heading",
     "level": 2,
     "metadata": {},
     "source": [
      "Closing remarks"
     ]
    },
    {
     "cell_type": "markdown",
     "metadata": {},
     "source": [
      "* This was just a brief introduction into OOP, and by no means was intended to be exhaustive.  But now you must not be scared when you see a `class` definition in someone's code and understand where custom functionality might be coming from.\n",
      "\n",
      "* It might not come as a surprise that many of the \"built-in\"s we have explored already are in fact classes and even have a common ancessor: "
     ]
    },
    {
     "cell_type": "code",
     "collapsed": false,
     "input": [
      "isinstance(list, object)"
     ],
     "language": "python",
     "metadata": {},
     "outputs": []
    },
    {
     "cell_type": "code",
     "collapsed": false,
     "input": [
      "isinstance(int, object)"
     ],
     "language": "python",
     "metadata": {},
     "outputs": []
    },
    {
     "cell_type": "code",
     "collapsed": false,
     "input": [
      "isinstance(type, object)"
     ],
     "language": "python",
     "metadata": {},
     "outputs": []
    },
    {
     "cell_type": "markdown",
     "metadata": {},
     "source": [
      "so you could subclass them as well, happen you come up with such an urge."
     ]
    }
   ],
   "metadata": {}
  }
 ]
}