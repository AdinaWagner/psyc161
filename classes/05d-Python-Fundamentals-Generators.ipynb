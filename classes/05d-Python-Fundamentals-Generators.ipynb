{
 "metadata": {
  "name": "",
  "signature": "sha256:017988aca612cfca526a5fe3111760e9e266e74feb925201abe9115d4680eaf3"
 },
 "nbformat": 3,
 "nbformat_minor": 0,
 "worksheets": [
  {
   "cells": [
    {
     "cell_type": "heading",
     "level": 1,
     "metadata": {},
     "source": [
      "Hands-on: Python Fundamentals -- Generators"
     ]
    },
    {
     "cell_type": "markdown",
     "metadata": {},
     "source": [
      "**Objectives:**\n",
      "\n",
      "Upon completion of this lesson, you should be able to\n",
      "\n",
      "1. State the purpose of having generators\n",
      "\n",
      "2. Understand how they function\n",
      "\n",
      "3. Know about built-in generators\n",
      "\n",
      "4. Know how to create your own"
     ]
    },
    {
     "cell_type": "heading",
     "level": 3,
     "metadata": {},
     "source": [
      "Purpose of Generators"
     ]
    }
   ],
   "metadata": {}
  }
 ]
}