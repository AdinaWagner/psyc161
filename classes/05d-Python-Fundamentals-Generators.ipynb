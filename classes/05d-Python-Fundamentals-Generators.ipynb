{
 "metadata": {
  "name": "",
  "signature": "sha256:3f0f3d213e936abc1ffc4e71b56338c0a9af2867bedd91873a74f3eb1adfb9b7"
 },
 "nbformat": 3,
 "nbformat_minor": 0,
 "worksheets": [
  {
   "cells": [
    {
     "cell_type": "heading",
     "level": 1,
     "metadata": {},
     "source": [
      "Hands-on: Python Fundamentals -- Generators"
     ]
    },
    {
     "cell_type": "markdown",
     "metadata": {},
     "source": [
      "**Objectives:**\n",
      "\n",
      "Upon completion of this lesson, you should be able to\n",
      "\n",
      "1. State the purpose of having generators\n",
      "\n",
      "2. Understand how they function\n",
      "\n",
      "3. Know about built-in generators\n",
      "\n",
      "4. Know how to create your own"
     ]
    },
    {
     "cell_type": "heading",
     "level": 2,
     "metadata": {},
     "source": [
      "Segway: Iterables and Iterators"
     ]
    },
    {
     "cell_type": "markdown",
     "metadata": {},
     "source": [
      "We already saw quite a few [iterables](https://docs.python.org/2/glossary.html#term-iterable).\n",
      "\n",
      "**Question**: which ones?\n",
      "\n",
      "And we used **for** loop and comprehensions to iterate through them.  Under-the-hood it was done by the **for** loop asking for an [iterator](https://docs.python.org/2/glossary.html#term-iterator) over that object, by calling `iter()` function:"
     ]
    },
    {
     "cell_type": "code",
     "collapsed": false,
     "input": [
      "l = [1,2,3]"
     ],
     "language": "python",
     "metadata": {},
     "outputs": []
    },
    {
     "cell_type": "code",
     "collapsed": false,
     "input": [
      "literator = iter(l)\n",
      "print literator"
     ],
     "language": "python",
     "metadata": {},
     "outputs": []
    },
    {
     "cell_type": "markdown",
     "metadata": {},
     "source": [
      "Those iterators are quite simple beasts -- they pretty much just know how to give you the next element:"
     ]
    },
    {
     "cell_type": "code",
     "collapsed": false,
     "input": [
      "dir(literator)"
     ],
     "language": "python",
     "metadata": {},
     "outputs": []
    },
    {
     "cell_type": "code",
     "collapsed": false,
     "input": [
      "literator.next()"
     ],
     "language": "python",
     "metadata": {},
     "outputs": []
    },
    {
     "cell_type": "code",
     "collapsed": false,
     "input": [
      "literator.next()"
     ],
     "language": "python",
     "metadata": {},
     "outputs": []
    },
    {
     "cell_type": "code",
     "collapsed": false,
     "input": [
      "literator.next()"
     ],
     "language": "python",
     "metadata": {},
     "outputs": []
    },
    {
     "cell_type": "markdown",
     "metadata": {},
     "source": [
      "until they reach the end of the container and spit out an exception:"
     ]
    },
    {
     "cell_type": "code",
     "collapsed": false,
     "input": [
      "literator.next()"
     ],
     "language": "python",
     "metadata": {},
     "outputs": []
    },
    {
     "cell_type": "markdown",
     "metadata": {},
     "source": [
      "**Note** that we never saw this exception, and its name doesn't even end with \"Error\" -- so Exceptions mechanism is used here to iterate until \"we are done\", not to signal an Error.\n",
      "- - -"
     ]
    },
    {
     "cell_type": "markdown",
     "metadata": {},
     "source": [
      "\n",
      "And, as we saw/used before, constructs such as **for** loop, list/dict/etc comprehensions they all know how to iterate over their argument(s).\n",
      "\n",
      "**For hungry minds**\n",
      "\n",
      "Internally **iter()** just accesses `__iter__()` method of the provided to it container to obtain such an iterator.  Checkout `dir()` output of your favorite beasts to see if they provide `__iter__` method."
     ]
    },
    {
     "cell_type": "markdown",
     "metadata": {},
     "source": [
      "- - -\n",
      "**Excercise**\n",
      "\n",
      "Here is a dictionary, please manually iterate over it, what we will iterate over?"
     ]
    },
    {
     "cell_type": "code",
     "collapsed": false,
     "input": [
      "subjects = {\"subject1\": \"Joe\", \"subject2\": \"Martha\", \"subject3\": \"Bill\", \"subject4\": \"Martha\"}"
     ],
     "language": "python",
     "metadata": {},
     "outputs": []
    },
    {
     "cell_type": "heading",
     "level": 3,
     "metadata": {},
     "source": [
      "Why Generators?"
     ]
    },
    {
     "cell_type": "markdown",
     "metadata": {},
     "source": [
      "So far we have iterated over existing containers, where all the data already stored and available. But sometimes\n",
      "\n",
      "* we can't pre-generate the entire container (e.g. think about `range(some_big_number)`) since it would be inefficient/too expensive\n",
      "* we simply don't want to load the entire container at once since we want to see only few of the first elements\n",
      "\n",
      "in those cases we use [generators](https://docs.python.org/2/glossary.html#term-generator):"
     ]
    },
    {
     "cell_type": "markdown",
     "metadata": {},
     "source": [
      "* If function **return**s a value, a generator **yields** a value\n",
      "\n",
      "* Unlike a function which returns just once, a [generator](https://docs.python.org/2/glossary.html#term-generator) can **yield** multiple times\n",
      "\n",
      "* Calling a **generator** doesn't actually generate output, it creates an [iterator](https://docs.python.org/2/glossary.html#term-iterator)\n",
      "\n",
      "e.g. compare:"
     ]
    },
    {
     "cell_type": "code",
     "collapsed": false,
     "input": [
      "def myrange(n):\n",
      "    # the dummiest version of range() function\n",
      "    out = []\n",
      "    i = 0\n",
      "    while i<n:\n",
      "        out.append(i)\n",
      "        i += 1\n",
      "    return out"
     ],
     "language": "python",
     "metadata": {},
     "outputs": []
    },
    {
     "cell_type": "code",
     "collapsed": false,
     "input": [
      "myrange(10)"
     ],
     "language": "python",
     "metadata": {},
     "outputs": []
    },
    {
     "cell_type": "markdown",
     "metadata": {},
     "source": [
      "to the generator version where we **yield** value right when we know it:"
     ]
    },
    {
     "cell_type": "code",
     "collapsed": false,
     "input": [
      "def myxrange(n):\n",
      "    # dummy version of xrange() generator\n",
      "    i = 0\n",
      "    while i<n:\n",
      "        yield i\n",
      "        i += 1"
     ],
     "language": "python",
     "metadata": {},
     "outputs": []
    },
    {
     "cell_type": "code",
     "collapsed": false,
     "input": [
      "myiterator = myxrange(10)\n",
      "print myiterator"
     ],
     "language": "python",
     "metadata": {},
     "outputs": []
    },
    {
     "cell_type": "markdown",
     "metadata": {},
     "source": [
      "As a result of calling this `myxrange` function  I haven't received a container, but a \"generator\" object which is in fact an iterator already:"
     ]
    },
    {
     "cell_type": "code",
     "collapsed": false,
     "input": [
      "myiterator.next()"
     ],
     "language": "python",
     "metadata": {},
     "outputs": []
    },
    {
     "cell_type": "code",
     "collapsed": false,
     "input": [
      "myiterator.next()"
     ],
     "language": "python",
     "metadata": {},
     "outputs": []
    },
    {
     "cell_type": "markdown",
     "metadata": {},
     "source": [
      "and I could use it in any conventional construct expecting an iterable:"
     ]
    },
    {
     "cell_type": "code",
     "collapsed": false,
     "input": [
      "for i in myxrange(3):\n",
      "    print i"
     ],
     "language": "python",
     "metadata": {},
     "outputs": []
    },
    {
     "cell_type": "code",
     "collapsed": false,
     "input": [
      "list(myxrange(3))"
     ],
     "language": "python",
     "metadata": {},
     "outputs": []
    },
    {
     "cell_type": "code",
     "collapsed": false,
     "input": [
      "tuple(myxrange(3))"
     ],
     "language": "python",
     "metadata": {},
     "outputs": []
    },
    {
     "cell_type": "heading",
     "level": 2,
     "metadata": {},
     "source": [
      "Standard iterators"
     ]
    },
    {
     "cell_type": "markdown",
     "metadata": {},
     "source": [
      "There is a number of built-in iterators available for you, such as\n",
      "\n",
      "* **xrange** (use it instead of **range** in your for loops):"
     ]
    },
    {
     "cell_type": "code",
     "collapsed": false,
     "input": [
      "xrange(3)"
     ],
     "language": "python",
     "metadata": {},
     "outputs": []
    },
    {
     "cell_type": "code",
     "collapsed": false,
     "input": [
      "for i in xrange(3):\n",
      "    print i"
     ],
     "language": "python",
     "metadata": {},
     "outputs": []
    },
    {
     "cell_type": "markdown",
     "metadata": {},
     "source": [
      "so you could create lengthy loops without incurring cost of creating those huge lists just for the sake of incrementing `i` by 1 ;):"
     ]
    },
    {
     "cell_type": "code",
     "collapsed": false,
     "input": [
      "for i in xrange(100000000):\n",
      "    pass\n",
      "print i"
     ],
     "language": "python",
     "metadata": {},
     "outputs": []
    },
    {
     "cell_type": "markdown",
     "metadata": {},
     "source": [
      "* Files, which we open using `open()` are also iterators, spitting you out one line at a time without first reading in the entire file:"
     ]
    },
    {
     "cell_type": "code",
     "collapsed": false,
     "input": [
      "with open(\"05d-Python-Fundamentals-Generators.ipynb\") as f:\n",
      "    for i, line in enumerate(f):\n",
      "        print line,\n",
      "        if i>=3:\n",
      "            break"
     ],
     "language": "python",
     "metadata": {},
     "outputs": []
    },
    {
     "cell_type": "markdown",
     "metadata": {},
     "source": [
      "* Module [itertools](https://docs.python.org/2/library/itertools.html) provides various very useful generators"
     ]
    },
    {
     "cell_type": "markdown",
     "metadata": {},
     "source": [
      "- - -\n",
      "\n",
      "**Excercise**\n",
      "\n",
      "We have a dictionary `subjects` from which we need to create all possible pairs of subjects.  Find the corresponding generator among `itertools` and loop through those pairs while printing names of the subjects"
     ]
    },
    {
     "cell_type": "heading",
     "level": 2,
     "metadata": {},
     "source": [
      "Generator comprehension"
     ]
    },
    {
     "cell_type": "markdown",
     "metadata": {},
     "source": [
      "In addition to (**which ones?**) comprehensions we have already seen, there is also one for generators:"
     ]
    },
    {
     "cell_type": "code",
     "collapsed": false,
     "input": [
      "fancy_numbers_generator = (i for i in xrange(10) if i%3)\n",
      "print fancy_numbers_generator"
     ],
     "language": "python",
     "metadata": {},
     "outputs": []
    },
    {
     "cell_type": "code",
     "collapsed": false,
     "input": [
      "for fancy_number in fancy_numbers_generator:\n",
      "    print fancy_number"
     ],
     "language": "python",
     "metadata": {},
     "outputs": []
    },
    {
     "cell_type": "markdown",
     "metadata": {},
     "source": [
      "- - -\n",
      "\n",
      "**Excercise**\n",
      "\n",
      "Create a `fake_raw_input` generator and use it within your HW2/HW3 by passing its iter's `.next` into the corresponding function using `raw_input`.  Since `.next` doesn't take arguments, you might need to adjust your code to print question separately (not as an argument to `raw_input`)"
     ]
    }
   ],
   "metadata": {}
  }
 ]
}