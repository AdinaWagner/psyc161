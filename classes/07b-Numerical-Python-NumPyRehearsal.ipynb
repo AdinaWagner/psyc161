{
 "metadata": {
  "name": "",
  "signature": "sha256:da78d19dceb811c035ffc566fcfa7c14c8e4de480cf25ecaab256eb706a4335c"
 },
 "nbformat": 3,
 "nbformat_minor": 0,
 "worksheets": [
  {
   "cells": [
    {
     "cell_type": "heading",
     "level": 1,
     "metadata": {},
     "source": [
      "Hands-on: Numerical Python -- Introduction to NumPy (Rehearsed and Continued)"
     ]
    },
    {
     "cell_type": "markdown",
     "metadata": {},
     "source": [
      "**Objectives:**\n",
      "\n",
      "This lesson is in large a rehearsal of the introduction video we watched last week, but now with practical excercises and extending on ideas of accessing and manipulating data with NumPy arrays.  Upon completion of this class, you will be able to\n",
      "\n",
      "1. Access data in N-dimensional arrays via indexing, slicing, fancy indexing\n",
      "\n",
      "2. Perform various operations on the arrays, and become aware that some times you get a \"view\", some times a \"copy\"\n",
      "\n",
      "3. Practice broadcasting"
     ]
    },
    {
     "cell_type": "heading",
     "level": 2,
     "metadata": {},
     "source": [
      "Indexing and slicing"
     ]
    },
    {
     "cell_type": "markdown",
     "metadata": {},
     "source": [
      "\n",
      "\n",
      "The items of an array can be accessed and assigned to the same way as\n",
      "other Python sequences (`list`, `tuple`):"
     ]
    },
    {
     "cell_type": "code",
     "collapsed": false,
     "input": [
      "import numpy as np\n",
      "\n",
      "a = np.arange(10)\n",
      "print a\n",
      "print a[0], a[2], a[-1]"
     ],
     "language": "python",
     "metadata": {},
     "outputs": []
    },
    {
     "cell_type": "markdown",
     "metadata": {},
     "source": [
      "**Note**: Indices begin at 0, like other Python sequences (and C/C++): In contrast, in Fortran or Matlab, indices begin at 1."
     ]
    },
    {
     "cell_type": "heading",
     "level": 2,
     "metadata": {},
     "source": [
      "Multidimensional arrays"
     ]
    },
    {
     "cell_type": "markdown",
     "metadata": {},
     "source": [
      "\n",
      "\n",
      "Indexes are tuples of integers:"
     ]
    },
    {
     "cell_type": "code",
     "collapsed": false,
     "input": [
      "a = np.diag(np.arange(5))\n",
      "a"
     ],
     "language": "python",
     "metadata": {},
     "outputs": []
    },
    {
     "cell_type": "code",
     "collapsed": false,
     "input": [
      "a[1, 1]"
     ],
     "language": "python",
     "metadata": {},
     "outputs": []
    },
    {
     "cell_type": "code",
     "collapsed": false,
     "input": [
      "a[2, 1] = 10 # third line, second column\n",
      "a"
     ],
     "language": "python",
     "metadata": {},
     "outputs": []
    },
    {
     "cell_type": "markdown",
     "metadata": {},
     "source": [
      "and specifying only one index, would select the corresponding 'row' or 'column':"
     ]
    },
    {
     "cell_type": "code",
     "collapsed": false,
     "input": [
      "a[1]"
     ],
     "language": "python",
     "metadata": {},
     "outputs": []
    },
    {
     "cell_type": "code",
     "collapsed": false,
     "input": [
      "a[:, 1]"
     ],
     "language": "python",
     "metadata": {},
     "outputs": []
    },
    {
     "cell_type": "markdown",
     "metadata": {},
     "source": [
      "in above example I have used \":\" to specify \"all\" elements in that axis.  Alternatively,  even if we had >2 axes, I could use \"...\" to specify \"all previous axes having \":\""
     ]
    },
    {
     "cell_type": "code",
     "collapsed": false,
     "input": [
      "a[..., 1]"
     ],
     "language": "python",
     "metadata": {},
     "outputs": []
    },
    {
     "cell_type": "heading",
     "level": 2,
     "metadata": {},
     "source": [
      "Slicing"
     ]
    },
    {
     "cell_type": "markdown",
     "metadata": {},
     "source": [
      "\n",
      "\n",
      "Arrays, like other Python sequences can also be sliced:"
     ]
    },
    {
     "cell_type": "code",
     "collapsed": false,
     "input": [
      "a = np.arange(10)\n",
      "a"
     ],
     "language": "python",
     "metadata": {},
     "outputs": []
    },
    {
     "cell_type": "code",
     "collapsed": false,
     "input": [
      "a[2:9:3] # [start:end:step]"
     ],
     "language": "python",
     "metadata": {},
     "outputs": []
    },
    {
     "cell_type": "heading",
     "level": 2,
     "metadata": {},
     "source": [
      "Indexing and Slicing"
     ]
    },
    {
     "cell_type": "markdown",
     "metadata": {},
     "source": [
      "A small illustrated summary of Numpy indexing and slicing..."
     ]
    },
    {
     "cell_type": "markdown",
     "metadata": {},
     "source": [
      "![NumPy slicing and indexing](http://scipy-lectures.github.io/_images/numpy_indexing.png)"
     ]
    },
    {
     "cell_type": "heading",
     "level": 3,
     "metadata": {},
     "source": [
      "Fancy indexing"
     ]
    },
    {
     "cell_type": "markdown",
     "metadata": {},
     "source": [
      "*Fancy indexing* is just a fancy name for indexing multiple entries at once by either providing indexes of the entries:"
     ]
    },
    {
     "cell_type": "code",
     "collapsed": false,
     "input": [
      "a = np.array(list('abcdefgh'))\n",
      "print a[[0, 2, 4, 6]]"
     ],
     "language": "python",
     "metadata": {},
     "outputs": []
    },
    {
     "cell_type": "markdown",
     "metadata": {},
     "source": [
      "or a boolean mask:"
     ]
    },
    {
     "cell_type": "code",
     "collapsed": false,
     "input": [
      "a = np.array(list('abcdefgh'))\n",
      "print a[[True, False]*4]"
     ],
     "language": "python",
     "metadata": {},
     "outputs": []
    },
    {
     "cell_type": "markdown",
     "metadata": {},
     "source": [
      "**There was a catch**:  it must be an array of type **bool**!  **Excercise**: fix it up"
     ]
    },
    {
     "cell_type": "heading",
     "level": 3,
     "metadata": {},
     "source": [
      "Assigning sliced/fancy indexed array elements:"
     ]
    },
    {
     "cell_type": "markdown",
     "metadata": {},
     "source": [
      "Very powerful feature to modify in-place some elements identified by indexes or a mask:"
     ]
    },
    {
     "cell_type": "code",
     "collapsed": false,
     "input": [
      "a[[0, 2]] = 'X'\n",
      "print a"
     ],
     "language": "python",
     "metadata": {},
     "outputs": []
    },
    {
     "cell_type": "code",
     "collapsed": false,
     "input": [
      "a[a == 'g'] = 'Y'\n",
      "print a"
     ],
     "language": "python",
     "metadata": {},
     "outputs": []
    },
    {
     "cell_type": "heading",
     "level": 2,
     "metadata": {},
     "source": [
      "Array's \"internal\" flags"
     ]
    },
    {
     "cell_type": "markdown",
     "metadata": {},
     "source": [
      "`.flags` of any array provide information about the \"internals\" of the array.  Lets look at them:"
     ]
    },
    {
     "cell_type": "code",
     "collapsed": false,
     "input": [
      "a_slice = a[::2]\n",
      "print a_slice\n",
      "print a_slice.flags"
     ],
     "language": "python",
     "metadata": {},
     "outputs": []
    },
    {
     "cell_type": "code",
     "collapsed": false,
     "input": [
      "a_findexed = a[[0, 2, 4, 6]]\n",
      "print a_findexed\n",
      "print a_findexed.flags"
     ],
     "language": "python",
     "metadata": {},
     "outputs": []
    },
    {
     "cell_type": "markdown",
     "metadata": {},
     "source": [
      "See [setflags documentation](http://docs.scipy.org/doc/numpy/reference/generated/numpy.ndarray.setflags.html#numpy.ndarray.setflags) for more details about flags, but for now we concentrate on \"OWNDATA\"."
     ]
    },
    {
     "cell_type": "markdown",
     "metadata": {},
     "source": [
      "- - -\n",
      "**Excercise**\n",
      "\n",
      "`np.random` provides functions to generate random arrays.  Create a 2d array of shape `(3, 4)` with normally distributed data.  Experiment with slicing, indexing and fancy indexing.  Check `OWNDATA` flag of created arrays."
     ]
    },
    {
     "cell_type": "heading",
     "level": 2,
     "metadata": {},
     "source": [
      "Elementwise operations"
     ]
    },
    {
     "cell_type": "markdown",
     "metadata": {},
     "source": [
      "\n",
      "\n",
      "With scalars:"
     ]
    },
    {
     "cell_type": "code",
     "collapsed": false,
     "input": [
      "a = np.array([1, 2, 3, 4])\n",
      "a + 1"
     ],
     "language": "python",
     "metadata": {},
     "outputs": []
    },
    {
     "cell_type": "code",
     "collapsed": false,
     "input": [
      "2**a"
     ],
     "language": "python",
     "metadata": {},
     "outputs": []
    },
    {
     "cell_type": "markdown",
     "metadata": {},
     "source": [
      "All arithmetic operates elementwise (like ufuncs)"
     ]
    },
    {
     "cell_type": "code",
     "collapsed": false,
     "input": [
      "b = np.ones(4) + 1\n",
      "a - b"
     ],
     "language": "python",
     "metadata": {},
     "outputs": []
    },
    {
     "cell_type": "code",
     "collapsed": false,
     "input": [
      "a * b"
     ],
     "language": "python",
     "metadata": {},
     "outputs": []
    },
    {
     "cell_type": "code",
     "collapsed": false,
     "input": [
      "j = np.arange(5)\n",
      "2**(j + 1) - j"
     ],
     "language": "python",
     "metadata": {},
     "outputs": []
    },
    {
     "cell_type": "markdown",
     "metadata": {},
     "source": [
      "**Warning!** Multiplication is no special and is also elementwise:"
     ]
    },
    {
     "cell_type": "code",
     "collapsed": false,
     "input": [
      "c = np.ones((3, 3))\n",
      "c * c                   # NOT matrix multiplication!"
     ],
     "language": "python",
     "metadata": {},
     "outputs": []
    },
    {
     "cell_type": "markdown",
     "metadata": {},
     "source": [
      "Matrix multiplication:"
     ]
    },
    {
     "cell_type": "code",
     "collapsed": false,
     "input": [
      "c.dot(c)"
     ],
     "language": "python",
     "metadata": {},
     "outputs": []
    },
    {
     "cell_type": "markdown",
     "metadata": {},
     "source": [
      "**Note** Since python3. we get a new operation symbol \"@\" specifically reserved for \"matrix multiplication\"."
     ]
    },
    {
     "cell_type": "heading",
     "level": 3,
     "metadata": {},
     "source": [
      "Speeding up some computations"
     ]
    },
    {
     "cell_type": "markdown",
     "metadata": {},
     "source": [
      "There is a growing number of libraries which try to take even more advantage of existing hardware features (e.g. GPUs, multiple CPUs etc) or simply providing even more efficient implementations (reuse of memory, etc).  E.g. [numexpr](https://code.google.com/p/numexpr/wiki/UsersGuide) could speed up majority of ufunc executions and even `np.where`:"
     ]
    },
    {
     "cell_type": "code",
     "collapsed": false,
     "input": [
      "a = np.random.normal(1e6)\n",
      "b = np.arange(1e6)\n",
      "c = a**2 + 2*b**3 + 2*a*b\n",
      "pos_c = c>0"
     ],
     "language": "python",
     "metadata": {},
     "outputs": []
    },
    {
     "cell_type": "code",
     "collapsed": false,
     "input": [
      "# The equation\n",
      "%timeit a**2 + 2*b**3 + 2*a*b\n",
      "%timeit np.where(pos_c, 1, 2)"
     ],
     "language": "python",
     "metadata": {},
     "outputs": []
    },
    {
     "cell_type": "code",
     "collapsed": false,
     "input": [
      "import numexpr as ne\n",
      "%timeit ne.evaluate(\"a**2 + 2*b**3 + 2*a*b\")\n",
      "%timeit ne.evaluate(\"where(pos_c, 1, 2)\")"
     ],
     "language": "python",
     "metadata": {},
     "outputs": []
    },
    {
     "cell_type": "code",
     "collapsed": false,
     "input": [
      "# now use a single thread\n",
      "ne.set_num_threads(1)\n",
      "%timeit ne.evaluate(\"a**2 + 2*b**3 + 2*a*b\")\n",
      "%timeit ne.evaluate(\"where(pos_c, 1, 2)\")"
     ],
     "language": "python",
     "metadata": {},
     "outputs": []
    },
    {
     "cell_type": "heading",
     "level": 2,
     "metadata": {},
     "source": [
      "Comparisons"
     ]
    },
    {
     "cell_type": "markdown",
     "metadata": {},
     "source": [
      "\n",
      "\n",
      "You can make fast comparisons of ndarrays:"
     ]
    },
    {
     "cell_type": "code",
     "collapsed": false,
     "input": [
      "a = np.array([1, 2, 3, 4])\n",
      "b = np.array([4, 2, 2, 4])\n",
      "a == b"
     ],
     "language": "python",
     "metadata": {},
     "outputs": []
    },
    {
     "cell_type": "code",
     "collapsed": false,
     "input": [
      "a > b"
     ],
     "language": "python",
     "metadata": {},
     "outputs": []
    },
    {
     "cell_type": "markdown",
     "metadata": {},
     "source": [
      "so note that it is a unary functionality, i.e. it compares each element at a time, and unlike (**which stock container?**) doesn't result in a single **bool** value:"
     ]
    },
    {
     "cell_type": "code",
     "collapsed": false,
     "input": [
      "if a > b:\n",
      "    print \"a is bigger\""
     ],
     "language": "python",
     "metadata": {},
     "outputs": []
    },
    {
     "cell_type": "markdown",
     "metadata": {},
     "source": [
      "and you need to use **numpy.any** or **numpy.all** (well -- regular **all** and **any** would work but slower) `reductions` to get the target **bool**:"
     ]
    },
    {
     "cell_type": "code",
     "collapsed": false,
     "input": [
      "print np.all(a > b)"
     ],
     "language": "python",
     "metadata": {},
     "outputs": []
    },
    {
     "cell_type": "code",
     "collapsed": false,
     "input": [
      "print np.any(a > b)"
     ],
     "language": "python",
     "metadata": {},
     "outputs": []
    },
    {
     "cell_type": "markdown",
     "metadata": {},
     "source": [
      "you could also use `array_equal` helper"
     ]
    },
    {
     "cell_type": "code",
     "collapsed": false,
     "input": [
      "np.array_equal(a, b)"
     ],
     "language": "python",
     "metadata": {},
     "outputs": []
    },
    {
     "cell_type": "markdown",
     "metadata": {},
     "source": [
      "- - -\n",
      "**Questions**\n",
      "\n",
      "- There is also `np.allclose` -- check out its help.  When will it be useful?"
     ]
    },
    {
     "cell_type": "heading",
     "level": 2,
     "metadata": {},
     "source": [
      "Logical operations"
     ]
    },
    {
     "cell_type": "markdown",
     "metadata": {},
     "source": [
      "\n",
      "\n",
      "And perform fast logical operations:"
     ]
    },
    {
     "cell_type": "code",
     "collapsed": false,
     "input": [
      "a = np.array([1, 1, 0, 0], dtype=bool)\n",
      "b = np.array([1, 0, 1, 0], dtype=bool)\n",
      "a | b"
     ],
     "language": "python",
     "metadata": {},
     "outputs": []
    },
    {
     "cell_type": "code",
     "collapsed": false,
     "input": [
      "a & b"
     ],
     "language": "python",
     "metadata": {},
     "outputs": []
    },
    {
     "cell_type": "markdown",
     "metadata": {},
     "source": [
      "**Note**: For arrays: \"`&`\" and \"`|`\" for logical operations, not: \"`and`\" and \"`or`\".  You could also use **numpy.logical_and** and **numpy.logical_or** functions."
     ]
    },
    {
     "cell_type": "heading",
     "level": 2,
     "metadata": {},
     "source": [
      "Shape mismatches"
     ]
    },
    {
     "cell_type": "markdown",
     "metadata": {},
     "source": [
      "\n",
      "\n",
      "What if things don't line up?"
     ]
    },
    {
     "cell_type": "code",
     "collapsed": false,
     "input": [
      "a = np.array([0.1, 0.6, -0.3])\n",
      "b = np.array([1, 2])\n",
      "print a + b"
     ],
     "language": "python",
     "metadata": {},
     "outputs": []
    },
    {
     "cell_type": "heading",
     "level": 3,
     "metadata": {},
     "source": [
      "Broadcasting"
     ]
    },
    {
     "cell_type": "markdown",
     "metadata": {},
     "source": [
      "Broadcasting could be of great use.  It follows 3 simple steps:\n",
      "\n",
      "1. If array shapes differ, left-pad the *smallest* shape with 1s\n",
      "2. If any dimension does not match, broadcast the dimension with size=1\n",
      "   - **Question**: Does it have to be a single non-matching dimension or could be many?\n",
      "3. If neither non-matching dimension is 1 -- raise an Error\n",
      "   - **Question**: Which error gets raised?\n"
     ]
    },
    {
     "cell_type": "markdown",
     "metadata": {},
     "source": [
      "[Scientific Python Lecture Notes](http://scipy-lectures.github.io/intro/numpy/operations.html#broadcasting):\n",
      "![scipy Broadcasting](http://scipy-lectures.github.io/_images/numpy_broadcasting.png)"
     ]
    },
    {
     "cell_type": "code",
     "collapsed": false,
     "input": [
      "a = np.tile(np.arange(0, 40, 10), (3, 1)).T\n",
      "print a\n",
      "b = np.array([0, 1, 2])\n",
      "print b"
     ],
     "language": "python",
     "metadata": {},
     "outputs": []
    },
    {
     "cell_type": "code",
     "collapsed": false,
     "input": [
      "print a+b"
     ],
     "language": "python",
     "metadata": {},
     "outputs": []
    },
    {
     "cell_type": "markdown",
     "metadata": {},
     "source": [
      "We could left-pad with new dimension manually:"
     ]
    },
    {
     "cell_type": "code",
     "collapsed": false,
     "input": [
      "print b.shape\n",
      "print b[np.newaxis, :].shape\n",
      "print a + b[np.newaxis, :]"
     ],
     "language": "python",
     "metadata": {},
     "outputs": []
    },
    {
     "cell_type": "markdown",
     "metadata": {},
     "source": [
      "- - -\n",
      "\n",
      "**Broadcasting excercise**\n",
      "\n",
      "Assuming that in above failed example I wanted to generate 3x2 array in which first column will be a+1 and 2nd column would be a+2 -- how to adjust above addition to make it happen? (hint: we need to introduce one more axis to one of those 1d vectors)"
     ]
    },
    {
     "cell_type": "heading",
     "level": 2,
     "metadata": {},
     "source": [
      "More of explicit array shape manipulations"
     ]
    },
    {
     "cell_type": "heading",
     "level": 3,
     "metadata": {},
     "source": [
      "Simple transpose"
     ]
    },
    {
     "cell_type": "code",
     "collapsed": false,
     "input": [
      "a_T = a.T\n",
      "print a_T"
     ],
     "language": "python",
     "metadata": {},
     "outputs": []
    },
    {
     "cell_type": "markdown",
     "metadata": {},
     "source": [
      "Such a transpose is very fast operation since no data copying is actually being done -- only a new \"view\" created over the array data:"
     ]
    },
    {
     "cell_type": "code",
     "collapsed": false,
     "input": [
      "print a_T.flags"
     ],
     "language": "python",
     "metadata": {},
     "outputs": []
    },
    {
     "cell_type": "markdown",
     "metadata": {},
     "source": [
      "so similarly to \"sliced\" array, changing element in the copy would change data in the original array:"
     ]
    },
    {
     "cell_type": "code",
     "collapsed": false,
     "input": [
      "a_T[1, 0] = 101\n",
      "print a_T\n",
      "print a"
     ],
     "language": "python",
     "metadata": {},
     "outputs": []
    },
    {
     "cell_type": "heading",
     "level": 3,
     "metadata": {},
     "source": [
      "Flattening"
     ]
    },
    {
     "cell_type": "markdown",
     "metadata": {},
     "source": [
      "Create a flattened version of an array, with the highest dimension `ravel`ing first:"
     ]
    },
    {
     "cell_type": "code",
     "collapsed": false,
     "input": [
      "a_flat = a.ravel()\n",
      "print a_flat"
     ],
     "language": "python",
     "metadata": {},
     "outputs": []
    },
    {
     "cell_type": "markdown",
     "metadata": {},
     "source": [
      "- - -\n",
      "**Excercises**\n",
      "1. Read help of `np.ravel` about two possible different \"orders\".\n",
      "2. Access `a.flags` to see which order `a` is in\n",
      "3. Flatten `a` in its \"original\" order and store result into `a_flatten`\n",
      "4. Acess `a_flatten.flags`.  What does OWNDATA would mean?  Try changing some element within `a_flatten` and inspect content of original `a`\n"
     ]
    },
    {
     "cell_type": "markdown",
     "metadata": {},
     "source": [
      "If we do not care to get a \"view\" over an array, we can use `.flatten()` method which is guaranteed to return a copy:"
     ]
    },
    {
     "cell_type": "code",
     "collapsed": false,
     "input": [
      "a.flatten()"
     ],
     "language": "python",
     "metadata": {},
     "outputs": []
    },
    {
     "cell_type": "heading",
     "level": 3,
     "metadata": {},
     "source": [
      "Reshaping"
     ]
    },
    {
     "cell_type": "code",
     "collapsed": false,
     "input": [
      "a_3d = a.reshape((2, 2, 3))\n",
      "print a_3d.shape\n",
      "print a_3d"
     ],
     "language": "python",
     "metadata": {},
     "outputs": []
    },
    {
     "cell_type": "markdown",
     "metadata": {},
     "source": [
      "- - -\n",
      "**Excercise**\n",
      "1. Inspect `a_3d` -- have we created a copy or a view?\n",
      "2. Checkout `np.reshape` help"
     ]
    },
    {
     "cell_type": "markdown",
     "metadata": {},
     "source": [
      "**Question**\n",
      "\n",
      "If in the case of `.T` operation or slicing we can somewhat rely that we would obtain a 'view', it is not the fact with `ravel` and `reshape`.  How should we \"guard\" our code to state our expectation that we got a copy or not?"
     ]
    },
    {
     "cell_type": "heading",
     "level": 2,
     "metadata": {},
     "source": [
      "Arrays concatenations"
     ]
    },
    {
     "cell_type": "markdown",
     "metadata": {},
     "source": [
      "There is a number of functions to \"join\" multiple arrays or repeat existing ones multiple times:"
     ]
    },
    {
     "cell_type": "code",
     "collapsed": false,
     "input": [
      "a = np.arange(4).reshape((2, 2))\n",
      "b = np.arange(4,6)\n",
      "print a, a.shape\n",
      "print b, b.shape"
     ],
     "language": "python",
     "metadata": {},
     "outputs": []
    },
    {
     "cell_type": "code",
     "collapsed": false,
     "input": [
      "c = np.vstack((a, b))\n",
      "print c, c.shape"
     ],
     "language": "python",
     "metadata": {},
     "outputs": []
    },
    {
     "cell_type": "code",
     "collapsed": false,
     "input": [
      "c = np.hstack((a, b[:, np.newaxis]))\n",
      "print c, c.shape"
     ],
     "language": "python",
     "metadata": {},
     "outputs": []
    },
    {
     "cell_type": "markdown",
     "metadata": {},
     "source": [
      "or an array could be repeated (by default flattened)"
     ]
    },
    {
     "cell_type": "code",
     "collapsed": false,
     "input": [
      "print np.repeat(a, 2)"
     ],
     "language": "python",
     "metadata": {},
     "outputs": []
    },
    {
     "cell_type": "markdown",
     "metadata": {},
     "source": [
      "or along a given axis"
     ]
    },
    {
     "cell_type": "code",
     "collapsed": false,
     "input": [
      "np.repeat(a, 2, axis=1)"
     ],
     "language": "python",
     "metadata": {},
     "outputs": []
    },
    {
     "cell_type": "markdown",
     "metadata": {},
     "source": [
      "possibly even with varying number of repeats per each element (along that axis):"
     ]
    },
    {
     "cell_type": "code",
     "collapsed": false,
     "input": [
      "np.repeat(a, (2, 3), axis=1)"
     ],
     "language": "python",
     "metadata": {},
     "outputs": []
    },
    {
     "cell_type": "markdown",
     "metadata": {},
     "source": [
      "- - -\n",
      "**Excercise**\n",
      "\n",
      "Imagine we are to carry out an fMRI experiment where we have \n",
      "\n",
      "- 3 conditions: 2 experimental conditions (let's code them as 1 and 2) and a baseline (code as 0)\n",
      "- we will have 4 instances (trials) of each condition in each run\n",
      "- order of trials must be random (run can start with any) (hint: use `np.random.shuffle`)\n",
      "- trials will span varying number of TRs for each condition:  0 - 1 TR,  1 - 2TRs,  2 - 3TRs\n",
      "- **generate a sequence of TRs for such an experimental run**\n",
      "- verify that we have create \"proper\" sequence in terms of how often each condition was present (hint: discover `np.bincount` function)"
     ]
    },
    {
     "cell_type": "heading",
     "level": 2,
     "metadata": {},
     "source": [
      "Basic linear algebra"
     ]
    },
    {
     "cell_type": "markdown",
     "metadata": {},
     "source": [
      "\n",
      "\n",
      "Matrix multiplication:"
     ]
    },
    {
     "cell_type": "code",
     "collapsed": false,
     "input": [
      "a = np.triu(np.ones((3, 3)), 1)   # see help(np.triu)\n",
      "print a"
     ],
     "language": "python",
     "metadata": {},
     "outputs": []
    },
    {
     "cell_type": "code",
     "collapsed": false,
     "input": [
      "b = np.diag([1, 2, 3])\n",
      "print a.dot(b)"
     ],
     "language": "python",
     "metadata": {},
     "outputs": []
    },
    {
     "cell_type": "code",
     "collapsed": false,
     "input": [
      "print np.dot(a, a)"
     ],
     "language": "python",
     "metadata": {},
     "outputs": []
    },
    {
     "cell_type": "heading",
     "level": 3,
     "metadata": {},
     "source": [
      "\n",
      "\n",
      "Inverses and linear equation systems:"
     ]
    },
    {
     "cell_type": "code",
     "collapsed": false,
     "input": [
      "A = a + b\n",
      "print A\n",
      "B = np.linalg.inv(A)\n",
      "print B"
     ],
     "language": "python",
     "metadata": {},
     "outputs": []
    },
    {
     "cell_type": "code",
     "collapsed": false,
     "input": [
      "B.dot(A)"
     ],
     "language": "python",
     "metadata": {},
     "outputs": []
    },
    {
     "cell_type": "heading",
     "level": 3,
     "metadata": {},
     "source": [
      "\n",
      "\n",
      "Eigenvalues:"
     ]
    },
    {
     "cell_type": "code",
     "collapsed": false,
     "input": [
      "np.linalg.eigvals(A)"
     ],
     "language": "python",
     "metadata": {},
     "outputs": []
    },
    {
     "cell_type": "markdown",
     "metadata": {},
     "source": [
      "... and so on, see"
     ]
    },
    {
     "cell_type": "code",
     "collapsed": false,
     "input": [
      "?np.linalg"
     ],
     "language": "python",
     "metadata": {},
     "outputs": []
    },
    {
     "cell_type": "heading",
     "level": 2,
     "metadata": {},
     "source": [
      "Basic reductions"
     ]
    },
    {
     "cell_type": "markdown",
     "metadata": {},
     "source": [
      "\n",
      "\n",
      "Computing sums:"
     ]
    },
    {
     "cell_type": "code",
     "collapsed": false,
     "input": [
      "x = np.array([1, 2, 3, 4])\n",
      "print np.sum(x)\n",
      "print x.sum()"
     ],
     "language": "python",
     "metadata": {},
     "outputs": []
    },
    {
     "cell_type": "heading",
     "level": 3,
     "metadata": {},
     "source": [
      "Sum by rows and by columns"
     ]
    },
    {
     "cell_type": "markdown",
     "metadata": {},
     "source": [
      "![Sum across rows and columns](http://scipy-lectures.github.io/_images/reductions.png)"
     ]
    },
    {
     "cell_type": "code",
     "collapsed": false,
     "input": [
      "x = np.array([[1, 1], [2, 2]])\n",
      "print x"
     ],
     "language": "python",
     "metadata": {},
     "outputs": []
    },
    {
     "cell_type": "markdown",
     "metadata": {},
     "source": [
      "We can ask for an operation along specific axis:"
     ]
    },
    {
     "cell_type": "code",
     "collapsed": false,
     "input": [
      "x.sum(axis=0)   # columns (first dimension)"
     ],
     "language": "python",
     "metadata": {},
     "outputs": []
    },
    {
     "cell_type": "markdown",
     "metadata": {},
     "source": [
      "which is identical to having done something like:"
     ]
    },
    {
     "cell_type": "code",
     "collapsed": false,
     "input": [
      "x[:, 0].sum(), x[:, 1].sum()"
     ],
     "language": "python",
     "metadata": {},
     "outputs": []
    },
    {
     "cell_type": "markdown",
     "metadata": {},
     "source": [
      "and we could easily sum within each row:"
     ]
    },
    {
     "cell_type": "code",
     "collapsed": false,
     "input": [
      "x.sum(axis=1)   # rows (second dimension)"
     ],
     "language": "python",
     "metadata": {},
     "outputs": []
    },
    {
     "cell_type": "code",
     "collapsed": false,
     "input": [
      "x[0, :].sum(), x[1, :].sum()"
     ],
     "language": "python",
     "metadata": {},
     "outputs": []
    },
    {
     "cell_type": "heading",
     "level": 2,
     "metadata": {},
     "source": [
      "Other reductions"
     ]
    },
    {
     "cell_type": "markdown",
     "metadata": {},
     "source": [
      "\n",
      "\n",
      "Work the same way (and take `axis=`)\n",
      "\n",
      "* Statistics:"
     ]
    },
    {
     "cell_type": "code",
     "collapsed": false,
     "input": [
      "x = np.array([1, 2, 3, 1])\n",
      "y = np.array([[1, 2, 3], [5, 6, 1]])\n",
      "x.mean()"
     ],
     "language": "python",
     "metadata": {},
     "outputs": []
    },
    {
     "cell_type": "code",
     "collapsed": false,
     "input": [
      "np.median(x)"
     ],
     "language": "python",
     "metadata": {},
     "outputs": []
    },
    {
     "cell_type": "code",
     "collapsed": false,
     "input": [
      "np.median(y, axis=-1) # last axis"
     ],
     "language": "python",
     "metadata": {},
     "outputs": []
    },
    {
     "cell_type": "code",
     "collapsed": false,
     "input": [
      "x.std()          # full population standard dev."
     ],
     "language": "python",
     "metadata": {},
     "outputs": []
    },
    {
     "cell_type": "code",
     "collapsed": false,
     "input": [
      "x.std(ddof=1)    # sample std (with N-1 in divisor)"
     ],
     "language": "python",
     "metadata": {},
     "outputs": []
    },
    {
     "cell_type": "markdown",
     "metadata": {},
     "source": [
      "\n",
      "\n",
      "* \n",
      "Extrema:"
     ]
    },
    {
     "cell_type": "code",
     "collapsed": false,
     "input": [
      "x = np.array([1, 3, 2])\n",
      "x.min(), x.max()"
     ],
     "language": "python",
     "metadata": {},
     "outputs": []
    },
    {
     "cell_type": "code",
     "collapsed": false,
     "input": [
      "# indexes of (min, max)\n",
      "x.argmin(), x.argmax()"
     ],
     "language": "python",
     "metadata": {},
     "outputs": []
    },
    {
     "cell_type": "markdown",
     "metadata": {},
     "source": [
      "* ... and many more (best to learn as you go)."
     ]
    },
    {
     "cell_type": "heading",
     "level": 2,
     "metadata": {},
     "source": [
      "Sorting arrays"
     ]
    },
    {
     "cell_type": "markdown",
     "metadata": {},
     "source": [
      "`np.sort` provides a new array with entries sorted within any given axis:"
     ]
    },
    {
     "cell_type": "code",
     "collapsed": false,
     "input": [
      "a = np.array([[4, 3, 5], [1, 2, 1]])\n",
      "b = np.sort(a, axis=1)\n",
      "print a\n",
      "print b"
     ],
     "language": "python",
     "metadata": {},
     "outputs": []
    },
    {
     "cell_type": "markdown",
     "metadata": {},
     "source": [
      "But we could also sort \"inplace\", i.e. by modifying the original array:"
     ]
    },
    {
     "cell_type": "code",
     "collapsed": false,
     "input": [
      "a.sort(axis=1)\n",
      "print a"
     ],
     "language": "python",
     "metadata": {},
     "outputs": []
    },
    {
     "cell_type": "markdown",
     "metadata": {},
     "source": [
      "- - -\n",
      "\n",
      "**Excercise**\n",
      "\n",
      "1. Create an array of shape (3, 4) with entries from 0 to 11 randomly assigned to different elements.  For that make use of some functions you already know, and `np.random.shuffle`\n",
      "2. Sort each row\n",
      "3. Assuming that we are having an ultimate trust into built-in `sorted` function, write a code snippet which would verify that you have sorted your rows correctly (and raises AssertionError if not)"
     ]
    },
    {
     "cell_type": "heading",
     "level": 2,
     "metadata": {},
     "source": [
      "NumPy testing helper"
     ]
    },
    {
     "cell_type": "markdown",
     "metadata": {},
     "source": [
      "NumPy comes with a `.testing` submodule which provides handy utilities for unit-testing your code where you need to verify correct operation on NumPy arrays, e.g."
     ]
    },
    {
     "cell_type": "code",
     "collapsed": false,
     "input": [
      "import numpy.testing as npt"
     ],
     "language": "python",
     "metadata": {},
     "outputs": []
    },
    {
     "cell_type": "code",
     "collapsed": false,
     "input": [
      "npt.assert_array_less(np.array([1,2,3]), np.array([2,3,4]))"
     ],
     "language": "python",
     "metadata": {},
     "outputs": []
    },
    {
     "cell_type": "code",
     "collapsed": false,
     "input": [
      "npt.assert_array_equal(np.array([1,2,3]), np.array([1., 2., 3.]))"
     ],
     "language": "python",
     "metadata": {},
     "outputs": []
    },
    {
     "cell_type": "code",
     "collapsed": false,
     "input": [
      "npt.assert_array_almost_equal(np.array([1,2,3]), np.array([1.0000001, 2., 3.]))"
     ],
     "language": "python",
     "metadata": {},
     "outputs": []
    },
    {
     "cell_type": "markdown",
     "metadata": {},
     "source": [
      "- - -\n",
      "**Excercise**\n",
      "\n",
      "Adjust your code snippet in previous excercise to use numpy.testing assertion helpers"
     ]
    },
    {
     "cell_type": "heading",
     "level": 2,
     "metadata": {},
     "source": [
      "More on NumPy data types"
     ]
    },
    {
     "cell_type": "markdown",
     "metadata": {},
     "source": [
      "So far we already saw that we could store integers, floating point numbers, and even strings into numpy arrays.  `.dtype` provides us description of the data type of the array:"
     ]
    },
    {
     "cell_type": "code",
     "collapsed": false,
     "input": [
      "np.arange(3).dtype"
     ],
     "language": "python",
     "metadata": {},
     "outputs": []
    },
    {
     "cell_type": "code",
     "collapsed": false,
     "input": [
      "np.ones(3).dtype"
     ],
     "language": "python",
     "metadata": {},
     "outputs": []
    },
    {
     "cell_type": "code",
     "collapsed": false,
     "input": [
      "np.array(['a', 'bc']).dtype"
     ],
     "language": "python",
     "metadata": {},
     "outputs": []
    },
    {
     "cell_type": "markdown",
     "metadata": {},
     "source": [
      "so numpy usually figures out the appropriate data-type but at times we might want to specify it explicitly, e.g. to save some memory (and possibly CPU time) at the cost of precision"
     ]
    },
    {
     "cell_type": "code",
     "collapsed": false,
     "input": [
      "np.ones(3, dtype=np.float32).dtype"
     ],
     "language": "python",
     "metadata": {},
     "outputs": []
    },
    {
     "cell_type": "markdown",
     "metadata": {},
     "source": [
      "and you can \"cast\" your existing array into another compatible type:"
     ]
    },
    {
     "cell_type": "code",
     "collapsed": false,
     "input": [
      "np.ones(3, dtype=np.float32).astype(int)"
     ],
     "language": "python",
     "metadata": {},
     "outputs": []
    },
    {
     "cell_type": "markdown",
     "metadata": {},
     "source": [
      "If you need to discover details (max/min value, resolution) of the specific floating point number data type, use `finfo` function"
     ]
    },
    {
     "cell_type": "code",
     "collapsed": false,
     "input": [
      "np.finfo(np.float32)"
     ],
     "language": "python",
     "metadata": {},
     "outputs": []
    },
    {
     "cell_type": "markdown",
     "metadata": {},
     "source": [
      "**Extra**\n",
      "\n",
      "For hungry minds -- checkout [Structured data types](http://scipy-lectures.github.io/intro/numpy/elaborate_arrays.html#structured-data-types) and [Masked arrays](http://scipy-lectures.github.io/intro/numpy/elaborate_arrays.html#id3)"
     ]
    },
    {
     "cell_type": "code",
     "collapsed": false,
     "input": [],
     "language": "python",
     "metadata": {},
     "outputs": []
    }
   ],
   "metadata": {}
  }
 ]
}