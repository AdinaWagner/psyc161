{
 "metadata": {
  "name": "",
  "signature": "sha256:d8a6bcb38b375ee20ec3385b451b30760578fb41b4d947e40cdc03ed8e773d03"
 },
 "nbformat": 3,
 "nbformat_minor": 0,
 "worksheets": [
  {
   "cells": [
    {
     "cell_type": "heading",
     "level": 1,
     "metadata": {},
     "source": [
      "Hands-on: Python Fundamentals -- Functions"
     ]
    },
    {
     "cell_type": "heading",
     "level": 2,
     "metadata": {},
     "source": [
      "Objectives"
     ]
    },
    {
     "cell_type": "markdown",
     "metadata": {},
     "source": [
      "Upon completion of this lesson, you will be able to:\n",
      "\n",
      "- State the purpose of functions and modules in Python\n",
      "- Use built-in functions\n",
      "- Create custom void (fruitless) functions and functions that return a value (fruitful)\n",
      "- Use parameters to make functions generalizable\n",
      "- Use docstrings to document function interfaces"
     ]
    },
    {
     "cell_type": "markdown",
     "metadata": {
      "slideshow": {
       "slide_type": "slide"
      }
     },
     "source": [
      "##Definition\n",
      "A **function** is a named sequence of statements that performs a computation.\n",
      "\n",
      "You define the function by giving it a name, specify a sequence of statements, and optionally a value(s) to return.\n",
      "\n",
      "Later, you can \u201ccall\u201d the function by name.  We have seen already a few functions, didn't we?\n"
     ]
    },
    {
     "cell_type": "code",
     "collapsed": false,
     "input": [
      "type(32)"
     ],
     "language": "python",
     "metadata": {
      "slideshow": {
       "slide_type": "fragment"
      }
     },
     "outputs": []
    },
    {
     "cell_type": "code",
     "collapsed": false,
     "input": [
      "int(32.1)"
     ],
     "language": "python",
     "metadata": {},
     "outputs": []
    },
    {
     "cell_type": "code",
     "collapsed": false,
     "input": [
      "kaboom = raw_input(\"Please enter something or else... \")"
     ],
     "language": "python",
     "metadata": {},
     "outputs": []
    },
    {
     "cell_type": "markdown",
     "metadata": {},
     "source": [
      "** For thirtsy minds:**\n",
      "and even void (which returns nothing, i.e. `None` in Python terms) one, which became a `proper` function in Python3.  In Python2 (we are using here), it is a keyword/statement. "
     ]
    },
    {
     "cell_type": "code",
     "collapsed": false,
     "input": [
      "!python3 -c 'nothing_returned = print(\"What will print return?\"); print(repr(nothing_returned))'"
     ],
     "language": "python",
     "metadata": {},
     "outputs": []
    },
    {
     "cell_type": "markdown",
     "metadata": {
      "slideshow": {
       "slide_type": "fragment"
      }
     },
     "source": [
      "\n",
      "## Some Vocabulary\n",
      "\n",
      "* The expression in the parenthesis is the **argument**. \n",
      "\n",
      "* It is common to say that a function **\u201ctakes\u201d an argument** and **\u201creturns\u201d a result**.\n",
      "\n",
      "* The result is called the **return value**."
     ]
    },
    {
     "cell_type": "markdown",
     "metadata": {
      "slideshow": {
       "slide_type": "slide"
      }
     },
     "source": [
      "## A new Function"
     ]
    },
    {
     "cell_type": "code",
     "collapsed": false,
     "input": [
      "def print_lyrics():\n",
      "    print(\"I'm a lumberjack, and I'm okay.\")\n",
      "    print(\"I sleep all night and I work all day.\")"
     ],
     "language": "python",
     "metadata": {
      "slideshow": {
       "slide_type": "fragment"
      }
     },
     "outputs": []
    },
    {
     "cell_type": "markdown",
     "metadata": {
      "slideshow": {
       "slide_type": "fragment"
      }
     },
     "source": [
      "The first line of the function definition is called the **header**; the rest is called the **body**.\n",
      "\n",
      "The header has to end with a colon and the body has to be indented.\n",
      "It is a common practice to use 4 spaces for indentation, and to avoid mixing with tabs.\n",
      "\n",
      "Function body in Python ends whenever statment begins at the original level of indentation.  There is no **end** or **fed** or any other identify to signal the end of function.  Indentation is part of the the language syntax in Python, making it more readable and less cluttered."
     ]
    },
    {
     "cell_type": "markdown",
     "metadata": {},
     "source": [
      "But guess what -- the function we defined is just like yet another value, in this case of its own type: "
     ]
    },
    {
     "cell_type": "code",
     "collapsed": false,
     "input": [
      "print print_lyrics"
     ],
     "language": "python",
     "metadata": {
      "slideshow": {
       "slide_type": "fragment"
      }
     },
     "outputs": []
    },
    {
     "cell_type": "code",
     "collapsed": false,
     "input": [
      "type(print_lyrics)"
     ],
     "language": "python",
     "metadata": {
      "slideshow": {
       "slide_type": "fragment"
      }
     },
     "outputs": []
    },
    {
     "cell_type": "heading",
     "level": 2,
     "metadata": {},
     "source": [
      "Calling Functions"
     ]
    },
    {
     "cell_type": "code",
     "collapsed": false,
     "input": [
      "def print_lyrics():\n",
      "    print \"I'm a lumberjack, and I'm okay.\"\n",
      "    print \"I sleep all night and I work all day.\"\n",
      "    \n",
      "    \n",
      "print_lyrics()"
     ],
     "language": "python",
     "metadata": {
      "slideshow": {
       "slide_type": "fragment"
      }
     },
     "outputs": []
    },
    {
     "cell_type": "markdown",
     "metadata": {},
     "source": [
      "and because functions are just like objects of any other type, we could even assign it to another variable and call that one instead!  How cool is that? ;-)"
     ]
    },
    {
     "cell_type": "code",
     "collapsed": false,
     "input": [
      "print_func = print_lyrics\n",
      "print_func()"
     ],
     "language": "python",
     "metadata": {},
     "outputs": []
    },
    {
     "cell_type": "heading",
     "level": 3,
     "metadata": {},
     "source": [
      "We can use our function in another function"
     ]
    },
    {
     "cell_type": "code",
     "collapsed": false,
     "input": [
      "def repeat_lyrics():\n",
      "    print_lyrics()\n",
      "    print_lyrics()"
     ],
     "language": "python",
     "metadata": {
      "slideshow": {
       "slide_type": "fragment"
      }
     },
     "outputs": []
    },
    {
     "cell_type": "code",
     "collapsed": false,
     "input": [
      "repeat_lyrics()"
     ],
     "language": "python",
     "metadata": {
      "slideshow": {
       "slide_type": "fragment"
      }
     },
     "outputs": []
    },
    {
     "cell_type": "markdown",
     "metadata": {},
     "source": [
      "- - -\n",
      "Lets write our mighty functions into a file for the excercise to come"
     ]
    },
    {
     "cell_type": "code",
     "collapsed": false,
     "input": [
      "%%file repeat_lyrics.py\n",
      "\n",
      "def print_lyrics():\n",
      "    print \"I'm a lumberjack, and I'm okay.\"\n",
      "    print \"I sleep all night and I work all day.\"\n",
      "    \n",
      "    \n",
      "def repeat_lyrics():\n",
      "    print_lyrics()\n",
      "    print_lyrics()\n",
      "    \n",
      "    \n",
      "repeat_lyrics()"
     ],
     "language": "python",
     "metadata": {
      "slideshow": {
       "slide_type": "slide"
      }
     },
     "outputs": []
    },
    {
     "cell_type": "markdown",
     "metadata": {},
     "source": [
      "and run it as a script"
     ]
    },
    {
     "cell_type": "code",
     "collapsed": false,
     "input": [
      "%run repeat_lyrics.py"
     ],
     "language": "python",
     "metadata": {},
     "outputs": []
    },
    {
     "cell_type": "markdown",
     "metadata": {
      "slideshow": {
       "slide_type": "fragment"
      }
     },
     "source": [
      "- - -\n",
      "\n",
      "**Excercise**\n",
      "\n",
      "1. Move the last line of this program to the top, so the function\n",
      "   call appears before the definitions.\n",
      "\n",
      "   Run the program and see what error message you get.\n",
      "   \n",
      "2. Move the function call back to the bottom and move the definition\n",
      "   of print_lyrics after the definition of repeat_lyrics.\n",
      "\n",
      "   What happens when you run this program?"
     ]
    },
    {
     "cell_type": "heading",
     "level": 2,
     "metadata": {},
     "source": [
      "Flow of Execution "
     ]
    },
    {
     "cell_type": "markdown",
     "metadata": {
      "slideshow": {
       "slide_type": "slide"
      }
     },
     "source": [
      "1. Execution always begins at the first statement of the program.\n",
      "\n",
      "2. Statements are executed one at a time, in order from top to bottom.\n",
      "\n",
      "3. Function definitions do not alter the flow of execution of the program.\n",
      "\n",
      "**Statements inside the function are not executed until the function is called.**"
     ]
    },
    {
     "cell_type": "markdown",
     "metadata": {
      "slideshow": {
       "slide_type": "slide"
      }
     },
     "source": [
      "## Parameters and Arguments\n",
      "\n",
      "Some functions we have seen require arguments. For example, `type(\"apple\")` takes one argument. \n",
      "\n",
      "Inside the function, the **arguments** (what we pass into the function) are assigned to variables called **parameters**."
     ]
    },
    {
     "cell_type": "code",
     "collapsed": false,
     "input": [
      "def print_twice(bruce):\n",
      "    print bruce\n",
      "    print bruce"
     ],
     "language": "python",
     "metadata": {
      "slideshow": {
       "slide_type": "fragment"
      }
     },
     "outputs": []
    },
    {
     "cell_type": "code",
     "collapsed": false,
     "input": [
      "print_twice('Spam') # 'Spam' is an argument for the parameter bruce\n",
      "print_twice(17)\n",
      "print_twice(pi)"
     ],
     "language": "python",
     "metadata": {
      "slideshow": {
       "slide_type": "fragment"
      }
     },
     "outputs": []
    },
    {
     "cell_type": "markdown",
     "metadata": {},
     "source": [
      "Functions can accept multiple parameters\n",
      "\n",
      "```python\n",
      "def perimeter(length, n_sides):\n",
      "```\n",
      "\n",
      "and parameters at the end, can have default values assigned:"
     ]
    },
    {
     "cell_type": "code",
     "collapsed": false,
     "input": [
      "def perimeter(length, n_sides=4):\n",
      "    return length*n_sides\n",
      "\n",
      "print(perimeter(10))"
     ],
     "language": "python",
     "metadata": {},
     "outputs": []
    },
    {
     "cell_type": "code",
     "collapsed": false,
     "input": [
      "print(perimeter(10, 5))"
     ],
     "language": "python",
     "metadata": {},
     "outputs": []
    },
    {
     "cell_type": "markdown",
     "metadata": {},
     "source": [
      "and parameters could even referenced by name(s)"
     ]
    },
    {
     "cell_type": "code",
     "collapsed": false,
     "input": [
      "print(perimeter(length=10, n_sides=5))"
     ],
     "language": "python",
     "metadata": {},
     "outputs": []
    },
    {
     "cell_type": "markdown",
     "metadata": {},
     "source": [
      "- - -\n",
      "\n",
      "**Excercise**\n",
      "\n",
      "In the `perimeter` calls above, \n",
      "\n",
      "- Try to not specify first parameter at all.\n",
      "\n",
      "- Try to specify first by name, and 2nd without name.\n",
      "\n",
      "- Try to swap named parameters, would it still work correctly? how do you know that it does? (e.g. add print statements inside function to know 100% sure)\n",
      "- - -"
     ]
    },
    {
     "cell_type": "markdown",
     "metadata": {},
     "source": [
      "## Return values\n",
      "\n",
      "In the example above we returned a number.  But if no `return` statement is executed, function returns `None`.\n",
      "\n",
      "* You can have multiple `return`s in your function, but after `return` no other statement in the function is executed, thus you can use it to force-exit function early\n",
      "\n",
      "* Return expression can be any Python data type (including both built-in and custom data structures) and thus could accommodate returning multiple values:"
     ]
    },
    {
     "cell_type": "code",
     "collapsed": false,
     "input": [
      "def get_name_and_age(codename):\n",
      "    \"\"\"Secure db lookup for name/age\n",
      "    \n",
      "    Parameters\n",
      "    ----------\n",
      "    codename\n",
      "      Codename for the subject, as we coded them to satisfy IRB\n",
      "      protocol\n",
      "    \"\"\"\n",
      "    # somewhere here magic happens\n",
      "    return \"Joe\", 27\n",
      "\n",
      "name, age = get_name_and_age(\"ignored atm\")\n",
      "print \"Subject {} of age {}\".format(name, age)"
     ],
     "language": "python",
     "metadata": {},
     "outputs": []
    },
    {
     "cell_type": "markdown",
     "metadata": {},
     "source": [
      "- - -\n",
      "**Excercises**\n",
      "\n",
      "- Try returning more than 2 values?\n",
      "\n",
      "- What error would you get if you return more or less values than expected outside?"
     ]
    },
    {
     "cell_type": "heading",
     "level": 2,
     "metadata": {},
     "source": [
      "Docstrings"
     ]
    },
    {
     "cell_type": "markdown",
     "metadata": {},
     "source": [
      "* A docstring is a string literal that occurs as the first statement\n",
      "  in a module, function, class, or method definition\n",
      "\n",
      "* The built-in PyDoc module and Sphinx (used for the class website)\n",
      "  can automatically generate documentation if the programmer uses\n",
      "  docstrings\n",
      "\n",
      "* See [PEP-257](http://www.python.org/dev/peps/pep-0257/) for details\n",
      "\n",
      "In the example above `get_name_and_age` function got a docstring describing that function's purpose and constitutes that function.  It is very easy to lookup a documentation for a function (or any other object) in IPython, just add a `?` to its name to get a popout documentation:"
     ]
    },
    {
     "cell_type": "code",
     "collapsed": false,
     "input": [
      "get_name_and_age?"
     ],
     "language": "python",
     "metadata": {},
     "outputs": []
    },
    {
     "cell_type": "markdown",
     "metadata": {},
     "source": [
      "- - -\n",
      "\n",
      "**Excercise**\n",
      "\n",
      "Write a function called `euclidean_distance` which takes 4 arguments for coordinates of 2 points on 2d plane, and returns euclidean distance between them.\n"
     ]
    },
    {
     "cell_type": "markdown",
     "metadata": {
      "slideshow": {
       "slide_type": "slide"
      }
     },
     "source": [
      "## Variable Scope\n",
      "\n",
      "When you create a variable inside a function, it is local, which means that it only exists\n",
      "inside the function. We call this a \"local variable\" or a \"variable with local scope.\" Variables created outside of funcionals are \"global variables\" or \"variable with global scope.\" "
     ]
    },
    {
     "cell_type": "markdown",
     "metadata": {
      "slideshow": {
       "slide_type": "fragment"
      }
     },
     "source": [
      "##Which variables here are *local*? Which are *global*?\n",
      "```python\n",
      "def cat_twice(part1, part2):\n",
      "    cat = part1 + part2\n",
      "    print cat\n",
      "    print cat\n",
      "\n",
      "line1 = 'Bing tiddle '\n",
      "line2 = 'tiddle bang.'\n",
      "\n",
      "cat_twice(line1, line2)\n",
      "```"
     ]
    },
    {
     "cell_type": "heading",
     "level": 3,
     "metadata": {},
     "source": [
      "Parameters are also local. For example, outside cat_twice, there is no such thing as part1 or part2."
     ]
    },
    {
     "cell_type": "code",
     "collapsed": false,
     "input": [
      "global_var = 'foo'\n",
      "def example():\n",
      "    local_var = 'bar'\n",
      "    print global_var\n",
      "    print local_var\n",
      "\n",
      "example()\n",
      "print global_var\n",
      "print local_var  # this gives an error"
     ],
     "language": "python",
     "metadata": {
      "slideshow": {
       "slide_type": "subslide"
      }
     },
     "outputs": []
    },
    {
     "cell_type": "markdown",
     "metadata": {},
     "source": [
      "## Let's play the Guess game.  What will be the output?"
     ]
    },
    {
     "cell_type": "code",
     "collapsed": false,
     "input": [
      "X = 99\n",
      "def func(Y):\n",
      "    print X + Y\n",
      "\n",
      "func(1)"
     ],
     "language": "python",
     "metadata": {
      "slideshow": {
       "slide_type": "slide"
      }
     },
     "outputs": []
    },
    {
     "cell_type": "code",
     "collapsed": false,
     "input": [
      "X = 99\n",
      "def func(Y):\n",
      "    X = 44\n",
      "    print X + Y\n",
      "\n",
      "func(1)"
     ],
     "language": "python",
     "metadata": {
      "slideshow": {
       "slide_type": "subslide"
      }
     },
     "outputs": []
    },
    {
     "cell_type": "code",
     "collapsed": false,
     "input": [
      "X = 99\n",
      "def func(Y):\n",
      "    print X + Y\n",
      "X = 32\n",
      "func(1)"
     ],
     "language": "python",
     "metadata": {
      "slideshow": {
       "slide_type": "subslide"
      }
     },
     "outputs": []
    },
    {
     "cell_type": "code",
     "collapsed": false,
     "input": [
      "X = 99\n",
      "def func(Y):\n",
      "    X = 14\n",
      "    print X + Y\n",
      "X = 32\n",
      "func(1)"
     ],
     "language": "python",
     "metadata": {
      "slideshow": {
       "slide_type": "subslide"
      }
     },
     "outputs": []
    },
    {
     "cell_type": "code",
     "collapsed": false,
     "input": [
      "X = 99\n",
      "def func(Y):\n",
      "    Z = X + Y\n",
      "    print Z\n",
      "X = 32\n",
      "func(1)"
     ],
     "language": "python",
     "metadata": {
      "slideshow": {
       "slide_type": "subslide"
      }
     },
     "outputs": []
    },
    {
     "cell_type": "code",
     "collapsed": false,
     "input": [
      "X = 99\n",
      "def func(Y):\n",
      "    Z = X + Y\n",
      "    X = 0\n",
      "    print Z\n",
      "X = 32\n",
      "func(1)"
     ],
     "language": "python",
     "metadata": {
      "slideshow": {
       "slide_type": "subslide"
      }
     },
     "outputs": []
    },
    {
     "cell_type": "code",
     "collapsed": false,
     "input": [
      "X = 99\n",
      "def func(Y):\n",
      "    global X\n",
      "    Z = X + Y\n",
      "    X = 0\n",
      "    print Z\n",
      "X = 32\n",
      "func(1)\n",
      "print(X)"
     ],
     "language": "python",
     "metadata": {
      "slideshow": {
       "slide_type": "subslide"
      }
     },
     "outputs": []
    },
    {
     "cell_type": "markdown",
     "metadata": {
      "slideshow": {
       "slide_type": "slide"
      }
     },
     "source": [
      "#Why functions?\n",
      "It may not be clear why it is worth the trouble to divide a program into functions. There are several reasons!\n",
      "\n",
      "##Can you think of some?"
     ]
    },
    {
     "cell_type": "markdown",
     "metadata": {
      "slideshow": {
       "slide_type": "fragment"
      }
     },
     "source": [
      "* Creating a new function gives you an opportunity to name a group of statements, which makes your program easier to read and debug."
     ]
    },
    {
     "cell_type": "markdown",
     "metadata": {
      "slideshow": {
       "slide_type": "fragment"
      }
     },
     "source": [
      "* Functions can make a program smaller by eliminating repetitive code. Later, if you make a change, you only have to make it in one place!"
     ]
    },
    {
     "cell_type": "markdown",
     "metadata": {
      "slideshow": {
       "slide_type": "fragment"
      }
     },
     "source": [
      "* Dividing a long program into functions allows you to debug the parts one at a time and then assemble them into a working whole. Using the Console like we just did for `cat_twice()` is a great way to test your functions!"
     ]
    },
    {
     "cell_type": "markdown",
     "metadata": {
      "slideshow": {
       "slide_type": "fragment"
      }
     },
     "source": [
      "* Well-designed functions are often useful for many programs. Once you write and debug one, you can reuse it. **This is called a library!**"
     ]
    },
    {
     "cell_type": "markdown",
     "metadata": {
      "slideshow": {
       "slide_type": "fragment"
      }
     },
     "source": [
      "* Wrapping functionality into a function allows for its unit automated unit-testing to guarantee that it works as desired"
     ]
    }
   ],
   "metadata": {}
  }
 ]
}