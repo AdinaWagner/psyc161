{
 "metadata": {
  "name": "",
  "signature": "sha256:c0d323a8727fc924c358a5eff4207dd42799ccff23a21a8d5e2a50bc246581d9"
 },
 "nbformat": 3,
 "nbformat_minor": 0,
 "worksheets": [
  {
   "cells": [
    {
     "cell_type": "heading",
     "level": 1,
     "metadata": {},
     "source": [
      "Hands-on: Python Fundamentals -- Context Handlers"
     ]
    },
    {
     "cell_type": "markdown",
     "metadata": {},
     "source": [
      "**Objectives:**\n",
      "\n",
      "Upon completion of this lesson, you should be able to\n",
      "\n",
      "1. State the purpose of using **with** (contenxt handler) statement\n",
      "\n",
      "2. Know how to use some pre-defined ones and define your own"
     ]
    },
    {
     "cell_type": "heading",
     "level": 3,
     "metadata": {},
     "source": [
      "Purpose of Context Handler"
     ]
    },
    {
     "cell_type": "markdown",
     "metadata": {},
     "source": [
      "Context handler defined by using [with](https://docs.python.org/2/reference/compound_stmts.html#with) is pretty much shortcut/sugaring for **try/finally** exception handling, e.g. instead of"
     ]
    },
    {
     "cell_type": "code",
     "collapsed": false,
     "input": [
      "f = open(\"05c-Python-Fundamentals-Handlers.ipynb\")\n",
      "try:\n",
      "    # DO SOME MAGIC with f\n",
      "    pass\n",
      "finally:\n",
      "    f.close()"
     ],
     "language": "python",
     "metadata": {},
     "outputs": []
    },
    {
     "cell_type": "markdown",
     "metadata": {},
     "source": [
      "we can do"
     ]
    },
    {
     "cell_type": "code",
     "collapsed": false,
     "input": [
      "with open(\"05c-Python-Fundamentals-Handlers.ipynb\") as f:\n",
      "    # DO SOME MAGIC with f\n",
      "    pass"
     ],
     "language": "python",
     "metadata": {},
     "outputs": []
    },
    {
     "cell_type": "heading",
     "level": 3,
     "metadata": {},
     "source": [
      "User-defined context handler"
     ]
    },
    {
     "cell_type": "markdown",
     "metadata": {},
     "source": [
      "- **HOWTO**: Define a class having\n",
      "\n",
      "  - `__enter__` method to define actions to be accomplished before \"try\"\n",
      "  - `__exit__` method to define actions to do in \"finally\"\n",
      "\n",
      "In the below (somewhat \"advanced\") example we will create a [mocking](http://en.wikipedia.org/wiki/Mock_object) context handler, which would redefine `__builtin__`  raw_input which gave us so much fun in homework testing.\n",
      "\n",
      "- - -\n",
      "**FYI**\n",
      "\n",
      "`__builtin__` is the module of all those built-in functions (suchas `raw_input`), exceptions (e.g. `ValueError`) etc. You can `dir(__builtin__)` to see what else it contains.  And since it is Python -- we can easily assign anything else to any of those within __builtin__ module, thus augmenting how they work -- that is called 'mock'ing.  [mock](https://pypi.python.org/pypi/mock) module provides lots of handy functions and context handlers."
     ]
    },
    {
     "cell_type": "code",
     "collapsed": false,
     "input": [
      "class fake_raw_input(object):\n",
      "    \"\"\"A balm for the soul of folks struggling with Travis and HW2\"\"\"\n",
      "    \n",
      "    def __init__(self, answers):\n",
      "        self.answers = answers\n",
      "    \n",
      "    def _my_raw_input(self, msg=\"\"):\n",
      "        \"\"\"A method which will mimic raw_input\"\"\"\n",
      "        # present message\n",
      "        print msg,\n",
      "        return self.answers.pop(0)\n",
      "    \n",
      "    def __enter__(self):\n",
      "        # do evil mocking of raw_input!\n",
      "        # step 1: remember what was original function\n",
      "        self._builtin_raw_input = __builtin__.raw_input\n",
      "        # step 2: assign our own function\n",
      "        __builtin__.raw_input = self._my_raw_input\n",
      "    \n",
      "    def __exit__(self, exc_type, exc_value, traceback):\n",
      "        # We do not care about exception which could have happened\n",
      "        \n",
      "        # step 1: return raw_input back to the __builtin__\n",
      "        __builtin__.raw_input = self._builtin_raw_input    \n",
      "        \n",
      "        # Advanced hint: If we wanted to handle and \"swallow\" possiblyraised\n",
      "        # exception, we would have returned True.  But we do not return it,\n",
      "        # so it would propagate normally\n",
      "        # return True"
     ],
     "language": "python",
     "metadata": {},
     "outputs": []
    },
    {
     "cell_type": "code",
     "collapsed": false,
     "input": [
      "with fake_raw_input([\"1\", \"candy\"]):\n",
      "    print raw_input(\"How old are you?\")\n",
      "    print raw_input(\"What do you want?\")"
     ],
     "language": "python",
     "metadata": {},
     "outputs": []
    },
    {
     "cell_type": "code",
     "collapsed": false,
     "input": [
      "# and we still have valid raw_input outside:\n",
      "raw_input(\"gimme smth: \")"
     ],
     "language": "python",
     "metadata": {},
     "outputs": []
    },
    {
     "cell_type": "markdown",
     "metadata": {},
     "source": [
      "- - -\n",
      "**Excercise**\n",
      "\n",
      "Clone your HW2 (or HW3) solution to your current desktop.  Define in your code (try avoiding cut/paste) such a context handler overriding raw_input and mimicing input for your test."
     ]
    }
   ],
   "metadata": {}
  }
 ]
}