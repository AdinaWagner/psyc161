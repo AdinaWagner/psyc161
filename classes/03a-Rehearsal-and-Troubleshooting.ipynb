{
 "metadata": {
  "name": "",
  "signature": "sha256:b067e4d3b6a7f14961c7c1253516e75f03e846ed2998fd48ec0f607f8e701698"
 },
 "nbformat": 3,
 "nbformat_minor": 0,
 "worksheets": [
  {
   "cells": [
    {
     "cell_type": "heading",
     "level": 1,
     "metadata": {},
     "source": [
      "Hands-on: Python Fundamentals -- Rehearsing Lectures and HW #2"
     ]
    },
    {
     "cell_type": "heading",
     "level": 2,
     "metadata": {},
     "source": [
      "Technicalities"
     ]
    },
    {
     "cell_type": "heading",
     "level": 3,
     "metadata": {},
     "source": [
      "Homework is \"complete\" only when Travis is happy!"
     ]
    },
    {
     "cell_type": "markdown",
     "metadata": {},
     "source": [
      "Fix up your HW1 and HW2 to the state of satisfying Travis (and me)"
     ]
    },
    {
     "cell_type": "heading",
     "level": 3,
     "metadata": {},
     "source": [
      "Use github's issues"
     ]
    },
    {
     "cell_type": "markdown",
     "metadata": {},
     "source": [
      "Use them to raise question/discussion.  You can subscribe to repository, or specific thread"
     ]
    },
    {
     "cell_type": "heading",
     "level": 3,
     "metadata": {},
     "source": [
      "Being on a \"dark\" side"
     ]
    },
    {
     "cell_type": "markdown",
     "metadata": {},
     "source": [
      "psyc161-hw2 repository is private now, so \n",
      "- we don't have coveralls reports any longer\n",
      "- travis still works for you and you could view coverage % in its output (or just run `nose --with-coverage` locally)"
     ]
    },
    {
     "cell_type": "heading",
     "level": 3,
     "metadata": {},
     "source": [
      "If stuck/error/confused/..."
     ]
    },
    {
     "cell_type": "markdown",
     "metadata": {},
     "source": [
      "Send me an email with screenshot or copy-paste from the terminal which \"presents\" the problem.  Don't try to go into elaborate descriptions without original error message/traceback/etc."
     ]
    },
    {
     "cell_type": "heading",
     "level": 3,
     "metadata": {},
     "source": [
      "Travis stopped testing my PR"
     ]
    },
    {
     "cell_type": "markdown",
     "metadata": {},
     "source": [
      "Step 1. **Blame Yarik**\n",
      "\n",
      "Step 2. Add original homework repository as an additional remote (if you haven't done so)\n",
      "\n",
      "Step 3. Merge my master \n",
      "\n",
      "Step 4. Push again"
     ]
    },
    {
     "cell_type": "heading",
     "level": 3,
     "metadata": {},
     "source": [
      "\"Office hours\""
     ]
    },
    {
     "cell_type": "markdown",
     "metadata": {},
     "source": [
      "Should we set some fixed hours or let's just keep doing it flexible \"on demand/availability\"?"
     ]
    },
    {
     "cell_type": "heading",
     "level": 2,
     "metadata": {},
     "source": [
      "Programming"
     ]
    },
    {
     "cell_type": "heading",
     "level": 3,
     "metadata": {},
     "source": [
      "Functions are a \"first class citizen\" -- pass them as arguments to other functions"
     ]
    },
    {
     "cell_type": "markdown",
     "metadata": {},
     "source": [
      "If I have a function which uses e.g. `raw_input`:"
     ]
    },
    {
     "cell_type": "code",
     "collapsed": false,
     "input": [
      "def func_which_calls_raw_input(args):\n",
      "    response = raw_input()\n",
      "    return args + response\n",
      "func_which_calls_raw_input(\"bogus\")"
     ],
     "language": "python",
     "metadata": {},
     "outputs": []
    },
    {
     "cell_type": "markdown",
     "metadata": {},
     "source": [
      "but I want to test that function in non-interactive session I can make an argument defaulting to `raw_input`, which would behave identical"
     ]
    },
    {
     "cell_type": "code",
     "collapsed": false,
     "input": [
      "def func_which_calls_raw_input(args, input_func=raw_input):\n",
      "    response = input_func()\n",
      "    return args + response\n",
      "func_which_calls_raw_input(\"bogus\")"
     ],
     "language": "python",
     "metadata": {},
     "outputs": []
    },
    {
     "cell_type": "markdown",
     "metadata": {},
     "source": [
      "but also would allow to \"fake\" inputs:"
     ]
    },
    {
     "cell_type": "code",
     "collapsed": false,
     "input": [
      "def return1():\n",
      "    return '1'\n",
      "\n",
      "func_which_calls_raw_input(\"bogus\", input_func=return1)"
     ],
     "language": "python",
     "metadata": {},
     "outputs": []
    },
    {
     "cell_type": "markdown",
     "metadata": {},
     "source": [
      "- - -\n",
      "**Excercise**\n",
      "\n",
      "We need to pass a function which would upon each call return a new value from a series of predefined outputs. E.g. first time it should return '1', then 'a', ... .  How can we create such a function?\n",
      "\n",
      "Logistically speaking, we haven't learned yet classes or generators, which could provide us an ultimate solution, so let's just recall our earlier classes and scopes of variables and operations on lists.  Implement a function which on the first run outputs \"1\", on the 2nd \"a\", and on the 3rd one \"done\".  It would be ok to crash with some exception if it is called 4th time."
     ]
    },
    {
     "cell_type": "code",
     "collapsed": false,
     "input": [],
     "language": "python",
     "metadata": {},
     "outputs": []
    }
   ],
   "metadata": {}
  }
 ]
}