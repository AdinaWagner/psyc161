{
 "metadata": {
  "name": "",
  "signature": "sha256:46e3f3f0faef6848b06aac9d381b13161fba7225a073b92f09527b86a6c53f1e"
 },
 "nbformat": 3,
 "nbformat_minor": 0,
 "worksheets": [
  {
   "cells": [
    {
     "cell_type": "heading",
     "level": 1,
     "metadata": {},
     "source": [
      "Hands-on: Python Fundamentals -- Rehearsing Lecture and HW #1"
     ]
    },
    {
     "cell_type": "heading",
     "level": 2,
     "metadata": {},
     "source": [
      "Technicalities"
     ]
    },
    {
     "cell_type": "heading",
     "level": 3,
     "metadata": {},
     "source": [
      "Editing a file"
     ]
    },
    {
     "cell_type": "markdown",
     "metadata": {},
     "source": [
      "- PyCharm Intro"
     ]
    },
    {
     "cell_type": "heading",
     "level": 3,
     "metadata": {},
     "source": [
      "Working with Git remotes"
     ]
    },
    {
     "cell_type": "markdown",
     "metadata": {},
     "source": [
      "- Demonstration of a typical git/github workflow"
     ]
    },
    {
     "cell_type": "markdown",
     "metadata": {},
     "source": [
      "![Typical Git/GitHub workflow](imgs/GitHub-PR-demo1.png)"
     ]
    },
    {
     "cell_type": "markdown",
     "metadata": {},
     "source": [
      "- - -\n",
      "**Excercise**\n",
      "\n",
      "Let's play with \"git pull\" a tiny bit"
     ]
    },
    {
     "cell_type": "markdown",
     "metadata": {},
     "source": [
      "- gitk basic demo\n",
      "- Q: anyone guessed how did Travis/Coverage reports came about?"
     ]
    },
    {
     "cell_type": "heading",
     "level": 2,
     "metadata": {},
     "source": [
      "Programming"
     ]
    },
    {
     "cell_type": "heading",
     "level": 3,
     "metadata": {},
     "source": [
      "Do not expect valid input -- check for it"
     ]
    },
    {
     "cell_type": "code",
     "collapsed": false,
     "input": [
      "def factorial(n):\n",
      "    if (n==1):\n",
      "        return 1\n",
      "    else:\n",
      "        return n*factorial(n-1)"
     ],
     "language": "python",
     "metadata": {},
     "outputs": [],
     "prompt_number": 3
    },
    {
     "cell_type": "code",
     "collapsed": false,
     "input": [
      "# what are possible problem(s), how to overcome?"
     ],
     "language": "python",
     "metadata": {},
     "outputs": [],
     "prompt_number": 7
    },
    {
     "cell_type": "code",
     "collapsed": false,
     "input": [
      "# docstrings (file, function)"
     ],
     "language": "python",
     "metadata": {},
     "outputs": [],
     "prompt_number": 6
    },
    {
     "cell_type": "code",
     "collapsed": false,
     "input": [],
     "language": "python",
     "metadata": {},
     "outputs": []
    },
    {
     "cell_type": "heading",
     "level": 2,
     "metadata": {},
     "source": [
      "AssertionError vs ValueError"
     ]
    },
    {
     "cell_type": "code",
     "collapsed": false,
     "input": [],
     "language": "python",
     "metadata": {},
     "outputs": []
    },
    {
     "cell_type": "heading",
     "level": 2,
     "metadata": {},
     "source": [
      "Docstrings"
     ]
    },
    {
     "cell_type": "markdown",
     "metadata": {},
     "source": [
      "I would advise to stick to this convention\n",
      "\n",
      "https://github.com/numpy/numpy/blob/master/doc/HOWTO_DOCUMENT.rst.txt\n",
      "\n",
      "although PyCharm is not yet \"smart\" about it AFAIK"
     ]
    },
    {
     "cell_type": "heading",
     "level": 2,
     "metadata": {},
     "source": [
      "Avoid duplication"
     ]
    },
    {
     "cell_type": "markdown",
     "metadata": {},
     "source": [
      "If you need to cut/paste more than a 1-2 lines where you only replace a variable (function) name -- you might wanted actually to create a new function.  This would allow to do better \"code reuse\" and create dedicated \"unit-tests\" for that code.\n",
      "\n",
      "**Note**: remember that a function could be assigned to a variable and also be passed into another function as an argument."
     ]
    },
    {
     "cell_type": "heading",
     "level": 2,
     "metadata": {},
     "source": [
      "How to increase \"code coverage %\" ?"
     ]
    },
    {
     "cell_type": "markdown",
     "metadata": {},
     "source": [
      "**Question**: what is \"coverage\"? ;)"
     ]
    },
    {
     "cell_type": "code",
     "collapsed": false,
     "input": [],
     "language": "python",
     "metadata": {},
     "outputs": []
    }
   ],
   "metadata": {}
  }
 ]
}