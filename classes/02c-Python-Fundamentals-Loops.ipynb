{
 "metadata": {
  "name": "",
  "signature": "sha256:1517985f22890ab05a7ed7b0cbcf1f7884bc8f9fce6008b45d8f9f16613e1062"
 },
 "nbformat": 3,
 "nbformat_minor": 0,
 "worksheets": [
  {
   "cells": [
    {
     "cell_type": "heading",
     "level": 1,
     "metadata": {},
     "source": [
      "Hands-on: Python Fundamentals -- Loops"
     ]
    },
    {
     "cell_type": "heading",
     "level": 2,
     "metadata": {},
     "source": [
      "Loops"
     ]
    },
    {
     "cell_type": "markdown",
     "metadata": {},
     "source": [
      "**Objectives:**\n",
      "\n",
      "Upon completion of this lesson, the student will be able to:\n",
      "\n",
      "* Repeat an action in a **while** or **for** loop\n",
      "* Exit the loop \"premuturally\" with **break** or skip current loop body with **continue**"
     ]
    },
    {
     "cell_type": "markdown",
     "metadata": {},
     "source": [
      "Many of you had fun with recursive implementation of factorial.  Theoretically we can implement iteration through sequences using similar recursive tricks but it is inefficient.  \n",
      "\n",
      "Thus I would like you to welcome the \"workhorse\" of programming -- the **loop**.  If recursion is a very powerful construct and used more heavily in functional languages, [lambda calculus](http://en.wikipedia.org/wiki/Lambda_calculus), and [theory of computability](http://en.wikipedia.org/wiki/Computability_theory) in real-life-programming we will simply use *loop*s to either explore sequences of values and iteratively re-execute the same statements until completion or explicit interruption (by user or the system)."
     ]
    },
    {
     "cell_type": "heading",
     "level": 2,
     "metadata": {},
     "source": [
      "For loop"
     ]
    },
    {
     "cell_type": "markdown",
     "metadata": {},
     "source": [
      "**for** loop is probably the most popular loop construct in Python:\n",
      "\n",
      "```python\n",
      "for target in sequence:\n",
      "    do_statements\n",
      "```\n",
      "\n",
      "But so far we have learnt only a single `sequence` type:"
     ]
    },
    {
     "cell_type": "code",
     "collapsed": false,
     "input": [
      "string = \"Yarik knows this stuff well, so will I\"\n",
      "for c in string:\n",
      "    print c,"
     ],
     "language": "python",
     "metadata": {},
     "outputs": []
    },
    {
     "cell_type": "markdown",
     "metadata": {},
     "source": [
      "*Note*: in above snippet I have used a python 2.x trick to avoid printing new line by adding \",\" at the line of the print statement"
     ]
    },
    {
     "cell_type": "markdown",
     "metadata": {},
     "source": [
      "More often you will create/see for loops which operate on lists, tuples and dicts which we will learn next.  Meanwhile I will present you with a `range` function returning a list from start to (not including) end integer:"
     ]
    },
    {
     "cell_type": "code",
     "collapsed": false,
     "input": [
      "# Get input\n",
      "start = int(raw_input(\"start? \"))\n",
      "end = int(raw_input(\"end? \"))\n",
      "\n",
      "# Calculate cumulative sum\n",
      "csum = 0\n",
      "for x in range(start, end):\n",
      "    csum += x\n",
      "    print x, csum\n",
      "print(\"Exited with x==%d\" % x)"
     ],
     "language": "python",
     "metadata": {},
     "outputs": []
    },
    {
     "cell_type": "heading",
     "level": 2,
     "metadata": {},
     "source": [
      "While loop"
     ]
    },
    {
     "cell_type": "markdown",
     "metadata": {},
     "source": [
      "More classical, but less frequently used in Python **while** loop repeats statements while `condition` remains True:\n",
      "\n",
      "```python\n",
      "while condition do:\n",
      "    do_statements\n",
      "    ```"
     ]
    },
    {
     "cell_type": "code",
     "collapsed": false,
     "input": [
      "x = start\n",
      "csum = 0\n",
      "while x < end:\n",
      "    csum += x\n",
      "    print x, csum\n",
      "    x += 1\n",
      "print(\"Exited with x==%d\" % x)"
     ],
     "language": "python",
     "metadata": {},
     "outputs": []
    },
    {
     "cell_type": "markdown",
     "metadata": {},
     "source": [
      "- - -\n",
      "**Miniquiz**\n",
      "\n",
      "- Why do you think **for** loop had x==9 while **while** x==10?\n",
      "\n",
      "\n",
      "- Find (at least) 4 bugs in the script below without running it!"
     ]
    },
    {
     "cell_type": "code",
     "collapsed": false,
     "input": [
      "#!/usr/bin/ env python\n",
      "\n",
      "def compute(n):\n",
      "    i = 0; s = 0\n",
      "    while i <= n:\n",
      "        s += random.random()\n",
      "         i += 1\n",
      "    return s/n\n",
      "\n",
      "n = '10'\n",
      "\n",
      "print('the average of %d random numbers is %g' % (n, compute(n)))"
     ],
     "language": "python",
     "metadata": {},
     "outputs": []
    },
    {
     "cell_type": "markdown",
     "metadata": {},
     "source": [
      "- - -\n",
      "**Excercise**\n",
      "\n",
      "Fix the bugs and refactor to use **for** loop and **range** function."
     ]
    },
    {
     "cell_type": "heading",
     "level": 3,
     "metadata": {},
     "source": [
      "\"break\" instructs to exit the loop"
     ]
    },
    {
     "cell_type": "code",
     "collapsed": false,
     "input": [
      "x = start\n",
      "csum = 0\n",
      "while True:\n",
      "    csum += x\n",
      "    x += 1\n",
      "    print x, csum\n",
      "    if x >= end:\n",
      "        break\n",
      "print(\"Exited with x==%d\" % x)"
     ],
     "language": "python",
     "metadata": {},
     "outputs": []
    },
    {
     "cell_type": "heading",
     "level": 2,
     "metadata": {},
     "source": [
      "\"continue\" instructs to go to the next loop iteration"
     ]
    },
    {
     "cell_type": "code",
     "collapsed": false,
     "input": [
      "x = start\n",
      "csum = 0\n",
      "while x < end:\n",
      "    csum += x\n",
      "    x += 1\n",
      "    if x % 2:\n",
      "        continue # skip printing odd numbers\n",
      "    print x, csum\n",
      "    \n",
      "print(\"Exited with x==%d\" % x)"
     ],
     "language": "python",
     "metadata": {},
     "outputs": []
    },
    {
     "cell_type": "markdown",
     "metadata": {},
     "source": [
      "- - -\n",
      "**Excercise**\n",
      "\n",
      "1. Write a function to compute factorial without recursion. Which `loop`ing strategy (**for**, **while**, **while True  + break**) will you prefer to use?\n",
      "\n",
      "2. Write it as a function (i.e. `def factorial(n)`) and reuse your tests from the [HW1](https://github.com/dartmouth-pbs/psyc161-hw1) to verify its correct operation.\n",
      "\n",
      "3. Use %timeit ipython \"magic\" function to time your recursive and non-recursive implementation -- which will be faster?\n",
      "\n",
      "4. Implement using an alternative looping approach (i.e. if you used **for**, use **while** and vise versa), %timeit as well.  Which one is the winner?"
     ]
    },
    {
     "cell_type": "code",
     "collapsed": false,
     "input": [
      "# Example for howto use %timeit\n",
      "%timeit sqrt(10000)"
     ],
     "language": "python",
     "metadata": {},
     "outputs": []
    },
    {
     "cell_type": "markdown",
     "metadata": {},
     "source": [
      "- - -\n",
      "**More excercises**\n",
      "\n",
      "Switch to external editor, e.g. PyCharm, and in a file *secret_language.py*\n",
      "\n",
      "1. Define a function *reverse_word*, which given a string, returns a string with letters of the original string in inverted order.\n",
      "\n",
      "2. Define a function *encode_sentence*, which given a sentence, swaps each odd word with preceeding its even word.\n",
      "\n",
      "   For each of those functions, provide basic unittests in *test_reverse_word* and *test_reverse_each_word* functions. Execute those tests using *nosetests* to verify correct operation\n",
      "\n",
      "3. How will you \"decode\" a sentence encoded with *encode_sentence* ?\n"
     ]
    },
    {
     "cell_type": "code",
     "collapsed": false,
     "input": [],
     "language": "python",
     "metadata": {},
     "outputs": []
    }
   ],
   "metadata": {}
  }
 ]
}