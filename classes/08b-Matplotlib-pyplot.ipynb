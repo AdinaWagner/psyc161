{
 "metadata": {
  "name": "",
  "signature": "sha256:3c6bb252a952206fcd1ff2118acc1b0222d5ebbcb0003c8fe563af8abb5e3006"
 },
 "nbformat": 3,
 "nbformat_minor": 0,
 "worksheets": [
  {
   "cells": [
    {
     "cell_type": "heading",
     "level": 1,
     "metadata": {},
     "source": [
      "Hands-on: Numerical Python -- Plotting data with Matplotlib.pyplot"
     ]
    },
    {
     "cell_type": "markdown",
     "metadata": {},
     "source": [
      "Heavily based on [Anatomy Of Matplotlib](http://github.com/WeatherGod/AnatomyOfMatplotlib) by Ben Root distributed under the CC Attribution-3.0 Unported license. See [his talk](https://www.youtube.com/watch?v=A2adyFMsut0) to get even deeper insights.\n",
      "\n",
      "**Objectives**\n",
      "\n",
      "Upon completion of this lesson, you will be able to:\n",
      "\n",
      "- produce 2-D plots (line, scatter, bar plots) and graphics in Python using matplotlib"
     ]
    },
    {
     "cell_type": "markdown",
     "metadata": {},
     "source": [
      "# Matplotlib\n",
      "## Introduction\n",
      "Matplotlib is a library for producing publication-quality figures. mpl (for short) was designed from the bottom-up to serve dual-purposes. \n",
      "\n",
      "1. to allow for interactive, cross-platform control of figures and plots\n",
      "2. to make it very easy to produce static raster or vector graphics files without the need for any GUIs.\n",
      "\n",
      "Furthermore, mpl -- much like Python itself -- gives the developer complete control over the appearance of their plots, while still being very usable through a powerful defaults system."
     ]
    },
    {
     "cell_type": "markdown",
     "metadata": {},
     "source": [
      "## Online Documentation\n",
      "\n",
      "- The [matplotlib.org](http://matplotlib.org) project website\n",
      "- [Examples](http://matplotlib.org/examples/index.html)\n",
      "- [FAQs](http://matplotlib.org/faq/index.html)\n",
      "- [API documentation](http://matplotlib.org/api/index.html)\n",
      "- Last but not least to any degree: the [Gallery](http://matplotlib.org/gallery.html)."
     ]
    },
    {
     "cell_type": "markdown",
     "metadata": {},
     "source": [
      "## Mailing Lists and StackOverflow\n",
      "\n",
      "When you are just simply stuck, and can not figure out how to get something to work\n",
      "\n",
      "- matplotlib-users [mailing list](http://sourceforge.net/mail/?group_id=80706)\n",
      "\n",
      "- [StackOverflow](http://stackoverflow.com/questions/tagged/matplotlib)"
     ]
    },
    {
     "cell_type": "markdown",
     "metadata": {
      "slideshow": {
       "slide_type": "-"
      }
     },
     "source": [
      "## What is this \"backend\" thing I keep hearing about?\n",
      "Matplotlib has multiple backends. The backends allow mpl to be used on a variety of platforms with a variety of GUI toolkits (GTK, Qt, Wx, SVG, etc.), all of them written so that most of the time, you will not need to care which backend you are using."
     ]
    },
    {
     "cell_type": "code",
     "collapsed": false,
     "input": [
      "# Turning on inline plots -- just for use in ipython notebooks.\n",
      "%matplotlib inline"
     ],
     "language": "python",
     "metadata": {
      "slideshow": {
       "slide_type": "-"
      }
     },
     "outputs": []
    },
    {
     "cell_type": "code",
     "collapsed": false,
     "input": [
      "import matplotlib\n",
      "print(matplotlib.__version__)\n",
      "print(matplotlib.get_backend())"
     ],
     "language": "python",
     "metadata": {},
     "outputs": []
    },
    {
     "cell_type": "markdown",
     "metadata": {},
     "source": [
      "# On with the show!\n",
      "Matplotlib is a large project and can seem daunting at first. However, by learning the components, it should begin to feel much smaller and more approachable.\n",
      "\n",
      "We start with the most important import statements you will ever need for matplotlib"
     ]
    },
    {
     "cell_type": "code",
     "collapsed": false,
     "input": [
      "import numpy as np\n",
      "import matplotlib.pyplot as plt"
     ],
     "language": "python",
     "metadata": {},
     "outputs": []
    },
    {
     "cell_type": "markdown",
     "metadata": {},
     "source": [
      "# pylab\n",
      "\n",
      "In Python code of otherse you might see import of pylab:\n",
      "\n",
      "```python\n",
      "import pylab as pl\n",
      "```\n",
      "\n",
      "* `pylab` module is shipped together with `matplotlib`\n",
      "\n",
      "* `pylab` provides a single interface to the `matplotlib.pyplot` object-oriented plotting library and `numpy` so functionality from both becomes available in the same namespace\n",
      "\n",
      "*  It is modeled closely after Matlab(TM).\n",
      "\n",
      "*  Therefore, the majority of plotting commands in `pylab` have Matlab(TM) analogs with similar arguments.\n",
      "\n",
      "Because of this Matlab-like purpose, it was a common practice to just do ```from pylab import *``` but it shown to be very ill-advised.  So we will just proceed with importing **numpy** and **pyplot** separately:"
     ]
    },
    {
     "cell_type": "markdown",
     "metadata": {},
     "source": [
      "# pyplot\n",
      "The pyplot module is where everything in matplotlib comes together. It is the launching point for (1) preparing your figures, (2) making plots, and (3) doing any modifications and decorations you want. It all comes together here. Let us take a look at those three catagories of pyplot functions.\n",
      "\n",
      "## Plotting Preparation\n",
      "\n",
      "Function          | Description                                                                                \n",
      ":-----------------|:----------------------------------------------------------\n",
      "`autoscale`       | Autoscale the axis view to the data (toggle).\n",
      "`axes`            | Add an axes to the figure.                                                                 \n",
      "`axis`            | Convenience method to get or set axis properties.\n",
      "`cla`             | Clear the current axes.                                                                    \n",
      "`clf`             | Clear the current figure.                                                                  \n",
      "`clim`            | Set the color limits of the current image.                                                 \n",
      "`delaxes`         | Remove an axes from the current figure.                                                    \n",
      "`locator_params`  | Control behavior of tick locators.                                                         \n",
      "`margins`         | Set or retrieve autoscaling margins.\n",
      "`figure`          | Creates a new figure.                                                                      \n",
      "`gca`             | Return the current axis instance.                                                          \n",
      "`gcf`             | Return a reference to the current figure.                                                  \n",
      "`gci`             | Get the current colorable artist.                                                          \n",
      "`hold`            | Set the hold state.                                                                        \n",
      "`ioff`            | Turn interactive mode off.                                                                 \n",
      "`ion`             | Turn interactive mode on.                                                                  \n",
      "`ishold`          | Return the hold status of the current axes.                                                \n",
      "`isinteractive`   | Return status of interactive mode.                                                         \n",
      "`rc`              | Set the current rc params.                                                                 \n",
      "`rc_context`      | Return a context manager for managing rc settings.                                         \n",
      "`rcdefaults`      | Restore the default rc params.                                                             \n",
      "`savefig`         | Save the current figure.                                                                   \n",
      "`sca`             | Set the current Axes instance.                                                     \n",
      "`sci`             | Set the current image.                                                                     \n",
      "`set_cmap`        | Set the default colormap\n",
      "`setp`            | Set a property on an artist object\n",
      "`show`            | Display a figure\n",
      "`subplot`         | Return a subplot axes positioned by the given grid definition.                             \n",
      "`subplot2grid`    | Create a subplot in a grid.                                                                \n",
      "`subplot_tool`    | Launch a subplot tool window for a figure.                                                 \n",
      "`subplots`        | Create a figure with a set of subplots already made.                                       \n",
      "`subplots_adjust` | Tune the subplot layout.                                                                   \n",
      "`switch_backend`  | Switch the default backend.                                                                \n",
      "`tick_params`     | Change the appearance of ticks and tick labels.                                            \n",
      "`ticklabel_format`| Change the ScalarFormatter used by default for linear axes.           \n",
      "`tight_layout`    | Automatically adjust subplot parameters to give specified padding.                         \n",
      "`xkcd`            | Turns on [XKCD](http://xkcd.com/) sketch-style drawing mode.                             \n",
      "`xlabel`          | Set the *x* axis label of the current axis.                                                \n",
      "`xlim`            | Get or set the *x* limits of the current axes.                                             \n",
      "`xscale`          | Set the scaling of the *x*-axis.                                                           \n",
      "`xticks`          | Get or set the *x*-limits of the current tick locations and labels.                        \n",
      "`ylabel`          | Set the *y* axis label of the current axis.                                                \n",
      "`ylim`            | Get or set the *y*-limits of the current axes.                                             \n",
      "`yscale`          | Set the scaling of the *y*-axis.                                                           \n",
      "`yticks`          | Get or set the *y*-limits of the current tick locations and labels.                        \n",
      "\n",
      "## Plotting Functions\n",
      "\n",
      "Function          | Description\n",
      ":-----------------|:--------------------------------------------\n",
      "`acorr`           | Plot the autocorrelation of *x*\n",
      "`bar`             | Make a bar plot\n",
      "`barbs`           | Plot a 2-D field of barbs\n",
      "`barh`            | Make a horizontal bar plot\n",
      "`boxplot`         | Make a box and whisker plot\n",
      "`broken_barh`     | Plot horizontal bars\n",
      "`cohere`          | Plot the coherence between *x* and *y*\n",
      "`contour`         | Plot contours\n",
      "`contourf`        | Plot filled contours\n",
      "`csd`             | Plot cross-spectral density\n",
      "`errorbar`        | Plot an errorbar graph\n",
      "`eventplot`       | Plot identical parallel lines at specific positions\n",
      "`fill`            | Plot filled polygons\n",
      "`fill_between`    | Make filled polygons between two curves\n",
      "`fill_betweenx`   | Make filled polygons between two horizontal curves\n",
      "`hexbin`          | Make a hexagonal binning plot\n",
      "`hist`            | Plot a histogram\n",
      "`hist2d`          | Make a 2D histogram plot\n",
      "`imshow`          | Display an image on the axes\n",
      "`loglog`          | Make a plot with log scaling on both the *x* and *y* axis\n",
      "`matshow`         | Display an array as a matrix in a new figure window\n",
      "`pcolor`          | Create a pseudocolor plot of a 2-D array\n",
      "`pcolormesh`      | Plot a quadrilateral mesh\n",
      "`pie`             | Plot a pie chart\n",
      "`plot`            | Plot lines and/or markers\n",
      "`plot_date`       | Plot with data with dates\n",
      "`polar`           | Make a polar plot\n",
      "`psd`             | Plot the power spectral density\n",
      "`quiver`          | Plot a 2-D field of arrows\n",
      "`scatter`         | Make a scatter plot of x vs y\n",
      "`semilogx`        | Make a plot with log scaling on the *x* axis \n",
      "`semilogy`        | Make a plot with log scaling on the *y* axis\n",
      "`specgram`        | Plot a spectrogram\n",
      "`spy`             | Plot the sparsity pattern on a 2-D array\n",
      "`stackplot`       | Draws a stacked area plot\n",
      "`stem`            | Create a stem plot\n",
      "`step`            | Make a step plot\n",
      "`streamplot`      | Draws streamlines of a vector flow\n",
      "`tricontour`      | Draw contours on an unstructured triangular grid\n",
      "`tricontourf`     | Draw filled contours on an unstructured triangular grid\n",
      "`tripcolor`       | Create a pseudocolor plot of an unstructured triangular grid\n",
      "`triplot`         | Draw a unstructured triangular grid as lines and/or markers\n",
      "`xcorr`           | Plot the cross-correlation between *x* and *y*\n",
      "\n",
      "## Plot modifiers\n",
      "\n",
      "Function          | Description                                                                                \n",
      ":-----------------|:---------------------------------------------------------------------\n",
      "`annotate`        | Create an annotation: a piece of text referring to a data point\n",
      "`arrow`           | Add an arrow to the axes\n",
      "`axhline`         | Add a horizontal line across the axis\n",
      "`axhspan`         | Add a horizontal span (rectangle) across the axis\n",
      "`axvline`         | Add a vertical line across the axes\n",
      "`axvspan`         | Add a vertical span (rectangle) across the axes\n",
      "`box`             | Turn the axes box on or off\n",
      "`clabel`          | Label a contour plot\n",
      "`colorbar`        | Add a colorbar to a plot\n",
      "`grid`            | Turn the axes grids on or off\n",
      "`hlines`          | Plot horizontal lines\n",
      "`legend`          | Place a legend on the current axes\n",
      "`minorticks_off`  | Remove minor ticks from the current plot\n",
      "`minorticks_on`   | Display minor ticks on the current plot\n",
      "`quiverkey`       | Add a key to a quiver plot\n",
      "`rgrids`          | Get or set the radial gridlines on a polar plot\n",
      "`suptitle`        | Add a centered title to the figure\n",
      "`table`           | Add a table to the current axes\n",
      "`text`            | Add text to the axes\n",
      "`title`           | Set a title of the current axes\n",
      "`vlines`          | Plot vertical lines\n",
      "`xlabel`          | Set the *x* axis label of the current axis\n",
      "`ylabel`          | Set the *y* axis label of the current axis"
     ]
    },
    {
     "cell_type": "markdown",
     "metadata": {},
     "source": [
      "# Figure\n",
      "## Introduction\n",
      "All plotting is done through the [`Figure`](http://matplotlib.org/api/figure_api.html#matplotlib.figure.Figure) object. You can create as many figures as you need. Figures can't do much by themselves, but no plotting can happen without them. They are, literally, the \"canvas\" of your plot."
     ]
    },
    {
     "cell_type": "code",
     "collapsed": false,
     "input": [
      "fig = plt.figure()"
     ],
     "language": "python",
     "metadata": {},
     "outputs": []
    },
    {
     "cell_type": "markdown",
     "metadata": {},
     "source": [
      "Awww, nothing happened! This is because by default mpl will not show anything until told to do so. In other words, the \"interactive mode\" is turned off. This is very useful for scripting where we would not ever want to see the intermediate results. For those who wishes to experiment and want to see their plot as they issue commands, there is the \"plt.ion()\" command they can issue before creating their first figure of their session. For the purpoase of this tutorial, we will leave interactivity off.\n",
      "\n",
      "## Figure properties\n",
      "* figsize : tuple of integers, width, height in inches.\n",
      "    \n",
      "* dpi : integer, esolution of the figure in dots per inch."
     ]
    },
    {
     "cell_type": "code",
     "collapsed": false,
     "input": [
      "fig = plt.figure(figsize=(10, 4))\n",
      "fig.gca()  # needed for the ipython-inline to display anything\n",
      "plt.show()"
     ],
     "language": "python",
     "metadata": {},
     "outputs": []
    },
    {
     "cell_type": "markdown",
     "metadata": {},
     "source": [
      "A really useful utility function is [`figaspect`](http://matplotlib.org/api/figure_api.html?highlight=figaspect#matplotlib.figure.figaspect)"
     ]
    },
    {
     "cell_type": "code",
     "collapsed": false,
     "input": [
      "# Twice as tall\n",
      "fig = plt.figure(figsize=plt.figaspect(2.0))\n",
      "fig.gca()\n",
      "plt.show()"
     ],
     "language": "python",
     "metadata": {},
     "outputs": []
    },
    {
     "cell_type": "markdown",
     "metadata": {},
     "source": [
      "# Axes\n",
      "All plotting is done with respect to an [`Axes`](http://matplotlib.org/api/axes_api.html#matplotlib.axes.Axes). An *Axes* is made up of [`Axis`](http://matplotlib.org/api/axis_api.html#matplotlib.axis.Axis) objects and many other things. An *Axes* object must belong to a *Figure* (and only one *Figure*). Most commands you will ever issue will be with respect to this *Axes* object."
     ]
    },
    {
     "cell_type": "code",
     "collapsed": false,
     "input": [
      "fig = plt.figure()\n",
      "ax = fig.add_subplot(111)\n",
      "ax.plot([1, 2, 3, 4], [10, 20, 25, 30])\n",
      "ax.set_xlim(0.5, 4.5)\n",
      "plt.show()"
     ],
     "language": "python",
     "metadata": {},
     "outputs": []
    },
    {
     "cell_type": "markdown",
     "metadata": {},
     "source": [
      "Interestingly, just about all methods of an *Axes* object exist as a function in the *pyplot* module (and vice-versa). For example, when calling `plt.xlim(1, 10)`, *pyplot* calls `ax.set_xlim(1, 10)` on whichever *Axes* is \"current\". Here is an equivalent version of the above example using just pyplot."
     ]
    },
    {
     "cell_type": "code",
     "collapsed": false,
     "input": [
      "plt.plot([1, 2, 3, 4], [10, 20, 25, 30])\n",
      "plt.xlim(0.5, 4.5)\n",
      "plt.show()"
     ],
     "language": "python",
     "metadata": {},
     "outputs": []
    },
    {
     "cell_type": "markdown",
     "metadata": {},
     "source": [
      "Much cleaner, and much clearer! So, why will most of my examples not follow the pyplot approach? Because [PEP20](http://www.python.org/dev/peps/pep-0020/) \"The Zen of Python\" says:\n",
      "\n",
      "\"Explicit is better than implicit\"\n",
      "\n",
      "While very simple plots, with short scripts would benefit from the conciseness of the pyplot implicit approach, when doing more complicated plots, or working within larger scripts, you will want to explicitly pass around the *Axes* and/or *Figure* object to operate upon."
     ]
    },
    {
     "cell_type": "markdown",
     "metadata": {},
     "source": [
      "## Limits and autoscaling\n",
      "By default, matplotlib will attempt to determine limits for you that encompasses all the data you have plotted.  This is the \"autoscale\" feature. For line and image plots, the limits are not padded, while plots such as scatter plots and bar plots are given some padding."
     ]
    },
    {
     "cell_type": "code",
     "collapsed": false,
     "input": [
      "fig, (ax1, ax2) = plt.subplots(1, 2, figsize=plt.figaspect(0.5))\n",
      "ax1.plot([-10, -5, 0, 5, 10, 15], [-1.2, 2, 3.5, -0.3, -4, 1])\n",
      "ax2.scatter([-10, -5, 0, 5, 10, 15], [-1.2, 2, 3.5, -0.3, -4, 1])\n",
      "plt.show()"
     ],
     "language": "python",
     "metadata": {},
     "outputs": []
    },
    {
     "cell_type": "markdown",
     "metadata": {},
     "source": [
      "A trick with limits is to specify only half of a limit. When done **after** a plot is made, this has the effect of allowing the user to anchor a limit while letting matplotlib to autoscale the rest of it."
     ]
    },
    {
     "cell_type": "code",
     "collapsed": false,
     "input": [
      "# Good -- setting limits after plotting is done\n",
      "fig, (ax1, ax2) = plt.subplots(1, 2, figsize=plt.figaspect(0.5))\n",
      "ax1.plot([-10, -5, 0, 5, 10, 15], [-1.2, 2, 3.5, -0.3, -4, 1])\n",
      "ax2.scatter([-10, -5, 0, 5, 10, 15], [-1.2, 2, 3.5, -0.3, -4, 1])\n",
      "ax1.set_ylim(bottom=-10)\n",
      "ax2.set_xlim(right=25)\n",
      "plt.show()"
     ],
     "language": "python",
     "metadata": {},
     "outputs": []
    },
    {
     "cell_type": "code",
     "collapsed": false,
     "input": [
      "# Bad -- Setting limits before plotting is done\n",
      "fig, (ax1, ax2) = plt.subplots(1, 2, figsize=plt.figaspect(0.5))\n",
      "ax1.set_ylim(bottom=-10)\n",
      "ax2.set_xlim(right=25)\n",
      "ax1.plot([-10, -5, 0, 5, 10, 15], [-1.2, 2, 3.5, -0.3, -4, 1])\n",
      "ax2.scatter([-10, -5, 0, 5, 10, 15], [-1.2, 2, 3.5, -0.3, -4, 1])\n",
      "plt.show()"
     ],
     "language": "python",
     "metadata": {},
     "outputs": []
    },
    {
     "cell_type": "markdown",
     "metadata": {},
     "source": [
      "- - -\n",
      "**Exercise**\n",
      "\n",
      "How would you make a plot with a y-axis such that it starts at 1000 at the bottom, and goes to 500 at the top?\n",
      "\n",
      "Hint: [`set_ylim`](http://matplotlib.org/api/axes_api.html#matplotlib.axes.Axes.set_ylim)"
     ]
    },
    {
     "cell_type": "code",
     "collapsed": false,
     "input": [
      "fig, ax = plt.subplots(1, 1)\n",
      "ax.set_ylim(  )\n",
      "plt.show()"
     ],
     "language": "python",
     "metadata": {},
     "outputs": []
    },
    {
     "cell_type": "heading",
     "level": 3,
     "metadata": {},
     "source": [
      "Interactive mode"
     ]
    },
    {
     "cell_type": "markdown",
     "metadata": {},
     "source": [
      "In above examples we had to collapse multiple plotting commands in a single cell due to \"inline\" mode.  Let's now see how we could \"build up\" or change plot interactively, if we are in non-inline mode, or simply in ipython terminal."
     ]
    },
    {
     "cell_type": "code",
     "collapsed": false,
     "input": [
      "# going out of inline mode to incremental buildup\n",
      "%matplotlib"
     ],
     "language": "python",
     "metadata": {},
     "outputs": []
    },
    {
     "cell_type": "code",
     "collapsed": false,
     "input": [
      "# enable \"interactive\" mode so plot updates after each command\n",
      "plt.interactive(True)\n",
      "fig, (ax1, ax2) = plt.subplots(1, 2, figsize=plt.figaspect(0.5))"
     ],
     "language": "python",
     "metadata": {},
     "outputs": []
    },
    {
     "cell_type": "code",
     "collapsed": false,
     "input": [
      "ax1.plot([-10, -5, 0, 5, 10, 15], [-1.2, 2, 3.5, -0.3, -4, 1])\n",
      "plt.draw()"
     ],
     "language": "python",
     "metadata": {},
     "outputs": []
    },
    {
     "cell_type": "code",
     "collapsed": false,
     "input": [
      "ax2.scatter([-10, -5, 0, 5, 10, 15], [-1.2, 2, 3.5, -0.3, -4, 1])\n",
      "plt.draw()"
     ],
     "language": "python",
     "metadata": {},
     "outputs": []
    },
    {
     "cell_type": "code",
     "collapsed": false,
     "input": [
      "ax1.set_ylim(bottom=-10)\n",
      "ax2.set_xlim(right=25)\n",
      "plt.draw()"
     ],
     "language": "python",
     "metadata": {},
     "outputs": []
    },
    {
     "cell_type": "code",
     "collapsed": false,
     "input": [
      "plt.close()"
     ],
     "language": "python",
     "metadata": {},
     "outputs": []
    },
    {
     "cell_type": "code",
     "collapsed": false,
     "input": [
      "# back to inline mode\n",
      "%matplotlib inline"
     ],
     "language": "python",
     "metadata": {},
     "outputs": []
    },
    {
     "cell_type": "markdown",
     "metadata": {},
     "source": [
      "- - -\n",
      "**Excercise**\n",
      "\n",
      "Fire up terminal and ipython within it.  Repeat above imports and then commands (without %matplotlib) to see incremental build up.  No calls to `plt.draw()` should be necessary in regular ipython shell"
     ]
    },
    {
     "cell_type": "markdown",
     "metadata": {},
     "source": [
      "## Labels and Legends\n",
      "You can label just about anything in mpl. You can provide a label to your plot, which allows your legend to automatically build itself. The X and Y axis can also be labeled, as well as the subplot itself via the title."
     ]
    },
    {
     "cell_type": "code",
     "collapsed": false,
     "input": [
      "fig = plt.figure()\n",
      "ax = fig.add_subplot(111)\n",
      "ax.plot(range(7), [0, 2, 6, 4, 3, 2, 1], label='FFA')\n",
      "ax.plot(range(7), [0, 1, 2, 3, 2, 1, 0], label='PPA')\n",
      "ax.set_ylabel('Percent signal change')\n",
      "ax.set_xlabel('Time (sec)')\n",
      "ax.set_title(\"A tale of two cities\")\n",
      "ax.legend()\n",
      "plt.show()"
     ],
     "language": "python",
     "metadata": {},
     "outputs": []
    },
    {
     "cell_type": "markdown",
     "metadata": {},
     "source": [
      "Also, if you happen to be plotting something that you do not want to appear in the legend, just set the label to \"\\_nolegend\\_\"."
     ]
    },
    {
     "cell_type": "code",
     "collapsed": false,
     "input": [
      "fig, ax = plt.subplots(1, 1)\n",
      "ax.bar([1, 2, 3, 4], [10, 20, 25, 30], label=\"Foobar\")\n",
      "ax.plot([1, 2, 3, 4], [10, 20, 25, 30], label=\"_nolegend_\")\n",
      "ax.legend()\n",
      "plt.show()"
     ],
     "language": "python",
     "metadata": {},
     "outputs": []
    },
    {
     "cell_type": "markdown",
     "metadata": {},
     "source": [
      "## Ticks, Tick Lines, Tick Labels and Tickers\n",
      "This is a constant source of confusion:\n",
      "\n",
      "* A Tick is the *location* of a Tick Label.\n",
      "* A Tick Line is the line that denotes the location of the tick.\n",
      "* A Tick Label is the text that is displayed at that tick.\n",
      "* A [`Ticker`](http://matplotlib.org/api/ticker_api.html#module-matplotlib.ticker) automatically determines the ticks for an Axis and formats the tick labels.\n",
      "\n",
      "[`tick_params()`](http://matplotlib.org/api/axes_api.html#matplotlib.axes.Axes.tick_params) is often used to help configure your tickers."
     ]
    },
    {
     "cell_type": "code",
     "collapsed": false,
     "input": [
      "fig = plt.figure()\n",
      "ax = fig.add_subplot(111)\n",
      "ax.plot([1, 2, 3, 4], [10, 20, 25, 30])\n",
      "ax.xaxis.set_ticks(range(1, 5))               # Set ticks at 1, 2, 3, 4\n",
      "ax.xaxis.set_ticklabels([3, 100, -12, \"foo\"]) # Label ticks as \"3\", \"100\", \"-12\", and \"foo\"\n",
      "ax.tick_params(axis='y', direction='inout', length=10)\n",
      "plt.show()"
     ],
     "language": "python",
     "metadata": {},
     "outputs": []
    },
    {
     "cell_type": "markdown",
     "metadata": {},
     "source": [
      "# Subplots\n",
      "While an *Axes* object can only belong to one *Figure*, A *Figure* can have many *Axes* objects. These are typically called \"subaxes\" or \"subplots\". They act just like regular *Axes*."
     ]
    },
    {
     "cell_type": "code",
     "collapsed": false,
     "input": [
      "fig = plt.figure(figsize=(10, 5))\n",
      "ax = fig.add_subplot(121)\n",
      "ax.plot([1, 2, 3, 4], [10, 20, 25, 30], label='Philadelphia')\n",
      "ax.plot([1, 2, 3, 4], [30, 23, 13, 4], label='Boston')\n",
      "ax.set_title('A tale of two cities')\n",
      "ax.legend()\n",
      "\n",
      "t = np.linspace(0, 7, 25)\n",
      "z = 2 * np.sin(t) + 5\n",
      "ax = fig.add_subplot(122)\n",
      "ax.scatter(t, z, label='Philadelphia')\n",
      "ax.set_title(\"Observed Tide\")\n",
      "ax.legend()\n",
      "\n",
      "fig.suptitle('A title for the whole figure')\n",
      "plt.show()"
     ],
     "language": "python",
     "metadata": {},
     "outputs": []
    },
    {
     "cell_type": "markdown",
     "metadata": {},
     "source": [
      "There are many ways to add and modify subplots in a figure.\n",
      "\n",
      "* [`plt.subplots()`](http://matplotlib.org/api/pyplot_api.html#matplotlib.pyplot.subplots)\n",
      "* [`plt.subplot()`](http://matplotlib.org/api/pyplot_api.html#matplotlib.pyplot.subplot) and [`fig.add_subplot()`](http://matplotlib.org/api/figure_api.html?#matplotlib.figure.Figure.add_subplot)  Which should be familiar to all Matlab users\n",
      "* [`plt.axes()`](http://matplotlib.org/api/pyplot_api.html?#matplotlib.pyplot.axes)\n",
      "* [`plt.subplot2grid()`](http://matplotlib.org/api/pyplot_api.html?#matplotlib.pyplot.subplot2grid)\n",
      "* `plt.subplot_tool()` Interactive modification of subplot spacing.\n",
      "\n",
      "## Spacing\n",
      "The spacing between the subplots can be adjusted using [`plt.subplots_adjust()`](http://matplotlib.org/api/pyplot_api.html?#matplotlib.pyplot.subplots_adjust). Play around with the example below to see how the different arguments affect the spacing."
     ]
    },
    {
     "cell_type": "code",
     "collapsed": false,
     "input": [
      "fig, axes = plt.subplots(2, 2, figsize=(9, 9))\n",
      "plt.subplots_adjust(wspace=0.5, hspace=0.3,\n",
      "                    left=0.125, right=0.9,\n",
      "                    top=0.9,    bottom=0.1)\n",
      "plt.show()"
     ],
     "language": "python",
     "metadata": {},
     "outputs": []
    },
    {
     "cell_type": "markdown",
     "metadata": {},
     "source": [
      "As a last bit of an FAQ, this \"tight_layout\" feature is unrelated to the so-called \"bbox_inches='tight'\" feature that will be discussed separately."
     ]
    },
    {
     "cell_type": "markdown",
     "metadata": {},
     "source": [
      "- - -\n",
      "**Big Excercise**\n",
      "\n",
      "Using what we have learned in the previous lecture (e.g. **nibabel** module) and plotting features we have just \"discovered\":\n",
      "\n",
      "- load BOLD fMRI data from the `tutorial_data` stored in `bold.nii.gz`\n",
      "- load two masks (e.g. 'vt' and 'hoc')\n",
      "- plot two plots\n",
      "  - ROI means of BOLD responses through first 100 time samples of bold time series within each ROI\n",
      "  - scatter plot signal in one ROI against signal in the other ROI\n",
      "- **extra credit**:\n",
      "  - \"git annex get\" and plot \"bold_mc.par\" motion correction parameters\n",
      "  - **super-extra credit**: color points in the above scatter plot based on 'y' coordinate\n"
     ]
    },
    {
     "cell_type": "markdown",
     "metadata": {},
     "source": [
      "## Sharing axes\n",
      "There will be times when you want to have the x axis and/or the y axis of your subplots to be \"shared\". Sharing an axis means that the axis in one or more subplots will be tied together such that any change in one of the axis changes all of the other shared axes. This works very nicely with autoscaling arbitrary datasets that may have overlapping domains. Furthermore, when interacting with the plots (panning and zooming), all of the shared axes will pan and zoom automatically."
     ]
    },
    {
     "cell_type": "code",
     "collapsed": false,
     "input": [
      "# going out of inline mode to demonstrate the zooming and panning\n",
      "%matplotlib"
     ],
     "language": "python",
     "metadata": {},
     "outputs": []
    },
    {
     "cell_type": "code",
     "collapsed": false,
     "input": [
      "fig, (ax1, ax2) = plt.subplots(1, 2, sharex=True, sharey=True)\n",
      "ax1.plot([1, 2, 3, 4], [1, 2, 3, 4])\n",
      "ax2.plot([3, 4, 5, 6], [6, 5, 4, 3])\n",
      "plt.show()"
     ],
     "language": "python",
     "metadata": {},
     "outputs": []
    },
    {
     "cell_type": "code",
     "collapsed": false,
     "input": [
      "# Go back to inline mode\n",
      "%matplotlib inline"
     ],
     "language": "python",
     "metadata": {},
     "outputs": []
    },
    {
     "cell_type": "markdown",
     "metadata": {},
     "source": [
      "## \"Twinning\" axes\n",
      "Sometimes one may want to overlay two plots on the same axes, but the scales may be entirely different. You can simply treat them as separate plots, but then twin them."
     ]
    },
    {
     "cell_type": "code",
     "collapsed": false,
     "input": [
      "fig, ax1 = plt.subplots(1, 1)\n",
      "ax1.plot([1, 2, 3, 4], [1, 2, 3, 4])\n",
      "ax2 = ax1.twinx()\n",
      "ax2.scatter([1, 2, 3, 4], [60, 50, 40, 30])\n",
      "ax1.set_xlabel('X')\n",
      "ax1.set_ylabel('First scale')\n",
      "ax2.set_ylabel('Other scale')\n",
      "plt.show()"
     ],
     "language": "python",
     "metadata": {},
     "outputs": []
    },
    {
     "cell_type": "markdown",
     "metadata": {},
     "source": [
      "# Axis Spines\n",
      "Spines are the axis lines for a plot. Each plot can have four spines: \"top\", \"bottom\", \"left\" and \"right\". By default, they are set so that they frame the plot, but they can be individually positioned and configured via the [`set_position()`](http://matplotlib.org/api/spines_api.html#matplotlib.spines.Spine.set_position) method of the spine. Here are some different configurations."
     ]
    },
    {
     "cell_type": "code",
     "collapsed": false,
     "input": [
      "fig, ax = plt.subplots(1, 1)\n",
      "ax.plot([-2, 2, 3, 4], [-10, 20, 25, 5])\n",
      "ax.spines['top'].set_visible(False)\n",
      "ax.xaxis.set_ticks_position('bottom')  # no ticklines at the top\n",
      "ax.spines['right'].set_visible(False)\n",
      "ax.yaxis.set_ticks_position('left')  # no ticklines on the right\n",
      "\n",
      "# \"outward\"\n",
      "# Move the two remaining spines \"out\" away from the plot by 10 points\n",
      "ax.spines['bottom'].set_position(('outward', 10))\n",
      "ax.spines['left'].set_position(('outward', 10))\n",
      "\n",
      "# \"data\"\n",
      "# Have the spines stay intersected at (0,0)\n",
      "#ax.spines['bottom'].set_position(('data', 0))\n",
      "#ax.spines['left'].set_position(('data', 0))\n",
      "\n",
      "# \"axes\"\n",
      "# Have the two remaining spines placed at a fraction of the axes\n",
      "#ax.spines['bottom'].set_position(('axes', 0.75))\n",
      "#ax.spines['left'].set_position(('axes', 0.25))\n",
      "\n",
      "plt.show()"
     ],
     "language": "python",
     "metadata": {},
     "outputs": []
    },
    {
     "cell_type": "markdown",
     "metadata": {},
     "source": [
      "# Colorbars\n",
      "\n",
      "Colorbars are much like legends because they help to describe the data being displayed. While legends describe plots, i.e., plot(), scatter(), hist(), stem(), colorbars describe images. Let us take a look at a very simple example of a colorbar for a simple 2D image."
     ]
    },
    {
     "cell_type": "code",
     "collapsed": false,
     "input": [
      "y, x = np.ogrid[-6:6:20j, -10:10:30j]\n",
      "z = np.hypot(x, y)\n",
      "plt.imshow(z)\n",
      "plt.colorbar()\n",
      "plt.show()"
     ],
     "language": "python",
     "metadata": {},
     "outputs": []
    },
    {
     "cell_type": "code",
     "collapsed": false,
     "input": [
      "plt.imshow(z)\n",
      "plt.colorbar(orientation='horizontal', shrink=0.75)  # We can make colorbars do all sorts of things!\n",
      "plt.show()"
     ],
     "language": "python",
     "metadata": {},
     "outputs": []
    },
    {
     "cell_type": "code",
     "collapsed": false,
     "input": [
      "plt.imshow(z)\n",
      "cbar = plt.colorbar(extend='both', aspect=10)\n",
      "cbar.set_label('distance')                           # And we can even add a label to it\n",
      "plt.show()"
     ],
     "language": "python",
     "metadata": {},
     "outputs": []
    },
    {
     "cell_type": "markdown",
     "metadata": {},
     "source": [
      "Colorbars in matplotlib can be difficult at times, and the documentation can sometimes be a bit unhelpful (patches welcome!). One of the most common problems that come up is when mixing subplots with a single colorbar:"
     ]
    },
    {
     "cell_type": "code",
     "collapsed": false,
     "input": [
      "fig, (ax1, ax2) = plt.subplots(1, 2)\n",
      "ax1.imshow(z)\n",
      "im = ax2.imshow(z) # Note, due to a bug, you will need to save the\n",
      "                   # returned image object when calling imshow() from an Axes\n",
      "                   # and pass that to plt.colorbar() so that it knows what\n",
      "                   # image to build a colorbar from. This will be fixed for v1.3.1.\n",
      "plt.colorbar(im)\n",
      "plt.show()"
     ],
     "language": "python",
     "metadata": {},
     "outputs": []
    },
    {
     "cell_type": "markdown",
     "metadata": {},
     "source": [
      "Looks terrible, right? What is happening is that a colorbar in matplotlib is just a very squashed subplot with an image of the colormap and axis ticks and labels. When told to create a colorbar for an image, matplotlib will simply \"steal\" space from that image's subplot and create a new subplot. There are a couple ways to deal with this issue. The easier option is to pass a list of all the axes objects to `plt.colorbar(..., ax)`, and it will steal space equally from them."
     ]
    },
    {
     "cell_type": "code",
     "collapsed": false,
     "input": [
      "fig, (ax1, ax2) = plt.subplots(1, 2)\n",
      "ax1.imshow(z)\n",
      "im = ax2.imshow(z)\n",
      "plt.colorbar(im, ax=[ax1, ax2], shrink=0.5)\n",
      "plt.show()"
     ],
     "language": "python",
     "metadata": {},
     "outputs": []
    },
    {
     "cell_type": "markdown",
     "metadata": {},
     "source": [
      "- - -\n",
      "**Excercise**\n",
      "\n",
      "1. Create a simple \"3d viewer\" which given an array with 3 axis, would plot 3 subplots with \"axial\", \"coronal\", \"sagital\" views for a given coordinate in a 2x2 layout, e.g.\n",
      "```python\n",
      "def view3d(data, x, y, z):\n",
      "    # create a plot\n",
      "```\n",
      "2. Improve it so if 4d data is passed, it would also plot in the 4th subplot with the time series for that voxel."
     ]
    },
    {
     "cell_type": "markdown",
     "metadata": {},
     "source": [
      "# Saving the figures"
     ]
    },
    {
     "cell_type": "markdown",
     "metadata": {},
     "source": [
      "Figures could be saved using `.savefig` of the figure object.  \n",
      "\n",
      "**Note**: it should be done before you close that figure image if in interactive non-inline mode"
     ]
    },
    {
     "cell_type": "code",
     "collapsed": false,
     "input": [
      "fig, (ax1, ax2) = plt.subplots(1, 2)\n",
      "ax1.imshow(z)\n",
      "im = ax2.imshow(z)\n",
      "plt.colorbar(im, ax=[ax1, ax2], shrink=0.5)\n",
      "\n",
      "# in raster format (for small size, temporary review)\n",
      "fig.savefig(\"fig.png\")\n",
      "# in vector format with all the details for near-publication quality\n",
      "fig.savefig(\"fig.svg\")\n",
      "# and we do not even care to \"see\" it\n",
      "plt.close(fig)"
     ],
     "language": "python",
     "metadata": {},
     "outputs": []
    },
    {
     "cell_type": "code",
     "collapsed": false,
     "input": [
      "!ls fig.*"
     ],
     "language": "python",
     "metadata": {},
     "outputs": []
    },
    {
     "cell_type": "markdown",
     "metadata": {},
     "source": [
      "** Results: **\n",
      "\n",
      "fig.png: ![png:](fig.png)\n",
      "\n",
      "fig.svg: ![svg:](fig.svg)"
     ]
    },
    {
     "cell_type": "code",
     "collapsed": false,
     "input": [],
     "language": "python",
     "metadata": {},
     "outputs": []
    }
   ],
   "metadata": {}
  }
 ]
}