{
 "metadata": {
  "name": "",
  "signature": "sha256:1154f27b3b0b1403cb90c49ee532db0aa1b57547d93fc3fcf31196a770398c9f"
 },
 "nbformat": 3,
 "nbformat_minor": 0,
 "worksheets": [
  {
   "cells": [
    {
     "cell_type": "heading",
     "level": 1,
     "metadata": {},
     "source": [
      "Hands-on: Python Fundamentals -- Conditionals"
     ]
    },
    {
     "cell_type": "heading",
     "level": 2,
     "metadata": {},
     "source": [
      "Conditionals"
     ]
    },
    {
     "cell_type": "markdown",
     "metadata": {},
     "source": [
      "**Objectives:**\n",
      "\n",
      "Upon completion of this lesson, the student will be able to:\n",
      "\n",
      "* Use conditional statements in Python, including the \"if\", \"if...else\", and \"if...elif\" statements\n",
      "* Use Boolean logic to create complex conditionals\n"
     ]
    },
    {
     "cell_type": "heading",
     "level": 2,
     "metadata": {},
     "source": [
      "Boolean Expressions"
     ]
    },
    {
     "cell_type": "markdown",
     "metadata": {},
     "source": [
      "A **boolean expression** is an expression that is either true or false. \n",
      "\n",
      "```python\n",
      ">>> 5 == 5\n",
      "True\n",
      "\n",
      ">>> 5 == 6\n",
      "False\n",
      "```\n",
      "\n",
      "```python\n",
      ">>> type(True)\n",
      "bool\n",
      "\n",
      ">>> type(False)\n",
      "bool\n",
      "```"
     ]
    },
    {
     "cell_type": "markdown",
     "metadata": {},
     "source": [
      "Not only numeric types could be compared -- pretty much any type which has some comparison operators implemented."
     ]
    },
    {
     "cell_type": "code",
     "collapsed": false,
     "input": [
      "\"Python\".lower() == \"python\""
     ],
     "language": "python",
     "metadata": {},
     "outputs": []
    },
    {
     "cell_type": "code",
     "collapsed": false,
     "input": [
      "(1, \"a\", False) == (1, \"a\", False) # Tuples which we will see later today"
     ],
     "language": "python",
     "metadata": {},
     "outputs": []
    },
    {
     "cell_type": "markdown",
     "metadata": {},
     "source": [
      "The == operator is one of the relational operators; the others are:\n",
      "\n",
      "```python\n",
      "x != y # x is not equal to y\n",
      "x > y # x is greater than y\n",
      "x < y # x is less than y\n",
      "x >= y # x is greater than or equal to y \n",
      "x <= y # x is less than or equal to y```"
     ]
    },
    {
     "cell_type": "markdown",
     "metadata": {},
     "source": [
      "- - -\n",
      "**Note**\n",
      "\n",
      "A common error is to use a single equal sign (=) instead of a double equal sign (==).\n",
      "\n",
      "**Remember that = is an assignment operator and == is a relational operator.**"
     ]
    },
    {
     "cell_type": "heading",
     "level": 2,
     "metadata": {},
     "source": [
      "Logical Operators"
     ]
    },
    {
     "cell_type": "markdown",
     "metadata": {},
     "source": [
      "There are three logical operators: **and**, **or**, and **not**.\n",
      "\n",
      "The meaning of these operators is similar to their meaning in English.\n",
      "\n",
      "#### Note: boolean expressions also follow the parenthesis first rule"
     ]
    },
    {
     "cell_type": "markdown",
     "metadata": {},
     "source": [
      "## True Table -- Not\n",
      "\n",
      "|  X    | not X  | \n",
      "|-------|--------|\n",
      "| True  | False  | \n",
      "| False | True   | \n",
      "\n"
     ]
    },
    {
     "cell_type": "markdown",
     "metadata": {},
     "source": [
      "## True Table -- AND and OR\n",
      "\n",
      "|  X   | Y    | X AND Y | X OR Y | \n",
      "|------|------|---------|--------|\n",
      "|True  | True | True  | True   | \n",
      "|True  | False| False | True   | \n",
      "|False | True | False | True   | \n",
      "|False | False| False | False  | "
     ]
    },
    {
     "cell_type": "markdown",
     "metadata": {},
     "source": [
      "- - -\n",
      "\n",
      "**Excercises**\n",
      "\n",
      "Come up with Python code testing desired logical statements"
     ]
    },
    {
     "cell_type": "code",
     "collapsed": false,
     "input": [
      "# number of subjects is greater than 0 and less than 20\n",
      "n = 10\n"
     ],
     "language": "python",
     "metadata": {},
     "outputs": []
    },
    {
     "cell_type": "code",
     "collapsed": false,
     "input": [
      "# we need to group subjects either into groups of 2 or 3 people.\n",
      "# Do we have the \"right\" number of subjects?\n"
     ],
     "language": "python",
     "metadata": {},
     "outputs": []
    },
    {
     "cell_type": "markdown",
     "metadata": {},
     "source": [
      "- - -\n",
      "\n",
      "**Extra credit (thought) excercise**\n",
      "\n",
      "How (in Python code) can you establish XOR relation of two boolean variables -- write a function **xor(a, b)** and a unit-test for it being correct following this table:\n",
      "\n",
      "\n",
      "|  X   | Y    | X XOR Y | \n",
      "|------|------|---------|\n",
      "|True  | True |  False  | \n",
      "|True  | False|  True   | \n",
      "|False | True |  True   | \n",
      "|False | False|  False  | \n",
      "\n",
      "*Hint #1*: try to verbally state the \"rule\" and make it into the code"
     ]
    },
    {
     "cell_type": "code",
     "collapsed": false,
     "input": [
      "# enter your solution here\n"
     ],
     "language": "python",
     "metadata": {},
     "outputs": []
    },
    {
     "cell_type": "heading",
     "level": 2,
     "metadata": {},
     "source": [
      "Conditional execution (if...)"
     ]
    },
    {
     "cell_type": "markdown",
     "metadata": {},
     "source": [
      "* \n",
      "Syntax:\n",
      "\n",
      "``` python \n",
      "if condition: \n",
      "    do something\n",
      "```\n",
      "\n",
      "* Implicit conversion of the value to bool() happens if `condition` is of a different type than **bool**, thus all of the above is legit:\n"
     ]
    },
    {
     "cell_type": "code",
     "collapsed": false,
     "input": [
      "n = 1\n",
      "\n",
      "if n:\n",
      "    print(\"n is non-0\")\n",
      "\n",
      "if n is None:\n",
      "    print(\"n is None\")\n",
      "    \n",
      "if n is not None:\n",
      "    print(\"n is not None\")"
     ],
     "language": "python",
     "metadata": {},
     "outputs": []
    },
    {
     "cell_type": "code",
     "collapsed": false,
     "input": [
      "s = \"I am so full\"\n",
      "\n",
      "if isinstance(s, str) and not s:\n",
      "    print(\"s is an empty string\")"
     ],
     "language": "python",
     "metadata": {},
     "outputs": []
    },
    {
     "cell_type": "markdown",
     "metadata": {},
     "source": [
      "- - -\n",
      "\n",
      "**Excercise**\n",
      "\n",
      "Tune n and s in above lines to see which lines get printed\n"
     ]
    },
    {
     "cell_type": "heading",
     "level": 2,
     "metadata": {},
     "source": [
      "Alternative execution"
     ]
    },
    {
     "cell_type": "markdown",
     "metadata": {},
     "source": [
      "```python\n",
      "if condition:\n",
      "   do_something\n",
      "else:\n",
      "   do_alternative\n",
      "```"
     ]
    },
    {
     "cell_type": "heading",
     "level": 2,
     "metadata": {},
     "source": [
      "Examples"
     ]
    },
    {
     "cell_type": "markdown",
     "metadata": {},
     "source": [
      "\n",
      "\n",
      "Checking user input:"
     ]
    },
    {
     "cell_type": "code",
     "collapsed": false,
     "input": [
      "x = raw_input(\"x? \")\n",
      "if x.isdigit():\n",
      "    print(\"Your input is a number\")\n",
      "else:\n",
      "    print(\"Please input a number next time\")"
     ],
     "language": "python",
     "metadata": {},
     "outputs": []
    },
    {
     "cell_type": "markdown",
     "metadata": {},
     "source": [
      "- - -\n",
      "\n",
      "Avoiding division by zero:"
     ]
    },
    {
     "cell_type": "code",
     "collapsed": false,
     "input": [
      "x = int(raw_input(\"x? \"))\n",
      "y = int(raw_input(\"y? \"))\n",
      "if y != 0:\n",
      "    print(x / y) # remember about int division \"feature\" in Python2.x?\n",
      "else:\n",
      "    print(\"Attempted division by zero\")"
     ],
     "language": "python",
     "metadata": {},
     "outputs": []
    },
    {
     "cell_type": "markdown",
     "metadata": {},
     "source": [
      "- - -\n",
      "**Excercise**\n",
      "\n",
      "Write a script that asks someone to input subject name and their age.  If the user does not type at least some characters for each of these, print \"Do not leave any fields empty\" otherwise print \"Thank you\"."
     ]
    },
    {
     "cell_type": "code",
     "collapsed": false,
     "input": [],
     "language": "python",
     "metadata": {},
     "outputs": []
    },
    {
     "cell_type": "heading",
     "level": 2,
     "metadata": {},
     "source": [
      "Chained conditionals"
     ]
    },
    {
     "cell_type": "markdown",
     "metadata": {},
     "source": [
      "Once any condition is met, that code is run."
     ]
    },
    {
     "cell_type": "markdown",
     "metadata": {},
     "source": [
      "```python\n",
      "if condition:\n",
      "    do_something\n",
      "elif condition:\n",
      "    do_alternative1\n",
      "else:\n",
      "    do_otherwise # often reserved to report an error\n",
      "                 # after a long list of options\n",
      "    ```"
     ]
    },
    {
     "cell_type": "heading",
     "level": 2,
     "metadata": {},
     "source": [
      "Example"
     ]
    },
    {
     "cell_type": "markdown",
     "metadata": {},
     "source": [
      "\n",
      "\n",
      "Chains of conditionals:"
     ]
    },
    {
     "cell_type": "code",
     "collapsed": false,
     "input": [
      "x = int(raw_input(\"x? \"))\n",
      "y = int(raw_input(\"y? \"))\n",
      "if x < y:\n",
      "    print('x is less than y')\n",
      "elif x > y:\n",
      "    print('x is greater than y')\n",
      "else:\n",
      "    print('x and y are equal')"
     ],
     "language": "python",
     "metadata": {},
     "outputs": []
    },
    {
     "cell_type": "heading",
     "level": 2,
     "metadata": {},
     "source": [
      "Notes on conditionals"
     ]
    },
    {
     "cell_type": "markdown",
     "metadata": {},
     "source": [
      "* You have to have at least one statement inside each branch\n",
      "\n",
      "* You can use the **pass** command while stubbing"
     ]
    },
    {
     "cell_type": "code",
     "collapsed": false,
     "input": [
      "if x < 0:\n",
      "    pass # Handle neg values"
     ],
     "language": "python",
     "metadata": {},
     "outputs": []
    },
    {
     "cell_type": "markdown",
     "metadata": {},
     "source": [
      "* You can have as many elif branches as you need\n",
      "\n",
      "* Conditionals can be nested"
     ]
    },
    {
     "cell_type": "heading",
     "level": 2,
     "metadata": {},
     "source": [
      "Example (nested.py)"
     ]
    },
    {
     "cell_type": "markdown",
     "metadata": {},
     "source": [
      "\n",
      "\n",
      "Nesting conditionals:"
     ]
    },
    {
     "cell_type": "code",
     "collapsed": false,
     "input": [
      "x = int(raw_input(\"x? \"))\n",
      "y = int(raw_input(\"y? \"))\n",
      "z = int(raw_input(\"y? \"))\n",
      "if x == y:\n",
      "    if y == z:\n",
      "        print 'x = y = z'\n",
      "    else:\n",
      "        print 'x = y != z'\n",
      "else:\n",
      "    print 'x != y'"
     ],
     "language": "python",
     "metadata": {},
     "outputs": []
    },
    {
     "cell_type": "heading",
     "level": 2,
     "metadata": {},
     "source": [
      "Complex condition statements"
     ]
    },
    {
     "cell_type": "markdown",
     "metadata": {},
     "source": [
      "* Use Boolean logic operators \n",
      "*and*, \n",
      "*or*, and \n",
      "*not* to chain together simple conditions"
     ]
    },
    {
     "cell_type": "markdown",
     "metadata": {},
     "source": [
      "- - - \n",
      "**Excercise**\n",
      "\n",
      "In the code cells below replace TODO with appropriate checks and manipulate values of x, y, z to trigger all conditions to verify they are correct"
     ]
    },
    {
     "cell_type": "code",
     "collapsed": false,
     "input": [
      "x = \n",
      "y = \n",
      "z = \n",
      "\n",
      "if TODO:\n",
      "    print 'All numbers are identical'"
     ],
     "language": "python",
     "metadata": {},
     "outputs": []
    },
    {
     "cell_type": "code",
     "collapsed": false,
     "input": [
      "if TODO:\n",
      "    print 'All numbers are different'"
     ],
     "language": "python",
     "metadata": {},
     "outputs": []
    },
    {
     "cell_type": "code",
     "collapsed": false,
     "input": [
      "if TODO:\n",
      "    print 'y is equal to either x or z'"
     ],
     "language": "python",
     "metadata": {},
     "outputs": []
    },
    {
     "cell_type": "code",
     "collapsed": false,
     "input": [
      "if TODO:\n",
      "    print 'sum of x and y is not equal to z'"
     ],
     "language": "python",
     "metadata": {},
     "outputs": []
    },
    {
     "cell_type": "heading",
     "level": 2,
     "metadata": {},
     "source": [
      "1 line conditional assignment"
     ]
    },
    {
     "cell_type": "markdown",
     "metadata": {},
     "source": [
      "For code snippets such as\n",
      "\n",
      "```python\n",
      "if condition:\n",
      "    x = value1\n",
      "else:\n",
      "    x = value2\n",
      "```\n",
      "you can use 1 liner:\n",
      "\n",
      "```python\n",
      "x = value1 if condition else value2\n",
      "```"
     ]
    },
    {
     "cell_type": "code",
     "collapsed": false,
     "input": [
      "x = -2\n",
      "y = 0 if x < 0 else x\n",
      "print(y)"
     ],
     "language": "python",
     "metadata": {},
     "outputs": []
    },
    {
     "cell_type": "markdown",
     "metadata": {},
     "source": [
      "- - - \n",
      "**Excercise**\n",
      "\n",
      "Rewrite factorial_recursive function using 1 line conditional assignment.  You can skip any additional checks."
     ]
    },
    {
     "cell_type": "code",
     "collapsed": false,
     "input": [],
     "language": "python",
     "metadata": {},
     "outputs": []
    }
   ],
   "metadata": {}
  }
 ]
}