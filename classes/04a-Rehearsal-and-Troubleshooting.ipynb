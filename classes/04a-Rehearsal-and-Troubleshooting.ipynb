{
 "metadata": {
  "name": "",
  "signature": "sha256:86ff412ecf2dee0150908e8a3b47631b638cbecf7d310bdf9479bfb94e0a5b86"
 },
 "nbformat": 3,
 "nbformat_minor": 0,
 "worksheets": [
  {
   "cells": [
    {
     "cell_type": "heading",
     "level": 1,
     "metadata": {},
     "source": [
      "Hands-on: Python Fundamentals -- Rehearsing Lectures and HW #2"
     ]
    },
    {
     "cell_type": "heading",
     "level": 2,
     "metadata": {},
     "source": [
      "Technicalities"
     ]
    },
    {
     "cell_type": "heading",
     "level": 3,
     "metadata": {},
     "source": [
      "Tip of the trade #1:  git grep"
     ]
    },
    {
     "cell_type": "markdown",
     "metadata": {},
     "source": [
      "Fast way to find occurance of a string or a regular expression among files under git control (i.e. omitting junk files)"
     ]
    },
    {
     "cell_type": "code",
     "collapsed": false,
     "input": [
      "! git grep TODO"
     ],
     "language": "python",
     "metadata": {},
     "outputs": [
      {
       "output_type": "stream",
       "stream": "stdout",
       "text": [
        "02b-Python-Fundamentals-Conditionals.ipynb\u001b[36m:\u001b[m      \"In the code cells below replace \u001b[1;31mTODO\u001b[m with appropriate checks and manipulate values of x, y, z to trigger all conditions to verify they are correct\"\r\n",
        "02b-Python-Fundamentals-Conditionals.ipynb\u001b[36m:\u001b[m      \"if \u001b[1;31mTODO\u001b[m:\\n\",\r\n",
        "02b-Python-Fundamentals-Conditionals.ipynb\u001b[36m:\u001b[m      \"if \u001b[1;31mTODO\u001b[m:\\n\",\r\n",
        "02b-Python-Fundamentals-Conditionals.ipynb\u001b[36m:\u001b[m      \"if \u001b[1;31mTODO\u001b[m:\\n\",\r\n",
        "02b-Python-Fundamentals-Conditionals.ipynb\u001b[36m:\u001b[m      \"if \u001b[1;31mTODO\u001b[m:\\n\",\r\n",
        "03c-Python-Fundamentals-Containers-Dicts.ipynb\u001b[36m:\u001b[m      \"dict(\u001b[1;31mTODO\u001b[m)\"\r\n",
        "03c-Python-Fundamentals-Containers-Dicts.ipynb\u001b[36m:\u001b[m      \"    # \u001b[1;31mTODO\u001b[m magic, try to come up with 1 line solution\\n\",\r\n"
       ]
      }
     ],
     "prompt_number": 1
    },
    {
     "cell_type": "heading",
     "level": 2,
     "metadata": {},
     "source": [
      "Programming"
     ]
    },
    {
     "cell_type": "code",
     "collapsed": false,
     "input": [],
     "language": "python",
     "metadata": {},
     "outputs": []
    }
   ],
   "metadata": {}
  }
 ]
}