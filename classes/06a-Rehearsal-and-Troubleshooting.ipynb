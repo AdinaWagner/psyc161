{
 "metadata": {
  "name": "",
  "signature": "sha256:43a441018e455adc2c9a6ed5fccdb0bc8b11fa4710161c50560756a37fc146cf"
 },
 "nbformat": 3,
 "nbformat_minor": 0,
 "worksheets": [
  {
   "cells": [
    {
     "cell_type": "heading",
     "level": 1,
     "metadata": {},
     "source": [
      "Hands-on: Python Fundamentals -- Rehearsing Lectures and HW #3"
     ]
    },
    {
     "cell_type": "heading",
     "level": 2,
     "metadata": {},
     "source": [
      "Technicalities"
     ]
    },
    {
     "cell_type": "heading",
     "level": 3,
     "metadata": {},
     "source": [
      "\u26a0 How to review and comment on github"
     ]
    },
    {
     "cell_type": "heading",
     "level": 3,
     "metadata": {},
     "source": [
      "Group office hour"
     ]
    },
    {
     "cell_type": "markdown",
     "metadata": {},
     "source": [
      "- to clarify specific questions/concepts\n",
      "- you (students) would need to contribute to the list of those"
     ]
    },
    {
     "cell_type": "heading",
     "level": 2,
     "metadata": {},
     "source": [
      "Programming"
     ]
    },
    {
     "cell_type": "heading",
     "level": 3,
     "metadata": {},
     "source": [
      "Antipatterns"
     ]
    },
    {
     "cell_type": "code",
     "collapsed": false,
     "input": [
      "import os\n",
      "def test_with_temporary_file():\n",
      "    with open(\"/tmp/mine.txt\", 'w') as f:\n",
      "        f.write(\"something\")\n",
      "    os.remove(\"/tmp/mine.txt\")\n",
      "#test_with_temporary_file()        "
     ],
     "language": "python",
     "metadata": {},
     "outputs": [],
     "prompt_number": 14
    },
    {
     "cell_type": "heading",
     "level": 3,
     "metadata": {},
     "source": [
      "tempfile module is your friend for tests"
     ]
    },
    {
     "cell_type": "code",
     "collapsed": false,
     "input": [
      "import tempfile\n",
      "import os\n",
      "with tempfile.NamedTemporaryFile() as f:\n",
      "    f.write('load')\n",
      "    print os.path.exists(f.name)\n",
      "print os.path.exists(f.name)"
     ],
     "language": "python",
     "metadata": {},
     "outputs": [
      {
       "output_type": "stream",
       "stream": "stdout",
       "text": [
        "True\n",
        "False\n"
       ]
      }
     ],
     "prompt_number": 8
    },
    {
     "cell_type": "code",
     "collapsed": false,
     "input": [
      "tempfile.mktemp?"
     ],
     "language": "python",
     "metadata": {},
     "outputs": [],
     "prompt_number": 12
    },
    {
     "cell_type": "heading",
     "level": 2,
     "metadata": {},
     "source": [
      "Questions"
     ]
    }
   ],
   "metadata": {}
  }
 ]
}