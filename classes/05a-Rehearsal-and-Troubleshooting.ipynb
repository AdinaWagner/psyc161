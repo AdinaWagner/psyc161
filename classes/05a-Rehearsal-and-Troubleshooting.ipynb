{
 "metadata": {
  "name": "",
  "signature": "sha256:9a9bf353d20351068ce2ae74236f03064bbd9415c52599b29a3ff07e1431fd7e"
 },
 "nbformat": 3,
 "nbformat_minor": 0,
 "worksheets": [
  {
   "cells": [
    {
     "cell_type": "heading",
     "level": 1,
     "metadata": {},
     "source": [
      "Hands-on: Python Fundamentals -- Rehearsing Lectures and HW #3"
     ]
    },
    {
     "cell_type": "heading",
     "level": 2,
     "metadata": {},
     "source": [
      "Technicalities"
     ]
    },
    {
     "cell_type": "heading",
     "level": 3,
     "metadata": {},
     "source": [
      "\u26a0 \"git add\" new files"
     ]
    },
    {
     "cell_type": "heading",
     "level": 3,
     "metadata": {},
     "source": [
      "\u26a0 \"git status\"/\"git diff\" before \"git commit\""
     ]
    },
    {
     "cell_type": "heading",
     "level": 3,
     "metadata": {},
     "source": [
      "\ud83c\udf01 add \"-s\" to nosetests call to see output"
     ]
    },
    {
     "cell_type": "heading",
     "level": 2,
     "metadata": {},
     "source": [
      "Programming"
     ]
    },
    {
     "cell_type": "heading",
     "level": 3,
     "metadata": {},
     "source": [
      "Relative imports"
     ]
    },
    {
     "cell_type": "markdown",
     "metadata": {},
     "source": [
      "TODO"
     ]
    },
    {
     "cell_type": "heading",
     "level": 3,
     "metadata": {},
     "source": [
      "if \"True\""
     ]
    },
    {
     "cell_type": "markdown",
     "metadata": {},
     "source": [
      "* What is the outcome of\n",
      "```python\n",
      "if something:\n",
      "    ...\n",
      "```\n",
      "if `something` is \n",
      "\n",
      "   * `[]` (i.e. empty list)\n",
      "   * `[None]` (list with a single element which is None)\n",
      "   * `\" \"` (string with a space only)\n",
      "   * `\"\"`\n",
      "   * `tuple()`\n",
      "   * `None`\n",
      "   * `1`\n",
      "   * `\"abracadabra\"`"
     ]
    },
    {
     "cell_type": "heading",
     "level": 3,
     "metadata": {},
     "source": [
      "Antipatterns"
     ]
    },
    {
     "cell_type": "markdown",
     "metadata": {},
     "source": [
      "How do we solve these \"antipatterns\"?\n",
      "\n",
      "1.\n",
      "```python\n",
      "for i in range(len(things)):\n",
      "    ...\n",
      "    thing = things[i]\n",
      "```"
     ]
    },
    {
     "cell_type": "code",
     "collapsed": false,
     "input": [],
     "language": "python",
     "metadata": {},
     "outputs": []
    },
    {
     "cell_type": "markdown",
     "metadata": {},
     "source": [
      "1a. but I need access from multiple iterables!\n",
      "```python\n",
      "for i in range(len(things)):\n",
      "    ...\n",
      "    thing = things[i]\n",
      "    anotherthing = anotherthing[i]\n",
      "```"
     ]
    },
    {
     "cell_type": "code",
     "collapsed": false,
     "input": [],
     "language": "python",
     "metadata": {},
     "outputs": []
    },
    {
     "cell_type": "heading",
     "level": 3,
     "metadata": {},
     "source": [
      "Howto re-ask for an acceptable answer"
     ]
    },
    {
     "cell_type": "markdown",
     "metadata": {},
     "source": [
      "How can we do it?  Let's come up with possible solutions\n",
      "1. using `while True` loop\n",
      "2. using `while ...` loop\n",
      "2. using recursion"
     ]
    },
    {
     "cell_type": "heading",
     "level": 2,
     "metadata": {},
     "source": [
      "Questions"
     ]
    },
    {
     "cell_type": "markdown",
     "metadata": {},
     "source": [
      "- what is the difference(s) between `sys.stdout.write` and `print`?"
     ]
    },
    {
     "cell_type": "heading",
     "level": 3,
     "metadata": {},
     "source": [
      "argparser"
     ]
    },
    {
     "cell_type": "code",
     "collapsed": false,
     "input": [],
     "language": "python",
     "metadata": {},
     "outputs": []
    }
   ],
   "metadata": {}
  }
 ]
}