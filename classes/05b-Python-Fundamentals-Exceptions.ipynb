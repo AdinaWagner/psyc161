{
 "metadata": {
  "name": "",
  "signature": "sha256:e0d82f467919e97e5ae5140a80156e78aef7c79204f52290cf1236c2f5352e8a"
 },
 "nbformat": 3,
 "nbformat_minor": 0,
 "worksheets": [
  {
   "cells": [
    {
     "cell_type": "heading",
     "level": 1,
     "metadata": {},
     "source": [
      "Hands-on: Python Fundamentals -- Exceptions"
     ]
    },
    {
     "cell_type": "markdown",
     "metadata": {},
     "source": [
      "**Objectives:**\n",
      "\n",
      "Upon completion of this lesson, you should be able to\n",
      "\n",
      "1. State the purpose of using *Exceptions*\n",
      "\n",
      "2. Know how to throw, catch and handle them"
     ]
    },
    {
     "cell_type": "heading",
     "level": 3,
     "metadata": {},
     "source": [
      "Purpose of Exceptions"
     ]
    },
    {
     "cell_type": "markdown",
     "metadata": {},
     "source": [
      "Have you seen the \"Inception\" movie?  Similarly to how they get deeper into the dreams, we are getting deeper into nested code blocks and function calls.\n",
      "\n",
      "- - -\n",
      "\n",
      "**Question**: in \"Inception\" they usually kicked out from a dream by dying -- how do we normally \"kick\" out of a function?\n",
      "\n",
      "- - -"
     ]
    },
    {
     "cell_type": "markdown",
     "metadata": {},
     "source": [
      "By raising an [Exception](https://docs.python.org/2/tutorial/errors.html) we initiate a \"kick\" out of a function, regardless how deep, back through the blocks of code and function call stack.  If an `Exception` is thrown and not caught within a function, it propagates higher through the stack of functions until it gets \"caught\" or program exits (if nothing catches it).\n",
      "\n",
      "Most commonly (but not only for that) Exceptions are used to signal an \"Error\", thus they end with \"Error\" in their names\n",
      "\n",
      "- - -\n",
      "\n",
      "**Question**: we have seen quite a few exceptions, which we simply called an \"error message\".  Could you name me a few?\n",
      "\n",
      "- - -"
     ]
    },
    {
     "cell_type": "markdown",
     "metadata": {},
     "source": [
      "https://www.youtube.com/watch?v=6WFerMzBfB8&t=36"
     ]
    },
    {
     "cell_type": "heading",
     "level": 3,
     "metadata": {},
     "source": [
      "Simple usage"
     ]
    },
    {
     "cell_type": "markdown",
     "metadata": {},
     "source": [
      "We have a function which does division (in real life it could do more besides that):"
     ]
    },
    {
     "cell_type": "code",
     "collapsed": false,
     "input": [
      "def divide_by(x, y):\n",
      "    return x/y"
     ],
     "language": "python",
     "metadata": {},
     "outputs": []
    },
    {
     "cell_type": "markdown",
     "metadata": {},
     "source": [
      "and when we call it -- things can go hairy, and the entire program could crash:"
     ]
    },
    {
     "cell_type": "code",
     "collapsed": false,
     "input": [
      "z = divide_by(1, 0)    "
     ],
     "language": "python",
     "metadata": {},
     "outputs": []
    },
    {
     "cell_type": "markdown",
     "metadata": {},
     "source": [
      "one possible solution could have been to test if y is 0 and then have some assumption on what to do/return.  But it might be infeasible to decide on any possible situation when such a function could be called what should be the handling -- should we crash? should we set it to NaN? return None? return 0?\n",
      "\n",
      "So we can avoid making these decisions at a possible point of a problem, and let function caller(s) decide on how to handle this situation in their best interests.\n",
      "\n",
      "We can catch exceptions using **try** **except** construct:"
     ]
    },
    {
     "cell_type": "code",
     "collapsed": false,
     "input": [
      "try:\n",
      "    z = divide_by(1, 0)\n",
      "except ZeroDivisionError as e:\n",
      "    print \"we divided by zero, oh what a big deal\"\n",
      "    z = 0\n",
      "print z"
     ],
     "language": "python",
     "metadata": {},
     "outputs": []
    },
    {
     "cell_type": "markdown",
     "metadata": {},
     "source": [
      "- - -\n",
      "**Excercise**\n",
      "\n",
      "It is possible to have multiple **except** statements for different exception types.  Improve upon above example to also catch another exception which would get thrown if your x or y is not of a numeric type.  In such a case assign None to z and print an angry message to your liking."
     ]
    },
    {
     "cell_type": "heading",
     "level": 3,
     "metadata": {},
     "source": [
      "Full syntax"
     ]
    },
    {
     "cell_type": "markdown",
     "metadata": {},
     "source": [
      "Besides **except**, **try** statement can have few more \"handlers\", e.g.:"
     ]
    },
    {
     "cell_type": "code",
     "collapsed": false,
     "input": [
      "try:\n",
      "    z = divide_by(100., 12)\n",
      "except ZeroDivisionError as e:\n",
      "    print \"we divided by zero, oh what a big deal\"\n",
      "    z = 0\n",
      "else:\n",
      "    print \"No exception were raised anywhere so we can sleep tight\"\n",
      "finally:\n",
      "    print \"And regardless either any exception was raised or not, let's do final cleanup/tuneup\"\n",
      "    z = \"improved z=%.2f\" % z\n",
      "print z"
     ],
     "language": "python",
     "metadata": {},
     "outputs": []
    },
    {
     "cell_type": "markdown",
     "metadata": {},
     "source": [
      "- - -\n",
      "**Excercise**\n",
      "\n",
      "Play with above snippet to cause it raise various exceptions (caught or not caught) and see which lines get printed"
     ]
    },
    {
     "cell_type": "markdown",
     "metadata": {},
     "source": [
      "- - -\n",
      "**Thought excercise**\n",
      "\n",
      "* How we could avoid using \"else\"?\n",
      "* Why it is preferable to use \"else\" statement?"
     ]
    },
    {
     "cell_type": "heading",
     "level": 3,
     "metadata": {},
     "source": [
      "User-defined exceptions"
     ]
    },
    {
     "cell_type": "markdown",
     "metadata": {},
     "source": [
      "- While developing your own module you might like to create some custom exceptions\n",
      "- Subclass base `Exception` class"
     ]
    },
    {
     "cell_type": "code",
     "collapsed": false,
     "input": [
      "class PsycquestError(Exception):\n",
      "    \"\"\"Base class for any error we throw within psycquest\"\"\"\n",
      "    pass\n",
      "\n",
      "class IncorrectAnswerError(PsycquestError):\n",
      "    def __init__(self, answer, correct_answer):\n",
      "        super(IncorrectAnswerError, self).__init__(\n",
      "            \"User gave answer %r whenever correct one was %r\"\n",
      "            % (answer, correct_answer))\n",
      "        self.answer = answer\n",
      "        self.correct_answer = correct_answer"
     ],
     "language": "python",
     "metadata": {},
     "outputs": []
    },
    {
     "cell_type": "code",
     "collapsed": false,
     "input": [
      "raise IncorrectAnswerError(1, 2)"
     ],
     "language": "python",
     "metadata": {},
     "outputs": []
    },
    {
     "cell_type": "markdown",
     "metadata": {},
     "source": [
      "- - -\n",
      "**Excercise**\n",
      "\n",
      "1. Create a function `torture_subject(correct_answer)` which would **raise** the `IncorrectAnswerError` if you entered incorrect answer (`raw_input`).\n",
      "\n",
      "2. Create a snippet of code which would use that function, and guard its call with **try/except** to keep repeating the same question until correct answer is received, while reporting back whenever incorrect answer was given."
     ]
    },
    {
     "cell_type": "code",
     "collapsed": false,
     "input": [],
     "language": "python",
     "metadata": {},
     "outputs": []
    },
    {
     "cell_type": "markdown",
     "metadata": {},
     "source": [
      "- - -\n",
      "\n",
      "**Hint for future for hungry minds**\n",
      "\n",
      "Module [traceback](https://docs.python.org/2/library/traceback.html) provides convenient functions to harvest information about the stack/exception, so you could include more reasonable logging output than just printing an exception as you caught it."
     ]
    },
    {
     "cell_type": "code",
     "collapsed": false,
     "input": [],
     "language": "python",
     "metadata": {},
     "outputs": []
    }
   ],
   "metadata": {}
  }
 ]
}