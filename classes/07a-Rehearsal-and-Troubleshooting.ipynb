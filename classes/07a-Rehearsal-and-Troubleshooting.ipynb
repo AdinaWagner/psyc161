{
 "metadata": {
  "name": "",
  "signature": "sha256:d694adf07d362535f7f28632803b4ba49032e7bf9e8b6b88c2990e07880673bd"
 },
 "nbformat": 3,
 "nbformat_minor": 0,
 "worksheets": [
  {
   "cells": [
    {
     "cell_type": "heading",
     "level": 1,
     "metadata": {},
     "source": [
      "Hands-on: Python Fundamentals -- Rehearsing Lectures and HW #3"
     ]
    },
    {
     "cell_type": "heading",
     "level": 2,
     "metadata": {},
     "source": [
      "Technicalities"
     ]
    },
    {
     "cell_type": "heading",
     "level": 3,
     "metadata": {},
     "source": [
      "\u26a0 gitk --all"
     ]
    },
    {
     "cell_type": "markdown",
     "metadata": {},
     "source": [
      "- how to comprehend it\n",
      "  - most recent commit is on top \n",
      "  - start as `gitk` to see just current branch history and what lead to it\n",
      "  - start as `gitk --all` to see all available history referenced from any branch (local or remote)\n",
      "- excercises\n",
      "  - clone your HW3 repository\n",
      "  - inspect changes between two commits\n",
      "  - highlight commits which changed particular file\n",
      "  - highlight commits which added/removed some line (e.g.  \"TODO\")\n",
      "  - advanced:  filter out the view to see only changes to the package subdirectory"
     ]
    },
    {
     "cell_type": "heading",
     "level": 3,
     "metadata": {},
     "source": [
      "git index"
     ]
    },
    {
     "cell_type": "markdown",
     "metadata": {},
     "source": [
      "- explain what it is\n",
      "- difference between git push, git commit\n",
      "- magic behind   git commit -a\n",
      "\n",
      "Git workflow (by Oliver Steele, http://www.it.uc3m.es/abel/Adagio/FAQ.html):\n",
      "![Git workflow (by Oliver Steele)](http://www.it.uc3m.es/abel/Adagio/images/GitScenario.png)"
     ]
    },
    {
     "cell_type": "heading",
     "level": 3,
     "metadata": {},
     "source": [
      "PyCharm"
     ]
    },
    {
     "cell_type": "markdown",
     "metadata": {},
     "source": [
      "- line width\n",
      "   -  File -> Settings -> Editor -> Code Style : Right margin (columns) -- make it 79\n",
      "- where to find cheet-sheet for shortcuts\n",
      "   -  Help -> Default Keymap Reference\n",
      "- line numbers\n",
      "   - View -> Active Editor -> Show line numbers"
     ]
    },
    {
     "cell_type": "heading",
     "level": 2,
     "metadata": {},
     "source": [
      "Programming"
     ]
    },
    {
     "cell_type": "markdown",
     "metadata": {},
     "source": [
      "* We should get done done with HW3 by this Thursday -- new one is coming!"
     ]
    },
    {
     "cell_type": "markdown",
     "metadata": {},
     "source": [
      "* Next Tue  we will start talking about possible project ideas.  I will give you some but encourage you to come up with one yourself -- drop me an email.  Hopefully everyone decides within a week after that on what will you do for your final project.  https://github.com/dartmouth-pbs/psyc161#final-project  has more information"
     ]
    },
    {
     "cell_type": "heading",
     "level": 2,
     "metadata": {},
     "source": [
      "Questions"
     ]
    }
   ],
   "metadata": {}
  }
 ]
}