{
 "metadata": {
  "name": "",
  "signature": "sha256:879b962123da8cf3f602288d4ba72245d241a07f098d84f3173cbcdf4d67274b"
 },
 "nbformat": 3,
 "nbformat_minor": 0,
 "worksheets": [
  {
   "cells": [
    {
     "cell_type": "heading",
     "level": 1,
     "metadata": {
      "slideshow": {
       "slide_type": "slide"
      }
     },
     "source": [
      "Hands-on: Python Fundamentals -- Debugging"
     ]
    },
    {
     "cell_type": "heading",
     "level": 2,
     "metadata": {},
     "source": [
      "Objectives"
     ]
    },
    {
     "cell_type": "markdown",
     "metadata": {
      "slideshow": {
       "slide_type": "slide"
      }
     },
     "source": [
      "Upon completion of this lesson, you should be able to:\n",
      "\n",
      "1. Become conscios about all the horrible things which could go wrong in the software you have been using\n",
      "\n",
      "2. Identify three kinds of errors that occur in programming and describe\n",
      "how to correct them\n",
      "\n",
      "3. Understand the purpose of using assert statements\n",
      "\n",
      "4. Elaborate simple \"unit-tests\" of functions"
     ]
    },
    {
     "cell_type": "heading",
     "level": 2,
     "metadata": {},
     "source": [
      "Debugging"
     ]
    },
    {
     "cell_type": "markdown",
     "metadata": {},
     "source": [
      "* Programmers make mistakes *all the time*\n",
      "\n",
      "* Mistakes are called *bugs*\n",
      "\n",
      "![Computer Bug](http://upload.wikimedia.org/wikipedia/commons/8/8a/H96566k.jpg)\n",
      "\n",
      "* Every sufficiently complex program has bugs\n",
      "\n",
      "* The process of finding and fixing bugs is *debugging*\n",
      "\n",
      "* There are 3 main types of errors you will encounter"
     ]
    },
    {
     "cell_type": "heading",
     "level": 2,
     "metadata": {},
     "source": [
      "Syntax Errors"
     ]
    },
    {
     "cell_type": "markdown",
     "metadata": {},
     "source": [
      "* All programming languages are picky about syntax\n",
      "* Try this:"
     ]
    },
    {
     "cell_type": "code",
     "collapsed": false,
     "input": [
      "1+2) + 3"
     ],
     "language": "python",
     "metadata": {},
     "outputs": []
    },
    {
     "cell_type": "markdown",
     "metadata": {},
     "source": [
      "* Syntax errors can be identified\n",
      "* automated code checking and highlighting (color coding)\n",
      "* error messages when you try to run a command or script\n",
      "* Use documentation and help when in doubt!"
     ]
    },
    {
     "cell_type": "heading",
     "level": 2,
     "metadata": {},
     "source": [
      "Runtime errors"
     ]
    },
    {
     "cell_type": "markdown",
     "metadata": {},
     "source": [
      "* Errors that occur when program is running\n",
      "* Usually propagated back to us via \"exceptions\"\n",
      "* (Not all exceptions are to signal Errors)\n",
      "* Identified by testing the program"
     ]
    },
    {
     "cell_type": "code",
     "collapsed": false,
     "input": [
      "1/(1-1)"
     ],
     "language": "python",
     "metadata": {},
     "outputs": []
    },
    {
     "cell_type": "markdown",
     "metadata": {},
     "source": [
      "- - -\n",
      "**Challenge question**\n",
      "\n",
      "Do you know example(s) of exceptions that are not to signal errors?"
     ]
    },
    {
     "cell_type": "heading",
     "level": 2,
     "metadata": {},
     "source": [
      "Semantic or logical error"
     ]
    },
    {
     "cell_type": "markdown",
     "metadata": {},
     "source": [
      "* **The worst kind!!!**\n",
      "* Program runs (and does exactly what you told it to do)\n",
      "\n",
      "    On two occasions I have been asked, \"*Pray, Mr. Babbage, if you put into the machine wrong figures, will the right answers come out?*\" ... I am not able rightly to apprehend the kind of confusion of ideas that could provoke such a question.\n",
      "\n",
      "    \u2014 [Charles Babbage](http://en.wikipedia.org/wiki/Charles_Babbage), Passages from the Life of a Philosopher (1864)\n",
      "\n",
      "\n",
      "* But you made a mistake in the design or implementation\n",
      "* Identified by testing program and checking results (*didn't I mention testing and automation today*)"
     ]
    },
    {
     "cell_type": "code",
     "collapsed": false,
     "input": [
      "def better_sum(x, y):\n",
      "    return x*y"
     ],
     "language": "python",
     "metadata": {},
     "outputs": []
    },
    {
     "cell_type": "code",
     "collapsed": false,
     "input": [
      "better_sum(2, 2)"
     ],
     "language": "python",
     "metadata": {},
     "outputs": []
    },
    {
     "cell_type": "heading",
     "level": 2,
     "metadata": {},
     "source": [
      "How to minimize/prevent bugs"
     ]
    },
    {
     "cell_type": "markdown",
     "metadata": {},
     "source": [
      "* debug them all out: yourself or with your users (the more the merrier)\n",
      "\n",
      "* become assertive of the assumptions you made in your code"
     ]
    },
    {
     "cell_type": "code",
     "collapsed": false,
     "input": [
      "def ttest(number_of_subjects, *data):\n",
      "    \"\"\"Perform t-test using the magic beans.\n",
      "    \n",
      "    Returns\n",
      "    -------\n",
      "    t score\n",
      "    \"\"\" \n",
      "    assert number_of_subjects >= 10, \"We better have at least 10 subjects\"\n",
      "    # ... doing some complicated statistics to compute t\n",
      "    t = 20 # just for an example\n",
      "    assert t<=100, \"It is very bloody unlikely!\"\n",
      "    return t"
     ],
     "language": "python",
     "metadata": {},
     "outputs": []
    },
    {
     "cell_type": "code",
     "collapsed": false,
     "input": [
      "ttest(8)"
     ],
     "language": "python",
     "metadata": {},
     "outputs": []
    },
    {
     "cell_type": "markdown",
     "metadata": {},
     "source": [
      "* automate testing (we do anyways interactively, don't we?) of your code, e.g. for the `better_sum` function above"
     ]
    },
    {
     "cell_type": "code",
     "collapsed": false,
     "input": [
      "def test_better_sum():\n",
      "    assert(better_sum(0, 0) == 0)\n",
      "    assert(better_sum(2, 2) == 4)\n",
      "    assert(better_sum(1, 2) == 3)\n",
      "    assert(better_sum(2, 1) == 3)\n",
      "\n",
      "test_better_sum() # invoke the unit-test, fail, go above fix your sum, re-test"
     ],
     "language": "python",
     "metadata": {},
     "outputs": []
    },
    {
     "cell_type": "heading",
     "level": 2,
     "metadata": {},
     "source": [
      "Testing HOWTO and hints"
     ]
    },
    {
     "cell_type": "markdown",
     "metadata": {},
     "source": [
      "* ** Writing tests is the best rewarding painful joy you could impose upon yourself**\n",
      "\n",
      "* Ideally every function should have a few tests\n",
      "* Test typical value and \"boundary\" conditions (e.g. what i you get 0 or negative number of subjects?)\n",
      "* Test for error to be spit out be the expected one\n",
      "\n",
      "* Use one of the unittest libraries/helpers. In our case we will use [nose](https://nose.readthedocs.org/en/latest/) and its command line tool helper `nosetests`\n"
     ]
    },
    {
     "cell_type": "code",
     "collapsed": false,
     "input": [
      "%%file better_sum.py\n",
      "def better_sum(x, y):\n",
      "    \"\"\"New and improved sum function.\n",
      "    \"\"\"\n",
      "    return x*y\n",
      "\n",
      "from nose.tools import assert_equal\n",
      "\n",
      "def test_better_sum():\n",
      "    assert_equal(better_sum(0, 0), 0)\n",
      "    assert_equal(better_sum(2, 2), 4)\n",
      "    assert_equal(better_sum(1, 2), 3)\n",
      "    assert_equal(better_sum(2, 1), 3)\n",
      "\n",
      "def test_better_sum_bug_in_the_test():\n",
      "    assert(better_sum)\n",
      "    \n",
      "\n",
      "# Do need to invoke test at this point\n",
      "# test_sum() # invoke the unit-test, fail, go above fix your sum, re-test"
     ],
     "language": "python",
     "metadata": {},
     "outputs": []
    },
    {
     "cell_type": "code",
     "collapsed": false,
     "input": [
      "!nosetests -s -v better_sum.py"
     ],
     "language": "python",
     "metadata": {},
     "outputs": []
    },
    {
     "cell_type": "markdown",
     "metadata": {},
     "source": [
      "- - -\n",
      "\n",
      "**Excercises**\n",
      "\n",
      "- Open a terminal and run `nosetests --pdb-failures -s -v better_sum.py` to end up in a pdb debugger upon test failure.  Let's have session together\n",
      "\n",
      "- Fix the `better_sum.py` and verify that tests pass now!"
     ]
    },
    {
     "cell_type": "markdown",
     "metadata": {},
     "source": [
      "- - -\n",
      "\n",
      "**Excercise**\n",
      "\n",
      "We wrote a function `euclidean_distance` in the previous section -- create a unit-test for it."
     ]
    }
   ],
   "metadata": {}
  }
 ]
}